{
 "cells": [
  {
   "cell_type": "code",
   "execution_count": 12,
   "metadata": {},
   "outputs": [],
   "source": [
    "import torch\n",
    "from torch import nn\n",
    "from torch.utils.data import DataLoader\n",
    "from torchvision import datasets\n",
    "from torchvision.transforms import ToTensor\n",
    "import pandas as pd\n",
    "import numpy as np\n",
    "import matplotlib.pyplot as plt\n",
    "import scipy.io"
   ]
  },
  {
   "cell_type": "code",
   "execution_count": 13,
   "metadata": {},
   "outputs": [
    {
     "name": "stdout",
     "output_type": "stream",
     "text": [
      "Using cuda device\n"
     ]
    }
   ],
   "source": [
    "device = (\n",
    "    \"cuda\"\n",
    "    if torch.cuda.is_available()\n",
    "    else \"mps\"\n",
    "    if torch.backends.mps.is_available()\n",
    "    else \"cpu\"\n",
    ")\n",
    "print(f\"Using {device} device\")\n"
   ]
  },
  {
   "cell_type": "code",
   "execution_count": null,
   "metadata": {},
   "outputs": [],
   "source": []
  },
  {
   "cell_type": "code",
   "execution_count": 14,
   "metadata": {},
   "outputs": [
    {
     "data": {
      "text/plain": [
       "dict_keys(['__header__', '__version__', '__globals__', 'images', 'labels'])"
      ]
     },
     "execution_count": 14,
     "metadata": {},
     "output_type": "execute_result"
    }
   ],
   "source": [
    "mat = scipy.io.loadmat('notMNIST_small.mat')\n",
    "mat.keys()\n"
   ]
  },
  {
   "cell_type": "code",
   "execution_count": 15,
   "metadata": {},
   "outputs": [
    {
     "data": {
      "image/png": "[encoded data removed]",
      "text/plain": [
       "<Figure size 640x480 with 1 Axes>"
      ]
     },
     "metadata": {},
     "output_type": "display_data"
    }
   ],
   "source": [
    "mat['images'].shape\n",
    "\n",
    "plt.imshow(mat['images'][:, :, 1], cmap='gray')\n",
    "plt.axis('off')\n",
    "plt.show()"
   ]
  },
  {
   "cell_type": "code",
   "execution_count": 16,
   "metadata": {},
   "outputs": [
    {
     "data": {
      "image/png": "[encoded data removed]",
      "text/plain": [
       "<Figure size 640x480 with 1 Axes>"
      ]
     },
     "metadata": {},
     "output_type": "display_data"
    },
    {
     "data": {
      "text/plain": [
       "(18724, 28, 28)"
      ]
     },
     "execution_count": 16,
     "metadata": {},
     "output_type": "execute_result"
    }
   ],
   "source": [
    "new_img = np.random.rand(18724, 28, 28)\n",
    "for index in range(mat['images'].shape[2]):\n",
    "    new_img[index] = mat['images'][:,:,index]\n",
    "\n",
    "plt.imshow(new_img[1, :, :], cmap='gray')\n",
    "plt.axis('off')\n",
    "plt.show()\n",
    "\n",
    "new_img.shape"
   ]
  },
  {
   "cell_type": "code",
   "execution_count": 17,
   "metadata": {},
   "outputs": [],
   "source": [
    "indices = np.arange(18724)\n",
    "np.random.shuffle(indices)\n",
    "labels = np.array(mat['labels'])\n",
    "\n",
    "\n",
    "shuffled_images = new_img[indices]\n",
    "shuffled_labels = labels[indices]"
   ]
  },
  {
   "cell_type": "code",
   "execution_count": 18,
   "metadata": {},
   "outputs": [
    {
     "data": {
      "text/plain": [
       "(11234, 28, 28)"
      ]
     },
     "execution_count": 18,
     "metadata": {},
     "output_type": "execute_result"
    }
   ],
   "source": [
    "x_train_img = np.array(shuffled_images[0:11234, :,:])\n",
    "x_test_img = np.array(shuffled_images[11235:18724, :,:])\n",
    "y_train_label = np.array(shuffled_labels[0:11234])\n",
    "y_test_label =np.array(shuffled_labels[11235:18724])\n",
    "\n",
    "x_train_img.shape"
   ]
  },
  {
   "cell_type": "code",
   "execution_count": null,
   "metadata": {},
   "outputs": [],
   "source": []
  },
  {
   "cell_type": "code",
   "execution_count": 19,
   "metadata": {},
   "outputs": [],
   "source": [
    "import torch\n",
    "from torch.utils.data import Dataset\n",
    "\n",
    "class CustomDataset(Dataset):\n",
    "    def __init__(self, images, labels, transform=None):\n",
    "\n",
    "        self.images = images\n",
    "        self.labels = labels\n",
    "        self.transform = transform\n",
    "\n",
    "    def __len__(self):\n",
    "        return len(self.labels)\n",
    "\n",
    "    def __getitem__(self, idx):\n",
    "        image = self.images[idx]\n",
    "        label = self.labels[idx]\n",
    "\n",
    "        if self.transform:\n",
    "            image = self.transform(image)\n",
    "\n",
    "        image = torch.tensor(image, dtype=torch.float32)\n",
    "        label = torch.tensor(label, dtype=torch.long)\n",
    "\n",
    "        return image, label"
   ]
  },
  {
   "cell_type": "code",
   "execution_count": 20,
   "metadata": {},
   "outputs": [],
   "source": [
    "test_images = x_test_img\n",
    "test_labels = y_test_label\n",
    "\n",
    "test_dataset = CustomDataset(test_images, test_labels)\n",
    "\n",
    "test_loader = DataLoader(dataset=test_dataset, batch_size=32, shuffle=False)"
   ]
  },
  {
   "cell_type": "code",
   "execution_count": 21,
   "metadata": {},
   "outputs": [],
   "source": [
    "from torch.utils.data import DataLoader\n",
    "\n",
    "\n",
    "images = x_train_img\n",
    "labels = y_train_label\n",
    "\n",
    "custom_dataset = CustomDataset(images, labels)\n",
    "\n",
    "\n",
    "data_loader = DataLoader(dataset=custom_dataset, batch_size=32, shuffle=True)\n"
   ]
  },
  {
   "cell_type": "code",
   "execution_count": 22,
   "metadata": {},
   "outputs": [],
   "source": [
    "import torch\n",
    "import torch.nn as nn\n",
    "import torch.nn.functional as F\n",
    "\n",
    "class SimpleCNN(nn.Module):\n",
    "    def __init__(self, num_classes=10):  \n",
    "        super(SimpleCNN, self).__init__()\n",
    "        self.conv1 = nn.Conv2d(in_channels=1, out_channels=32, kernel_size=3, stride=1, padding=1)\n",
    "        self.conv2 = nn.Conv2d(in_channels=32, out_channels=64, kernel_size=3, stride=1, padding=1)\n",
    "        self.pool = nn.MaxPool2d(kernel_size=2, stride=2, padding=0)\n",
    "        self.fc1 = nn.Linear(64 * 7 * 7, 128)  #(28/2/2 = 7)\n",
    "        self.fc2 = nn.Linear(128, num_classes)\n",
    "\n",
    "    def forward(self, x):\n",
    "        x1 = self.pool(F.relu(self.conv1(x)))\n",
    "        x2 = self.pool(F.relu(self.conv2(x1)))\n",
    "        x3 = x2.view(-1, 64 * 7 * 7)\n",
    "        x4 = F.relu(self.fc1(x3))\n",
    "        out = self.fc2(x4)\n",
    "        return x1, x2, x3, x4, out"
   ]
  },
  {
   "cell_type": "code",
   "execution_count": 23,
   "metadata": {},
   "outputs": [
    {
     "name": "stderr",
     "output_type": "stream",
     "text": [
      "C:\\Users\\denis\\AppData\\Local\\Temp\\ipykernel_15428\\3440450615.py:22: DeprecationWarning: an integer is required (got type numpy.float64).  Implicit conversion to integers using __int__ is deprecated, and may be removed in a future version of Python.\n",
      "  label = torch.tensor(label, dtype=torch.long)\n"
     ]
    },
    {
     "name": "stdout",
     "output_type": "stream",
     "text": [
      "Epoch 1/25, Step 100/352, Loss: 0.07032\n",
      "Epoch 1/25, Step 200/352, Loss: 0.17281\n",
      "Epoch 1/25, Step 300/352, Loss: 0.91409\n",
      "Epoch 2/25, Step 100/352, Loss: 0.26282\n",
      "Epoch 2/25, Step 200/352, Loss: 0.19874\n",
      "Epoch 2/25, Step 300/352, Loss: 0.25168\n",
      "Epoch 3/25, Step 100/352, Loss: 0.34915\n",
      "Epoch 3/25, Step 200/352, Loss: 0.26704\n",
      "Epoch 3/25, Step 300/352, Loss: 0.10944\n",
      "Epoch 4/25, Step 100/352, Loss: 0.07963\n",
      "Epoch 4/25, Step 200/352, Loss: 0.19690\n",
      "Epoch 4/25, Step 300/352, Loss: 0.11577\n",
      "Epoch 5/25, Step 100/352, Loss: 0.19902\n",
      "Epoch 5/25, Step 200/352, Loss: 0.15189\n",
      "Epoch 5/25, Step 300/352, Loss: 0.01209\n",
      "Epoch 6/25, Step 100/352, Loss: 0.02830\n",
      "Epoch 6/25, Step 200/352, Loss: 0.04455\n",
      "Epoch 6/25, Step 300/352, Loss: 0.14047\n",
      "Epoch 7/25, Step 100/352, Loss: 0.05660\n",
      "Epoch 7/25, Step 200/352, Loss: 0.04032\n",
      "Epoch 7/25, Step 300/352, Loss: 0.07364\n",
      "Epoch 8/25, Step 100/352, Loss: 0.13813\n",
      "Epoch 8/25, Step 200/352, Loss: 0.10720\n",
      "Epoch 8/25, Step 300/352, Loss: 0.08797\n",
      "Epoch 9/25, Step 100/352, Loss: 0.03944\n",
      "Epoch 9/25, Step 200/352, Loss: 0.01343\n",
      "Epoch 9/25, Step 300/352, Loss: 0.07529\n",
      "Epoch 10/25, Step 100/352, Loss: 0.00008\n",
      "Epoch 10/25, Step 200/352, Loss: 0.00289\n",
      "Epoch 10/25, Step 300/352, Loss: 0.00641\n",
      "Epoch 11/25, Step 100/352, Loss: 0.00529\n",
      "Epoch 11/25, Step 200/352, Loss: 0.01888\n",
      "Epoch 11/25, Step 300/352, Loss: 0.00285\n",
      "Epoch 12/25, Step 100/352, Loss: 0.00241\n",
      "Epoch 12/25, Step 200/352, Loss: 0.00545\n",
      "Epoch 12/25, Step 300/352, Loss: 0.00202\n",
      "Epoch 13/25, Step 100/352, Loss: 0.01154\n",
      "Epoch 13/25, Step 200/352, Loss: 0.00894\n",
      "Epoch 13/25, Step 300/352, Loss: 0.00809\n",
      "Epoch 14/25, Step 100/352, Loss: 0.00135\n",
      "Epoch 14/25, Step 200/352, Loss: 0.00161\n",
      "Epoch 14/25, Step 300/352, Loss: 0.01774\n",
      "Epoch 15/25, Step 100/352, Loss: 0.00270\n",
      "Epoch 15/25, Step 200/352, Loss: 0.00202\n",
      "Epoch 15/25, Step 300/352, Loss: 0.00408\n",
      "Epoch 16/25, Step 100/352, Loss: 0.00095\n",
      "Epoch 16/25, Step 200/352, Loss: 0.00442\n",
      "Epoch 16/25, Step 300/352, Loss: 0.00001\n",
      "Epoch 17/25, Step 100/352, Loss: 0.00084\n",
      "Epoch 17/25, Step 200/352, Loss: 0.00535\n",
      "Epoch 17/25, Step 300/352, Loss: 0.00002\n",
      "Epoch 18/25, Step 100/352, Loss: 0.00140\n",
      "Epoch 18/25, Step 200/352, Loss: 0.00117\n",
      "Epoch 18/25, Step 300/352, Loss: 0.00196\n",
      "Epoch 19/25, Step 100/352, Loss: 0.00124\n",
      "Epoch 19/25, Step 200/352, Loss: 0.00018\n",
      "Epoch 19/25, Step 300/352, Loss: 0.00051\n",
      "Epoch 20/25, Step 100/352, Loss: 0.00152\n",
      "Epoch 20/25, Step 200/352, Loss: 0.00279\n",
      "Epoch 20/25, Step 300/352, Loss: 0.00031\n",
      "Epoch 21/25, Step 100/352, Loss: 0.00037\n",
      "Epoch 21/25, Step 200/352, Loss: 0.00024\n",
      "Epoch 21/25, Step 300/352, Loss: 0.00057\n",
      "Epoch 22/25, Step 100/352, Loss: 0.00009\n",
      "Epoch 22/25, Step 200/352, Loss: 0.00106\n",
      "Epoch 22/25, Step 300/352, Loss: 0.00119\n",
      "Epoch 23/25, Step 100/352, Loss: 0.00059\n",
      "Epoch 23/25, Step 200/352, Loss: 0.00002\n",
      "Epoch 23/25, Step 300/352, Loss: 0.00003\n",
      "Epoch 24/25, Step 100/352, Loss: 0.00021\n",
      "Epoch 24/25, Step 200/352, Loss: 0.00036\n",
      "Epoch 24/25, Step 300/352, Loss: 0.00068\n",
      "Epoch 25/25, Step 100/352, Loss: 0.00107\n",
      "Epoch 25/25, Step 200/352, Loss: 0.00066\n",
      "Epoch 25/25, Step 300/352, Loss: 0.00003\n"
     ]
    },
    {
     "data": {
      "image/png": "[encoded data removed]",
      "text/plain": [
       "<Figure size 640x480 with 1 Axes>"
      ]
     },
     "metadata": {},
     "output_type": "display_data"
    }
   ],
   "source": [
    "model_2 = SimpleCNN(num_classes=10) \n",
    "criterion = nn.CrossEntropyLoss()  \n",
    "optimizer = torch.optim.SGD(model_2.parameters(), lr=0.001, momentum=0.8)  \n",
    "\n",
    "model_2 = model_2.to(device)\n",
    "\n",
    "num_epochs = 25  \n",
    "epoch_losses = []\n",
    "\n",
    "for epoch in range(num_epochs):\n",
    "    epoch_loss = 0  \n",
    "    num_batches = 0  \n",
    "\n",
    "    for i, (images, labels) in enumerate(data_loader):\n",
    "        images, labels = images.to(device), labels.to(device)\n",
    "        images = images.unsqueeze(1)\n",
    "        \n",
    "        _, _, _, _, outputs = model_2(images)\n",
    "        loss = criterion(outputs, labels)\n",
    "\n",
    "        optimizer.zero_grad()\n",
    "        loss.backward()\n",
    "        optimizer.step()\n",
    "        epoch_loss += loss.item()\n",
    "        num_batches += 1\n",
    "\n",
    "        if (i+1) % 100 == 0:\n",
    "            print(f'Epoch {epoch+1}/{num_epochs}, Step {i+1}/{len(data_loader)}, Loss: {loss.item():.5f}')\n",
    "\n",
    "    epoch_loss /= num_batches\n",
    "    epoch_losses.append(epoch_loss)\n",
    "\n",
    "plt.plot(epoch_losses)\n",
    "plt.ylabel('Average Epoch Loss')\n",
    "plt.xlabel('Epoch')\n",
    "plt.title('Loss over Epochs')\n",
    "plt.show()\n"
   ]
  },
  {
   "cell_type": "code",
   "execution_count": 24,
   "metadata": {},
   "outputs": [
    {
     "name": "stderr",
     "output_type": "stream",
     "text": [
      "C:\\Users\\denis\\AppData\\Local\\Temp\\ipykernel_15428\\3440450615.py:22: DeprecationWarning: an integer is required (got type numpy.float64).  Implicit conversion to integers using __int__ is deprecated, and may be removed in a future version of Python.\n",
      "  label = torch.tensor(label, dtype=torch.long)\n"
     ]
    },
    {
     "name": "stdout",
     "output_type": "stream",
     "text": [
      "Accuracy: 93.80%\n"
     ]
    }
   ],
   "source": [
    "def test_model_2(model_2, test_loader):\n",
    "    model_2 = model_2.to(device)\n",
    "    \n",
    "    model_2.eval() \n",
    "    correct = 0\n",
    "    total = 0\n",
    "    with torch.no_grad():  \n",
    "        for images, labels in test_loader:\n",
    "            images, labels = images.to(device), labels.to(device)\n",
    "            \n",
    "            images = images.unsqueeze(1)  \n",
    "            _, _, _, _,outputs = model_2(images)\n",
    "            _, predicted = torch.max(outputs.data, 1)  \n",
    "            total += labels.size(0)\n",
    "            correct += (predicted == labels).sum().item()\n",
    "\n",
    "    accuracy = 100 * correct / total\n",
    "    print(f'Accuracy: {accuracy:.2f}%')\n",
    "\n",
    "\n",
    "test_model_2(model_2, test_loader)"
   ]
  },
  {
   "cell_type": "code",
   "execution_count": 35,
   "metadata": {},
   "outputs": [
    {
     "name": "stderr",
     "output_type": "stream",
     "text": [
      "C:\\Users\\denis\\AppData\\Local\\Temp\\ipykernel_15428\\3440450615.py:22: DeprecationWarning: an integer is required (got type numpy.float64).  Implicit conversion to integers using __int__ is deprecated, and may be removed in a future version of Python.\n",
      "  label = torch.tensor(label, dtype=torch.long)\n"
     ]
    },
    {
     "data": {
      "image/png": "[encoded data removed]",
      "text/plain": [
       "<Figure size 600x500 with 2 Axes>"
      ]
     },
     "metadata": {},
     "output_type": "display_data"
    }
   ],
   "source": [
    "from sklearn.metrics import confusion_matrix\n",
    "import matplotlib.pyplot as plt\n",
    "import seaborn as sns\n",
    "\n",
    "def get_all_preds_and_labels(model, loader, device):\n",
    "    all_preds = []\n",
    "    all_labels = []\n",
    "    \n",
    "    for images, labels in loader:\n",
    "        images, labels = images.to(device), labels.to(device)\n",
    "        images = images.unsqueeze(1)\n",
    "        _, _, _, _, outputs = model(images) \n",
    "        _, preds = torch.max(outputs, 1)\n",
    "\n",
    "        all_preds.append(preds.cpu().numpy())\n",
    "        all_labels.append(labels.cpu().numpy())\n",
    "    return np.concatenate(all_preds, axis=0), np.concatenate(all_labels, axis=0)\n",
    "\n",
    "def plot_confusion_matrix(model, loader, device, class_names):\n",
    "    preds, labels = get_all_preds_and_labels(model, loader, device)\n",
    "    cm = confusion_matrix(labels, preds)\n",
    "    \n",
    "    plt.figure(figsize=(6, 5))\n",
    "    sns.heatmap(cm, annot=True, fmt=\"d\", xticklabels=class_names, yticklabels=class_names)\n",
    "    plt.xlabel('Predicted')\n",
    "    plt.ylabel('Actual')\n",
    "    plt.show()\n",
    "\n",
    "class_names = ['A', 'B', 'C', 'D', 'E', 'F', 'G', 'H', 'I', 'J']\n",
    "device = torch.device(\"cuda\" if torch.cuda.is_available() else \"cpu\")\n",
    "plot_confusion_matrix(model_2, test_loader, device, class_names)"
   ]
  },
  {
   "cell_type": "code",
   "execution_count": 25,
   "metadata": {},
   "outputs": [],
   "source": [
    "\n",
    "\n",
    "class SimpleNN(nn.Module):\n",
    "    def __init__(self):\n",
    "        super(SimpleNN, self).__init__()\n",
    "        self.fc1 = nn.Linear(28 * 28, 512)\n",
    "        self.fc2 = nn.Linear(512, 512*2)\n",
    "        self.fc3 = nn.Linear(512*2, 512)\n",
    "        self.fc4 = nn.Linear(512, 10)    \n",
    "        self.dropout = nn.Dropout2d(p=0.2)\n",
    "\n",
    "\n",
    "    def forward(self, x):\n",
    "        x = x.view(-1, 28 * 28)  \n",
    "        x = F.relu(self.fc1(x))\n",
    "        x = F.relu(self.fc2(x))\n",
    "        x = F.relu(self.dropout(x))\n",
    "        x = F.relu(self.fc3(x))\n",
    "        x = F.relu(self.dropout(x))\n",
    "        x = self.fc4(x)\n",
    "        return x\n"
   ]
  },
  {
   "cell_type": "code",
   "execution_count": 26,
   "metadata": {},
   "outputs": [
    {
     "name": "stderr",
     "output_type": "stream",
     "text": [
      "C:\\Users\\denis\\AppData\\Local\\Temp\\ipykernel_15428\\3440450615.py:22: DeprecationWarning: an integer is required (got type numpy.float64).  Implicit conversion to integers using __int__ is deprecated, and may be removed in a future version of Python.\n",
      "  label = torch.tensor(label, dtype=torch.long)\n",
      "c:\\Users\\denis\\anaconda3\\lib\\site-packages\\torch\\nn\\functional.py:1331: UserWarning: dropout2d: Received a 2-D input to dropout2d, which is deprecated and will result in an error in a future release. To retain the behavior and silence this warning, please use dropout instead. Note that dropout2d exists to provide channel-wise dropout on inputs with 2 spatial dimensions, a channel dimension, and an optional batch dimension (i.e. 3D or 4D inputs).\n",
      "  warnings.warn(warn_msg)\n"
     ]
    },
    {
     "name": "stdout",
     "output_type": "stream",
     "text": [
      "Epoch 1/20, Step 100/352, Loss: 0.68005\n",
      "Epoch 1/20, Step 200/352, Loss: 0.35035\n",
      "Epoch 1/20, Step 300/352, Loss: 0.73694\n",
      "Epoch 2/20, Step 100/352, Loss: 0.59989\n",
      "Epoch 2/20, Step 200/352, Loss: 0.30360\n",
      "Epoch 2/20, Step 300/352, Loss: 0.90763\n",
      "Epoch 3/20, Step 100/352, Loss: 0.59594\n",
      "Epoch 3/20, Step 200/352, Loss: 0.59593\n",
      "Epoch 3/20, Step 300/352, Loss: 0.37110\n",
      "Epoch 4/20, Step 100/352, Loss: 0.21246\n",
      "Epoch 4/20, Step 200/352, Loss: 0.71483\n",
      "Epoch 4/20, Step 300/352, Loss: 0.24770\n",
      "Epoch 5/20, Step 100/352, Loss: 0.71051\n",
      "Epoch 5/20, Step 200/352, Loss: 0.24707\n",
      "Epoch 5/20, Step 300/352, Loss: 0.04784\n",
      "Epoch 6/20, Step 100/352, Loss: 0.25283\n",
      "Epoch 6/20, Step 200/352, Loss: 0.34262\n",
      "Epoch 6/20, Step 300/352, Loss: 0.33855\n",
      "Epoch 7/20, Step 100/352, Loss: 0.12770\n",
      "Epoch 7/20, Step 200/352, Loss: 0.43427\n",
      "Epoch 7/20, Step 300/352, Loss: 0.60286\n",
      "Epoch 8/20, Step 100/352, Loss: 0.43837\n",
      "Epoch 8/20, Step 200/352, Loss: 0.26730\n",
      "Epoch 8/20, Step 300/352, Loss: 0.38665\n",
      "Epoch 9/20, Step 100/352, Loss: 0.15182\n",
      "Epoch 9/20, Step 200/352, Loss: 0.13319\n",
      "Epoch 9/20, Step 300/352, Loss: 0.14408\n",
      "Epoch 10/20, Step 100/352, Loss: 0.15112\n",
      "Epoch 10/20, Step 200/352, Loss: 0.15208\n",
      "Epoch 10/20, Step 300/352, Loss: 0.62610\n",
      "Epoch 11/20, Step 100/352, Loss: 0.41218\n",
      "Epoch 11/20, Step 200/352, Loss: 0.32674\n",
      "Epoch 11/20, Step 300/352, Loss: 0.01142\n",
      "Epoch 12/20, Step 100/352, Loss: 0.60175\n",
      "Epoch 12/20, Step 200/352, Loss: 0.28106\n",
      "Epoch 12/20, Step 300/352, Loss: 0.34355\n",
      "Epoch 13/20, Step 100/352, Loss: 0.18758\n",
      "Epoch 13/20, Step 200/352, Loss: 0.27259\n",
      "Epoch 13/20, Step 300/352, Loss: 0.20048\n",
      "Epoch 14/20, Step 100/352, Loss: 0.27105\n",
      "Epoch 14/20, Step 200/352, Loss: 0.14188\n",
      "Epoch 14/20, Step 300/352, Loss: 0.64779\n",
      "Epoch 15/20, Step 100/352, Loss: 0.39524\n",
      "Epoch 15/20, Step 200/352, Loss: 0.12948\n",
      "Epoch 15/20, Step 300/352, Loss: 0.67303\n",
      "Epoch 16/20, Step 100/352, Loss: 0.27679\n",
      "Epoch 16/20, Step 200/352, Loss: 0.34764\n",
      "Epoch 16/20, Step 300/352, Loss: 0.02105\n",
      "Epoch 17/20, Step 100/352, Loss: 0.19849\n",
      "Epoch 17/20, Step 200/352, Loss: 0.92863\n",
      "Epoch 17/20, Step 300/352, Loss: 0.09711\n",
      "Epoch 18/20, Step 100/352, Loss: 0.09373\n",
      "Epoch 18/20, Step 200/352, Loss: 0.20415\n",
      "Epoch 18/20, Step 300/352, Loss: 0.03749\n",
      "Epoch 19/20, Step 100/352, Loss: 0.13093\n",
      "Epoch 19/20, Step 200/352, Loss: 0.31702\n",
      "Epoch 19/20, Step 300/352, Loss: 0.44808\n",
      "Epoch 20/20, Step 100/352, Loss: 0.35489\n",
      "Epoch 20/20, Step 200/352, Loss: 0.00010\n",
      "Epoch 20/20, Step 300/352, Loss: 0.29057\n"
     ]
    }
   ],
   "source": [
    "model = SimpleNN() \n",
    "model = model.to(device)\n",
    "criterion = nn.CrossEntropyLoss()  \n",
    "optimizer = torch.optim.Adam(model.parameters(), lr=0.001)  \n",
    "\n",
    "\n",
    "num_epochs = 20  \n",
    "\n",
    "for epoch in range(num_epochs):\n",
    "    for i, (images, labels) in enumerate(data_loader):\n",
    "        images, labels = images.to(device), labels.to(device)\n",
    "        images = images.unsqueeze(1)\n",
    "        \n",
    "        outputs = model(images)\n",
    "        loss = criterion(outputs, labels)\n",
    "\n",
    "        optimizer.zero_grad()\n",
    "        loss.backward()\n",
    "        optimizer.step()\n",
    "        \n",
    "        if (i+1) % 100 == 0:\n",
    "            print(f'Epoch {epoch+1}/{num_epochs}, Step {i+1}/{len(data_loader)}, Loss: {loss.item():.5f}')\n",
    "\n"
   ]
  },
  {
   "cell_type": "code",
   "execution_count": 27,
   "metadata": {},
   "outputs": [
    {
     "name": "stderr",
     "output_type": "stream",
     "text": [
      "C:\\Users\\denis\\AppData\\Local\\Temp\\ipykernel_15428\\3440450615.py:22: DeprecationWarning: an integer is required (got type numpy.float64).  Implicit conversion to integers using __int__ is deprecated, and may be removed in a future version of Python.\n",
      "  label = torch.tensor(label, dtype=torch.long)\n"
     ]
    },
    {
     "name": "stdout",
     "output_type": "stream",
     "text": [
      "Accuracy: 89.56%\n"
     ]
    }
   ],
   "source": [
    "def test_model(model, test_loader):\n",
    "    model.eval() \n",
    "    correct = 0\n",
    "    total = 0\n",
    "    with torch.no_grad():  \n",
    "        for images, labels in test_loader:\n",
    "            images = images.unsqueeze(1)  \n",
    "            \n",
    "            outputs = model(images)\n",
    "            _, predicted = torch.max(outputs.data, 1)  \n",
    "            total += labels.size(0)\n",
    "            correct += (predicted == labels).sum().item()\n",
    "\n",
    "    accuracy = 100 * correct / total\n",
    "    print(f'Accuracy: {accuracy:.2f}%')\n",
    "\n",
    "\n",
    "test_model(model, test_loader)"
   ]
  }
 ],
 "metadata": {
  "kernelspec": {
   "display_name": "base",
   "language": "python",
   "name": "python3"
  },
  "language_info": {
   "codemirror_mode": {
    "name": "ipython",
    "version": 3
   },
   "file_extension": ".py",
   "mimetype": "text/x-python",
   "name": "python",
   "nbconvert_exporter": "python",
   "pygments_lexer": "ipython3",
   "version": "3.9.13"
  },
  "orig_nbformat": 4
 },
 "nbformat": 4,
 "nbformat_minor": 2
}
