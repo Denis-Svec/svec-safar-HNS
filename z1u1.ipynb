{
 "cells": [
  {
   "cell_type": "code",
   "execution_count": 1,
   "metadata": {},
   "outputs": [],
   "source": [
    "import torch\n",
    "from torch import nn\n",
    "from torch.utils.data import DataLoader\n",
    "from torchvision import datasets\n",
    "from torchvision.transforms import ToTensor\n",
    "import pandas as pd\n",
    "import numpy as np\n",
    "import matplotlib.pyplot as plt\n",
    "import scipy.io"
   ]
  },
  {
   "cell_type": "code",
   "execution_count": 2,
   "metadata": {},
   "outputs": [
    {
     "name": "stdout",
     "output_type": "stream",
     "text": [
      "Using cuda device\n"
     ]
    }
   ],
   "source": [
    "device = (\n",
    "    \"cuda\"\n",
    "    if torch.cuda.is_available()\n",
    "    else \"mps\"\n",
    "    if torch.backends.mps.is_available()\n",
    "    else \"cpu\"\n",
    ")\n",
    "print(f\"Using {device} device\")\n"
   ]
  },
  {
   "cell_type": "code",
   "execution_count": null,
   "metadata": {},
   "outputs": [],
   "source": []
  },
  {
   "cell_type": "code",
   "execution_count": 3,
   "metadata": {},
   "outputs": [
    {
     "data": {
      "text/plain": [
       "dict_keys(['__header__', '__version__', '__globals__', 'images', 'labels'])"
      ]
     },
     "execution_count": 3,
     "metadata": {},
     "output_type": "execute_result"
    }
   ],
   "source": [
    "mat = scipy.io.loadmat('notMNIST_small.mat')\n",
    "mat.keys()\n"
   ]
  },
  {
   "cell_type": "code",
   "execution_count": 4,
   "metadata": {},
   "outputs": [
    {
     "data": {
      "image/png": "[encoded data removed]",
      "text/plain": [
       "<Figure size 640x480 with 1 Axes>"
      ]
     },
     "metadata": {},
     "output_type": "display_data"
    }
   ],
   "source": [
    "mat['images'].shape\n",
    "\n",
    "plt.imshow(mat['images'][:, :, 1], cmap='gray')\n",
    "plt.axis('off')\n",
    "plt.show()"
   ]
  },
  {
   "cell_type": "code",
   "execution_count": 5,
   "metadata": {},
   "outputs": [
    {
     "data": {
      "image/png": "[encoded data removed]",
      "text/plain": [
       "<Figure size 640x480 with 1 Axes>"
      ]
     },
     "metadata": {},
     "output_type": "display_data"
    },
    {
     "data": {
      "text/plain": [
       "(18724, 28, 28)"
      ]
     },
     "execution_count": 5,
     "metadata": {},
     "output_type": "execute_result"
    }
   ],
   "source": [
    "new_img = np.random.rand(18724, 28, 28)\n",
    "for index in range(mat['images'].shape[2]):\n",
    "    new_img[index] = mat['images'][:,:,index]\n",
    "\n",
    "plt.imshow(new_img[1, :, :], cmap='gray')\n",
    "plt.axis('off')\n",
    "plt.show()\n",
    "\n",
    "new_img.shape"
   ]
  },
  {
   "cell_type": "code",
   "execution_count": 6,
   "metadata": {},
   "outputs": [],
   "source": [
    "indices = np.arange(18724)\n",
    "np.random.shuffle(indices)\n",
    "labels = np.array(mat['labels'])\n",
    "\n",
    "\n",
    "shuffled_images = new_img[indices]\n",
    "shuffled_labels = labels[indices]"
   ]
  },
  {
   "cell_type": "code",
   "execution_count": 7,
   "metadata": {},
   "outputs": [
    {
     "data": {
      "text/plain": [
       "(11234, 28, 28)"
      ]
     },
     "execution_count": 7,
     "metadata": {},
     "output_type": "execute_result"
    }
   ],
   "source": [
    "x_train_img = np.array(shuffled_images[0:11234, :,:])\n",
    "x_test_img = np.array(shuffled_images[11235:18724, :,:])\n",
    "y_train_label = np.array(shuffled_labels[0:11234])\n",
    "y_test_label =np.array(shuffled_labels[11235:18724])\n",
    "\n",
    "x_train_img.shape"
   ]
  },
  {
   "cell_type": "code",
   "execution_count": null,
   "metadata": {},
   "outputs": [],
   "source": []
  },
  {
   "cell_type": "code",
   "execution_count": 8,
   "metadata": {},
   "outputs": [],
   "source": [
    "import torch\n",
    "from torch.utils.data import Dataset\n",
    "\n",
    "class CustomDataset(Dataset):\n",
    "    def __init__(self, images, labels, transform=None):\n",
    "\n",
    "        self.images = images\n",
    "        self.labels = labels\n",
    "        self.transform = transform\n",
    "\n",
    "    def __len__(self):\n",
    "        return len(self.labels)\n",
    "\n",
    "    def __getitem__(self, idx):\n",
    "        image = self.images[idx]\n",
    "        label = self.labels[idx]\n",
    "\n",
    "        if self.transform:\n",
    "            image = self.transform(image)\n",
    "\n",
    "        image = torch.tensor(image, dtype=torch.float32)\n",
    "        label = torch.tensor(label, dtype=torch.long)\n",
    "\n",
    "        return image, label"
   ]
  },
  {
   "cell_type": "code",
   "execution_count": 9,
   "metadata": {},
   "outputs": [],
   "source": [
    "test_images = x_test_img\n",
    "test_labels = y_test_label\n",
    "\n",
    "test_dataset = CustomDataset(test_images, test_labels)\n",
    "\n",
    "test_loader = DataLoader(dataset=test_dataset, batch_size=32, shuffle=False)"
   ]
  },
  {
   "cell_type": "code",
   "execution_count": 10,
   "metadata": {},
   "outputs": [],
   "source": [
    "from torch.utils.data import DataLoader\n",
    "\n",
    "\n",
    "images = x_train_img\n",
    "labels = y_train_label\n",
    "\n",
    "custom_dataset = CustomDataset(images, labels)\n",
    "\n",
    "\n",
    "data_loader = DataLoader(dataset=custom_dataset, batch_size=32, shuffle=True)\n"
   ]
  },
  {
   "cell_type": "code",
   "execution_count": 11,
   "metadata": {},
   "outputs": [],
   "source": [
    "import torch\n",
    "import torch.nn as nn\n",
    "import torch.nn.functional as F\n",
    "\n",
    "class SimpleCNN(nn.Module):\n",
    "    def __init__(self, num_classes=10):  \n",
    "        super(SimpleCNN, self).__init__()\n",
    "        self.conv1 = nn.Conv2d(in_channels=1, out_channels=32, kernel_size=3, stride=1, padding=1)\n",
    "        self.conv2 = nn.Conv2d(in_channels=32, out_channels=64, kernel_size=3, stride=1, padding=1)\n",
    "        self.pool = nn.MaxPool2d(kernel_size=2, stride=2, padding=0)\n",
    "        self.fc1 = nn.Linear(64 * 7 * 7, 128)  #(28/2/2 = 7)\n",
    "        self.fc2 = nn.Linear(128, num_classes)\n",
    "\n",
    "    def forward(self, x):\n",
    "        x1 = self.pool(F.relu(self.conv1(x)))\n",
    "        x2 = self.pool(F.relu(self.conv2(x1)))\n",
    "        x3 = x2.view(-1, 64 * 7 * 7)\n",
    "        x4 = F.relu(self.fc1(x3))\n",
    "        out = self.fc2(x4)\n",
    "        return x1, x2, x3, x4, out"
   ]
  },
  {
   "cell_type": "code",
   "execution_count": 12,
   "metadata": {},
   "outputs": [
    {
     "name": "stderr",
     "output_type": "stream",
     "text": [
      "C:\\Users\\denis\\AppData\\Local\\Temp\\ipykernel_17156\\3440450615.py:22: DeprecationWarning: an integer is required (got type numpy.float64).  Implicit conversion to integers using __int__ is deprecated, and may be removed in a future version of Python.\n",
      "  label = torch.tensor(label, dtype=torch.long)\n"
     ]
    },
    {
     "name": "stdout",
     "output_type": "stream",
     "text": [
      "Epoch 1/25, Step 100/352, Loss: 0.71455\n",
      "Epoch 1/25, Step 200/352, Loss: 0.40417\n",
      "Epoch 1/25, Step 300/352, Loss: 0.51370\n",
      "Epoch 2/25, Step 100/352, Loss: 0.14169\n",
      "Epoch 2/25, Step 200/352, Loss: 0.12678\n",
      "Epoch 2/25, Step 300/352, Loss: 0.26104\n",
      "Epoch 3/25, Step 100/352, Loss: 0.11172\n",
      "Epoch 3/25, Step 200/352, Loss: 0.07587\n",
      "Epoch 3/25, Step 300/352, Loss: 0.05737\n",
      "Epoch 4/25, Step 100/352, Loss: 0.07229\n",
      "Epoch 4/25, Step 200/352, Loss: 0.32144\n",
      "Epoch 4/25, Step 300/352, Loss: 0.03388\n",
      "Epoch 5/25, Step 100/352, Loss: 0.26320\n",
      "Epoch 5/25, Step 200/352, Loss: 0.10552\n",
      "Epoch 5/25, Step 300/352, Loss: 0.14148\n",
      "Epoch 6/25, Step 100/352, Loss: 0.01607\n",
      "Epoch 6/25, Step 200/352, Loss: 0.00761\n",
      "Epoch 6/25, Step 300/352, Loss: 0.01536\n",
      "Epoch 7/25, Step 100/352, Loss: 0.09870\n",
      "Epoch 7/25, Step 200/352, Loss: 0.06356\n",
      "Epoch 7/25, Step 300/352, Loss: 0.00995\n",
      "Epoch 8/25, Step 100/352, Loss: 0.01636\n",
      "Epoch 8/25, Step 200/352, Loss: 0.02263\n",
      "Epoch 8/25, Step 300/352, Loss: 0.02169\n",
      "Epoch 9/25, Step 100/352, Loss: 0.00144\n",
      "Epoch 9/25, Step 200/352, Loss: 0.00426\n",
      "Epoch 9/25, Step 300/352, Loss: 0.01507\n",
      "Epoch 10/25, Step 100/352, Loss: 0.03605\n",
      "Epoch 10/25, Step 200/352, Loss: 0.01497\n",
      "Epoch 10/25, Step 300/352, Loss: 0.16205\n",
      "Epoch 11/25, Step 100/352, Loss: 0.00684\n",
      "Epoch 11/25, Step 200/352, Loss: 0.00700\n",
      "Epoch 11/25, Step 300/352, Loss: 0.00085\n",
      "Epoch 12/25, Step 100/352, Loss: 0.00178\n",
      "Epoch 12/25, Step 200/352, Loss: 0.00515\n",
      "Epoch 12/25, Step 300/352, Loss: 0.00110\n",
      "Epoch 13/25, Step 100/352, Loss: 0.02109\n",
      "Epoch 13/25, Step 200/352, Loss: 0.00317\n",
      "Epoch 13/25, Step 300/352, Loss: 0.00371\n",
      "Epoch 14/25, Step 100/352, Loss: 0.00032\n",
      "Epoch 14/25, Step 200/352, Loss: 0.00702\n",
      "Epoch 14/25, Step 300/352, Loss: 0.00167\n",
      "Epoch 15/25, Step 100/352, Loss: 0.00563\n",
      "Epoch 15/25, Step 200/352, Loss: 0.00001\n",
      "Epoch 15/25, Step 300/352, Loss: 0.00402\n",
      "Epoch 16/25, Step 100/352, Loss: 0.00100\n",
      "Epoch 16/25, Step 200/352, Loss: 0.00003\n",
      "Epoch 16/25, Step 300/352, Loss: 0.00130\n",
      "Epoch 17/25, Step 100/352, Loss: 0.00833\n",
      "Epoch 17/25, Step 200/352, Loss: 0.00230\n",
      "Epoch 17/25, Step 300/352, Loss: 0.00075\n",
      "Epoch 18/25, Step 100/352, Loss: 0.00017\n",
      "Epoch 18/25, Step 200/352, Loss: 0.00486\n",
      "Epoch 18/25, Step 300/352, Loss: 0.00024\n",
      "Epoch 19/25, Step 100/352, Loss: 0.00235\n",
      "Epoch 19/25, Step 200/352, Loss: 0.00084\n",
      "Epoch 19/25, Step 300/352, Loss: 0.01404\n",
      "Epoch 20/25, Step 100/352, Loss: 0.00173\n",
      "Epoch 20/25, Step 200/352, Loss: 0.00045\n",
      "Epoch 20/25, Step 300/352, Loss: 0.00276\n",
      "Epoch 21/25, Step 100/352, Loss: 0.00022\n",
      "Epoch 21/25, Step 200/352, Loss: 0.00034\n",
      "Epoch 21/25, Step 300/352, Loss: 0.00144\n",
      "Epoch 22/25, Step 100/352, Loss: 0.00103\n",
      "Epoch 22/25, Step 200/352, Loss: 0.00078\n",
      "Epoch 22/25, Step 300/352, Loss: 0.00048\n",
      "Epoch 23/25, Step 100/352, Loss: 0.00851\n",
      "Epoch 23/25, Step 200/352, Loss: 0.14855\n",
      "Epoch 23/25, Step 300/352, Loss: 0.00043\n",
      "Epoch 24/25, Step 100/352, Loss: 0.00078\n",
      "Epoch 24/25, Step 200/352, Loss: 0.00118\n",
      "Epoch 24/25, Step 300/352, Loss: 0.00030\n",
      "Epoch 25/25, Step 100/352, Loss: 0.00186\n",
      "Epoch 25/25, Step 200/352, Loss: 0.00327\n",
      "Epoch 25/25, Step 300/352, Loss: 0.00132\n"
     ]
    },
    {
     "data": {
      "image/png": "[encoded data removed]",
      "text/plain": [
       "<Figure size 640x480 with 1 Axes>"
      ]
     },
     "metadata": {},
     "output_type": "display_data"
    }
   ],
   "source": [
    "model_2 = SimpleCNN(num_classes=10) \n",
    "criterion = nn.CrossEntropyLoss()  \n",
    "optimizer = torch.optim.SGD(model_2.parameters(), lr=0.001, momentum=0.8)  \n",
    "\n",
    "model_2 = model_2.to(device)\n",
    "\n",
    "num_epochs = 25  \n",
    "epoch_losses = []\n",
    "\n",
    "for epoch in range(num_epochs):\n",
    "    epoch_loss = 0  \n",
    "    num_batches = 0  \n",
    "\n",
    "    for i, (images, labels) in enumerate(data_loader):\n",
    "        images, labels = images.to(device), labels.to(device)\n",
    "        images = images.unsqueeze(1)\n",
    "        \n",
    "        _, _, _, _, outputs = model_2(images)\n",
    "        loss = criterion(outputs, labels)\n",
    "\n",
    "        optimizer.zero_grad()\n",
    "        loss.backward()\n",
    "        optimizer.step()\n",
    "        epoch_loss += loss.item()\n",
    "        num_batches += 1\n",
    "\n",
    "        if (i+1) % 100 == 0:\n",
    "            print(f'Epoch {epoch+1}/{num_epochs}, Step {i+1}/{len(data_loader)}, Loss: {loss.item():.5f}')\n",
    "\n",
    "        del images, labels, outputs, loss\n",
    "        torch.cuda.empty_cache()\n",
    "\n",
    "    epoch_loss /= num_batches\n",
    "    epoch_losses.append(epoch_loss)\n",
    "\n",
    "plt.plot(epoch_losses)\n",
    "plt.ylabel('Average Epoch Loss')\n",
    "plt.xlabel('Epoch')\n",
    "plt.title('Loss over Epochs')\n",
    "plt.show()\n"
   ]
  },
  {
   "cell_type": "code",
   "execution_count": 13,
   "metadata": {},
   "outputs": [
    {
     "name": "stderr",
     "output_type": "stream",
     "text": [
      "C:\\Users\\denis\\AppData\\Local\\Temp\\ipykernel_17156\\3440450615.py:22: DeprecationWarning: an integer is required (got type numpy.float64).  Implicit conversion to integers using __int__ is deprecated, and may be removed in a future version of Python.\n",
      "  label = torch.tensor(label, dtype=torch.long)\n"
     ]
    },
    {
     "name": "stdout",
     "output_type": "stream",
     "text": [
      "Accuracy: 93.83%\n"
     ]
    }
   ],
   "source": [
    "def test_model_2(model_2, test_loader):\n",
    "    model_2 = model_2.to(device)\n",
    "    \n",
    "    model_2.eval() \n",
    "    correct = 0\n",
    "    total = 0\n",
    "     \n",
    "    for images, labels in test_loader:\n",
    "        images, labels = images.to(device), labels.to(device)\n",
    "        \n",
    "        images = images.unsqueeze(1)  \n",
    "        _, _, _, _,outputs = model_2(images)\n",
    "        _, predicted = torch.max(outputs.data, 1)  \n",
    "        total += labels.size(0)\n",
    "        correct += (predicted == labels).sum().item()\n",
    "\n",
    "    accuracy = 100 * correct / total\n",
    "    print(f'Accuracy: {accuracy:.2f}%')\n",
    "    del images, labels, outputs\n",
    "    torch.cuda.empty_cache()\n",
    "\n",
    "test_model_2(model_2, test_loader)\n"
   ]
  },
  {
   "cell_type": "code",
   "execution_count": 14,
   "metadata": {},
   "outputs": [
    {
     "name": "stderr",
     "output_type": "stream",
     "text": [
      "C:\\Users\\denis\\AppData\\Local\\Temp\\ipykernel_17156\\3440450615.py:22: DeprecationWarning: an integer is required (got type numpy.float64).  Implicit conversion to integers using __int__ is deprecated, and may be removed in a future version of Python.\n",
      "  label = torch.tensor(label, dtype=torch.long)\n"
     ]
    },
    {
     "data": {
      "image/png": "[encoded data removed]",
      "text/plain": [
       "<Figure size 600x500 with 2 Axes>"
      ]
     },
     "metadata": {},
     "output_type": "display_data"
    }
   ],
   "source": [
    "from sklearn.metrics import confusion_matrix\n",
    "import matplotlib.pyplot as plt\n",
    "import seaborn as sns\n",
    "\n",
    "def get_all_preds_and_labels(model, loader, device):\n",
    "    all_preds = []\n",
    "    all_labels = []\n",
    "    \n",
    "    for images, labels in loader:\n",
    "        images, labels = images.to(device), labels.to(device)\n",
    "        images = images.unsqueeze(1)\n",
    "        _, _, _, _, outputs = model(images) \n",
    "        _, preds = torch.max(outputs, 1)\n",
    "\n",
    "        all_preds.append(preds.cpu().numpy())\n",
    "        all_labels.append(labels.cpu().numpy())\n",
    "    return np.concatenate(all_preds, axis=0), np.concatenate(all_labels, axis=0)\n",
    "\n",
    "def plot_confusion_matrix(model, loader, device, class_names):\n",
    "    preds, labels = get_all_preds_and_labels(model, loader, device)\n",
    "    cm = confusion_matrix(labels, preds)\n",
    "    \n",
    "    plt.figure(figsize=(6, 5))\n",
    "    sns.heatmap(cm, annot=True, fmt=\"d\", xticklabels=class_names, yticklabels=class_names)\n",
    "    plt.xlabel('Predicted')\n",
    "    plt.ylabel('Actual')\n",
    "    plt.show()\n",
    "\n",
    "class_names = ['A', 'B', 'C', 'D', 'E', 'F', 'G', 'H', 'I', 'J']\n",
    "\n",
    "plot_confusion_matrix(model_2, test_loader, device, class_names)"
   ]
  },
  {
   "cell_type": "code",
   "execution_count": 15,
   "metadata": {},
   "outputs": [],
   "source": [
    "\n",
    "\n",
    "class SimpleNN(nn.Module):\n",
    "    def __init__(self):\n",
    "        super(SimpleNN, self).__init__()\n",
    "        self.fc1 = nn.Linear(28 * 28, 512)\n",
    "        self.fc2 = nn.Linear(512, 512*2)\n",
    "        self.fc3 = nn.Linear(512*2, 512)\n",
    "        self.fc4 = nn.Linear(512, 10)    \n",
    "        self.dropout = nn.Dropout2d(p=0.2)\n",
    "\n",
    "\n",
    "    def forward(self, x):\n",
    "        x = x.view(-1, 28 * 28)  \n",
    "        x = F.relu(self.fc1(x))\n",
    "        x = F.relu(self.fc2(x))\n",
    "        x = F.relu(self.dropout(x))\n",
    "        x = F.relu(self.fc3(x))\n",
    "        x = F.relu(self.dropout(x))\n",
    "        x = self.fc4(x)\n",
    "        return x\n"
   ]
  },
  {
   "cell_type": "code",
   "execution_count": 16,
   "metadata": {},
   "outputs": [
    {
     "name": "stderr",
     "output_type": "stream",
     "text": [
      "C:\\Users\\denis\\AppData\\Local\\Temp\\ipykernel_17156\\3440450615.py:22: DeprecationWarning: an integer is required (got type numpy.float64).  Implicit conversion to integers using __int__ is deprecated, and may be removed in a future version of Python.\n",
      "  label = torch.tensor(label, dtype=torch.long)\n",
      "c:\\Users\\denis\\anaconda3\\lib\\site-packages\\torch\\nn\\functional.py:1331: UserWarning: dropout2d: Received a 2-D input to dropout2d, which is deprecated and will result in an error in a future release. To retain the behavior and silence this warning, please use dropout instead. Note that dropout2d exists to provide channel-wise dropout on inputs with 2 spatial dimensions, a channel dimension, and an optional batch dimension (i.e. 3D or 4D inputs).\n",
      "  warnings.warn(warn_msg)\n"
     ]
    },
    {
     "name": "stdout",
     "output_type": "stream",
     "text": [
      "Epoch 1/20, Step 100/352, Loss: 0.95014\n",
      "Epoch 1/20, Step 200/352, Loss: 0.42706\n",
      "Epoch 1/20, Step 300/352, Loss: 0.51555\n",
      "Epoch 2/20, Step 100/352, Loss: 0.28257\n",
      "Epoch 2/20, Step 200/352, Loss: 0.34967\n",
      "Epoch 2/20, Step 300/352, Loss: 0.46129\n",
      "Epoch 3/20, Step 100/352, Loss: 0.30146\n",
      "Epoch 3/20, Step 200/352, Loss: 0.40769\n",
      "Epoch 3/20, Step 300/352, Loss: 0.10311\n",
      "Epoch 4/20, Step 100/352, Loss: 0.32518\n",
      "Epoch 4/20, Step 200/352, Loss: 0.15809\n",
      "Epoch 4/20, Step 300/352, Loss: 0.24135\n",
      "Epoch 5/20, Step 100/352, Loss: 0.25647\n",
      "Epoch 5/20, Step 200/352, Loss: 0.62782\n",
      "Epoch 5/20, Step 300/352, Loss: 0.42478\n",
      "Epoch 6/20, Step 100/352, Loss: 0.21128\n",
      "Epoch 6/20, Step 200/352, Loss: 0.86991\n",
      "Epoch 6/20, Step 300/352, Loss: 0.11704\n",
      "Epoch 7/20, Step 100/352, Loss: 0.46254\n",
      "Epoch 7/20, Step 200/352, Loss: 0.35712\n",
      "Epoch 7/20, Step 300/352, Loss: 0.24165\n",
      "Epoch 8/20, Step 100/352, Loss: 0.16053\n",
      "Epoch 8/20, Step 200/352, Loss: 0.20446\n",
      "Epoch 8/20, Step 300/352, Loss: 0.57835\n",
      "Epoch 9/20, Step 100/352, Loss: 0.25046\n",
      "Epoch 9/20, Step 200/352, Loss: 0.35405\n",
      "Epoch 9/20, Step 300/352, Loss: 0.56964\n",
      "Epoch 10/20, Step 100/352, Loss: 0.45386\n",
      "Epoch 10/20, Step 200/352, Loss: 0.28958\n",
      "Epoch 10/20, Step 300/352, Loss: 0.19832\n",
      "Epoch 11/20, Step 100/352, Loss: 0.32651\n",
      "Epoch 11/20, Step 200/352, Loss: 0.86809\n",
      "Epoch 11/20, Step 300/352, Loss: 0.23391\n",
      "Epoch 12/20, Step 100/352, Loss: 0.26032\n",
      "Epoch 12/20, Step 200/352, Loss: 0.27856\n",
      "Epoch 12/20, Step 300/352, Loss: 0.21912\n",
      "Epoch 13/20, Step 100/352, Loss: 0.38913\n",
      "Epoch 13/20, Step 200/352, Loss: 0.24245\n",
      "Epoch 13/20, Step 300/352, Loss: 0.06852\n",
      "Epoch 14/20, Step 100/352, Loss: 0.56084\n",
      "Epoch 14/20, Step 200/352, Loss: 0.45413\n",
      "Epoch 14/20, Step 300/352, Loss: 0.09441\n",
      "Epoch 15/20, Step 100/352, Loss: 0.22955\n",
      "Epoch 15/20, Step 200/352, Loss: 0.27413\n",
      "Epoch 15/20, Step 300/352, Loss: 0.41681\n",
      "Epoch 16/20, Step 100/352, Loss: 0.53335\n",
      "Epoch 16/20, Step 200/352, Loss: 0.65177\n",
      "Epoch 16/20, Step 300/352, Loss: 0.10736\n",
      "Epoch 17/20, Step 100/352, Loss: 0.09776\n",
      "Epoch 17/20, Step 200/352, Loss: 0.24732\n",
      "Epoch 17/20, Step 300/352, Loss: 0.55914\n",
      "Epoch 18/20, Step 100/352, Loss: 0.15159\n",
      "Epoch 18/20, Step 200/352, Loss: 0.23622\n",
      "Epoch 18/20, Step 300/352, Loss: 0.24367\n",
      "Epoch 19/20, Step 100/352, Loss: 0.14150\n",
      "Epoch 19/20, Step 200/352, Loss: 1.24126\n",
      "Epoch 19/20, Step 300/352, Loss: 0.27598\n",
      "Epoch 20/20, Step 100/352, Loss: 0.19148\n",
      "Epoch 20/20, Step 200/352, Loss: 0.02023\n",
      "Epoch 20/20, Step 300/352, Loss: 0.30885\n"
     ]
    }
   ],
   "source": [
    "model = SimpleNN() \n",
    "model = model.to(device)\n",
    "criterion = nn.CrossEntropyLoss()  \n",
    "optimizer = torch.optim.Adam(model.parameters(), lr=0.001)  \n",
    "\n",
    "\n",
    "num_epochs = 20  \n",
    "\n",
    "for epoch in range(num_epochs):\n",
    "    for i, (images, labels) in enumerate(data_loader):\n",
    "        images, labels = images.to(device), labels.to(device)\n",
    "        images = images.unsqueeze(1)\n",
    "        \n",
    "        outputs = model(images)\n",
    "        loss = criterion(outputs, labels)\n",
    "\n",
    "        optimizer.zero_grad()\n",
    "        loss.backward()\n",
    "        optimizer.step()\n",
    "        \n",
    "        if (i+1) % 100 == 0:\n",
    "            print(f'Epoch {epoch+1}/{num_epochs}, Step {i+1}/{len(data_loader)}, Loss: {loss.item():.5f}')\n",
    "\n",
    "        del images, labels, outputs, loss\n",
    "        torch.cuda.empty_cache()"
   ]
  },
  {
   "cell_type": "code",
   "execution_count": 17,
   "metadata": {},
   "outputs": [
    {
     "name": "stderr",
     "output_type": "stream",
     "text": [
      "C:\\Users\\denis\\AppData\\Local\\Temp\\ipykernel_17156\\3440450615.py:22: DeprecationWarning: an integer is required (got type numpy.float64).  Implicit conversion to integers using __int__ is deprecated, and may be removed in a future version of Python.\n",
      "  label = torch.tensor(label, dtype=torch.long)\n"
     ]
    },
    {
     "name": "stdout",
     "output_type": "stream",
     "text": [
      "Accuracy: 89.64%\n"
     ]
    }
   ],
   "source": [
    "def test_model(model, test_loader):\n",
    "    model = model.to(device)\n",
    "    \n",
    "    model.eval() \n",
    "    correct = 0\n",
    "    total = 0\n",
    "  \n",
    "    for images, labels in test_loader:\n",
    "        images, labels = images.to(device), labels.to(device)\n",
    "        \n",
    "        images = images.unsqueeze(1)  \n",
    "        outputs = model(images)\n",
    "        _, predicted = torch.max(outputs.data, 1)  \n",
    "        total += labels.size(0)\n",
    "        correct += (predicted == labels).sum().item()\n",
    "\n",
    "    accuracy = 100 * correct / total\n",
    "    print(f'Accuracy: {accuracy:.2f}%')\n",
    "    del images, labels, outputs\n",
    "    torch.cuda.empty_cache()\n",
    "\n",
    "test_model(model, test_loader)\n"
   ]
  },
  {
   "cell_type": "code",
   "execution_count": null,
   "metadata": {},
   "outputs": [],
   "source": []
  }
 ],
 "metadata": {
  "kernelspec": {
   "display_name": "base",
   "language": "python",
   "name": "python3"
  },
  "language_info": {
   "codemirror_mode": {
    "name": "ipython",
    "version": 3
   },
   "file_extension": ".py",
   "mimetype": "text/x-python",
   "name": "python",
   "nbconvert_exporter": "python",
   "pygments_lexer": "ipython3",
   "version": "3.9.13"
  },
  "orig_nbformat": 4
 },
 "nbformat": 4,
 "nbformat_minor": 2
}
