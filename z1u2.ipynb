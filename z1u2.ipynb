{
 "cells": [
  {
   "cell_type": "code",
   "execution_count": 1,
   "metadata": {},
   "outputs": [],
   "source": [
    "import torch\n",
    "from torch import nn\n",
    "from torch.utils.data import DataLoader\n",
    "from torchvision import datasets\n",
    "from torchvision.transforms import ToTensor\n",
    "import pandas as pd\n",
    "import numpy as np\n",
    "import matplotlib.pyplot as plt\n",
    "import scipy.io"
   ]
  },
  {
   "cell_type": "code",
   "execution_count": 2,
   "metadata": {},
   "outputs": [
    {
     "name": "stdout",
     "output_type": "stream",
     "text": [
      "Using cuda device\n"
     ]
    }
   ],
   "source": [
    "device = (\n",
    "    \"cuda\"\n",
    "    if torch.cuda.is_available()\n",
    "    else \"mps\"\n",
    "    if torch.backends.mps.is_available()\n",
    "    else \"cpu\"\n",
    ")\n",
    "print(f\"Using {device} device\")\n"
   ]
  },
  {
   "cell_type": "code",
   "execution_count": null,
   "metadata": {},
   "outputs": [],
   "source": []
  },
  {
   "cell_type": "code",
   "execution_count": 3,
   "metadata": {},
   "outputs": [
    {
     "data": {
      "text/plain": [
       "dict_keys(['__header__', '__version__', '__globals__', 'images', 'labels'])"
      ]
     },
     "execution_count": 3,
     "metadata": {},
     "output_type": "execute_result"
    }
   ],
   "source": [
    "mat = scipy.io.loadmat('notMNIST_small.mat')\n",
    "mat.keys()\n"
   ]
  },
  {
   "cell_type": "code",
   "execution_count": 4,
   "metadata": {},
   "outputs": [
    {
     "data": {
      "image/png": "[encoded data removed]",
      "text/plain": [
       "<Figure size 640x480 with 1 Axes>"
      ]
     },
     "metadata": {},
     "output_type": "display_data"
    }
   ],
   "source": [
    "mat['images'].shape\n",
    "\n",
    "plt.imshow(mat['images'][:, :, 1], cmap='gray')\n",
    "plt.axis('off')\n",
    "plt.show()"
   ]
  },
  {
   "cell_type": "code",
   "execution_count": 5,
   "metadata": {},
   "outputs": [
    {
     "data": {
      "image/png": "[encoded data removed]",
      "text/plain": [
       "<Figure size 640x480 with 1 Axes>"
      ]
     },
     "metadata": {},
     "output_type": "display_data"
    },
    {
     "data": {
      "text/plain": [
       "(18724, 28, 28)"
      ]
     },
     "execution_count": 5,
     "metadata": {},
     "output_type": "execute_result"
    }
   ],
   "source": [
    "new_img = np.random.rand(18724, 28, 28)\n",
    "for index in range(mat['images'].shape[2]):\n",
    "    new_img[index] = mat['images'][:,:,index]\n",
    "\n",
    "plt.imshow(new_img[1, :, :], cmap='gray')\n",
    "plt.axis('off')\n",
    "plt.show()\n",
    "\n",
    "new_img.shape"
   ]
  },
  {
   "cell_type": "code",
   "execution_count": 6,
   "metadata": {},
   "outputs": [],
   "source": [
    "indices = np.arange(18724)\n",
    "np.random.shuffle(indices)\n",
    "labels = np.array(mat['labels'])\n",
    "\n",
    "\n",
    "shuffled_images = new_img[indices]\n",
    "shuffled_labels = labels[indices]"
   ]
  },
  {
   "cell_type": "code",
   "execution_count": 7,
   "metadata": {},
   "outputs": [
    {
     "data": {
      "text/plain": [
       "(11234, 28, 28)"
      ]
     },
     "execution_count": 7,
     "metadata": {},
     "output_type": "execute_result"
    }
   ],
   "source": [
    "x_train_img = np.array(shuffled_images[0:11234, :,:])\n",
    "x_test_img = np.array(shuffled_images[11235:18724, :,:])\n",
    "y_train_label = np.array(shuffled_labels[0:11234])\n",
    "y_test_label =np.array(shuffled_labels[11235:18724])\n",
    "\n",
    "x_train_img.shape"
   ]
  },
  {
   "cell_type": "code",
   "execution_count": null,
   "metadata": {},
   "outputs": [],
   "source": []
  },
  {
   "cell_type": "code",
   "execution_count": 8,
   "metadata": {},
   "outputs": [],
   "source": [
    "import torch\n",
    "from torch.utils.data import Dataset\n",
    "\n",
    "class CustomDataset(Dataset):\n",
    "    def __init__(self, images, labels, transform=None):\n",
    "        \"\"\"\n",
    "        Args:\n",
    "            images (numpy array): Numpy array containing images with shape (18724, 28, 28).\n",
    "            labels (numpy array): Numpy array containing labels with shape (18724).\n",
    "            transform (callable, optional): Optional transform to be applied on a sample.\n",
    "        \"\"\"\n",
    "        self.images = images\n",
    "        self.labels = labels\n",
    "        self.transform = transform\n",
    "\n",
    "    def __len__(self):\n",
    "        return len(self.labels)\n",
    "\n",
    "    def __getitem__(self, idx):\n",
    "        image = self.images[idx]\n",
    "        label = self.labels[idx]\n",
    "\n",
    "        if self.transform:\n",
    "            image = self.transform(image)\n",
    "\n",
    "        # converting to torch tensor\n",
    "        image = torch.tensor(image, dtype=torch.float32)\n",
    "        label = torch.tensor(label, dtype=torch.long)\n",
    "\n",
    "        return image, label"
   ]
  },
  {
   "cell_type": "code",
   "execution_count": 9,
   "metadata": {},
   "outputs": [],
   "source": [
    "test_images = x_test_img\n",
    "test_labels = y_test_label\n",
    "\n",
    "test_dataset = CustomDataset(test_images, test_labels)\n",
    "\n",
    "test_loader = DataLoader(dataset=test_dataset, batch_size=32, shuffle=False)"
   ]
  },
  {
   "cell_type": "code",
   "execution_count": 10,
   "metadata": {},
   "outputs": [],
   "source": [
    "from torch.utils.data import DataLoader\n",
    "\n",
    "\n",
    "images = x_train_img\n",
    "labels = y_train_label\n",
    "\n",
    "custom_dataset = CustomDataset(images, labels)\n",
    "\n",
    "\n",
    "data_loader = DataLoader(dataset=custom_dataset, batch_size=32, shuffle=True)\n"
   ]
  },
  {
   "cell_type": "code",
   "execution_count": 11,
   "metadata": {},
   "outputs": [],
   "source": [
    "import torch\n",
    "import torch.nn as nn\n",
    "import torch.nn.functional as F\n",
    "\n",
    "class SimpleCNN(nn.Module):\n",
    "    def __init__(self, num_classes=10):  \n",
    "        super(SimpleCNN, self).__init__()\n",
    "        self.conv1 = nn.Conv2d(in_channels=1, out_channels=32, kernel_size=3, stride=1, padding=1)\n",
    "        self.conv2 = nn.Conv2d(in_channels=32, out_channels=64, kernel_size=3, stride=1, padding=1)\n",
    "        self.pool = nn.MaxPool2d(kernel_size=2, stride=2, padding=0)\n",
    "        self.fc1 = nn.Linear(64 * 7 * 7, 128)  #(28/2/2 = 7)\n",
    "        self.fc2 = nn.Linear(128, num_classes)\n",
    "\n",
    "    def forward(self, x):\n",
    "        x1 = self.pool(F.relu(self.conv1(x)))\n",
    "        x2 = self.pool(F.relu(self.conv2(x1)))\n",
    "        x3 = x2.view(-1, 64 * 7 * 7)\n",
    "        x4 = F.relu(self.fc1(x3))\n",
    "        out = self.fc2(x4)\n",
    "        return x1, x2, x3, x4, out"
   ]
  },
  {
   "cell_type": "code",
   "execution_count": 12,
   "metadata": {},
   "outputs": [
    {
     "name": "stderr",
     "output_type": "stream",
     "text": [
      "C:\\Users\\denis\\AppData\\Local\\Temp\\ipykernel_7352\\2518736349.py:28: DeprecationWarning: an integer is required (got type numpy.float64).  Implicit conversion to integers using __int__ is deprecated, and may be removed in a future version of Python.\n",
      "  label = torch.tensor(label, dtype=torch.long)\n"
     ]
    },
    {
     "name": "stdout",
     "output_type": "stream",
     "text": [
      "Epoch 1/20, Step 100/352, Loss: 0.43026\n",
      "Epoch 1/20, Step 200/352, Loss: 0.15402\n",
      "Epoch 1/20, Step 300/352, Loss: 0.42147\n",
      "Epoch 2/20, Step 100/352, Loss: 0.07637\n",
      "Epoch 2/20, Step 200/352, Loss: 0.49367\n",
      "Epoch 2/20, Step 300/352, Loss: 0.24148\n",
      "Epoch 3/20, Step 100/352, Loss: 0.17344\n",
      "Epoch 3/20, Step 200/352, Loss: 0.02049\n",
      "Epoch 3/20, Step 300/352, Loss: 0.02349\n",
      "Epoch 4/20, Step 100/352, Loss: 0.04306\n",
      "Epoch 4/20, Step 200/352, Loss: 0.06635\n",
      "Epoch 4/20, Step 300/352, Loss: 0.22255\n",
      "Epoch 5/20, Step 100/352, Loss: 0.00152\n",
      "Epoch 5/20, Step 200/352, Loss: 0.06448\n",
      "Epoch 5/20, Step 300/352, Loss: 0.23781\n",
      "Epoch 6/20, Step 100/352, Loss: 0.04946\n",
      "Epoch 6/20, Step 200/352, Loss: 0.03685\n",
      "Epoch 6/20, Step 300/352, Loss: 0.09155\n",
      "Epoch 7/20, Step 100/352, Loss: 0.00103\n",
      "Epoch 7/20, Step 200/352, Loss: 0.01225\n",
      "Epoch 7/20, Step 300/352, Loss: 0.01512\n",
      "Epoch 8/20, Step 100/352, Loss: 0.00023\n",
      "Epoch 8/20, Step 200/352, Loss: 0.01279\n",
      "Epoch 8/20, Step 300/352, Loss: 0.03985\n",
      "Epoch 9/20, Step 100/352, Loss: 0.01528\n",
      "Epoch 9/20, Step 200/352, Loss: 0.44949\n",
      "Epoch 9/20, Step 300/352, Loss: 0.00030\n",
      "Epoch 10/20, Step 100/352, Loss: 0.00116\n",
      "Epoch 10/20, Step 200/352, Loss: 0.14407\n",
      "Epoch 10/20, Step 300/352, Loss: 0.00986\n",
      "Epoch 11/20, Step 100/352, Loss: 0.01097\n",
      "Epoch 11/20, Step 200/352, Loss: 0.05956\n",
      "Epoch 11/20, Step 300/352, Loss: 0.00765\n",
      "Epoch 12/20, Step 100/352, Loss: 0.00003\n",
      "Epoch 12/20, Step 200/352, Loss: 0.00149\n",
      "Epoch 12/20, Step 300/352, Loss: 0.30579\n",
      "Epoch 13/20, Step 100/352, Loss: 0.00000\n",
      "Epoch 13/20, Step 200/352, Loss: 0.03566\n",
      "Epoch 13/20, Step 300/352, Loss: 0.12558\n",
      "Epoch 14/20, Step 100/352, Loss: 0.02325\n",
      "Epoch 14/20, Step 200/352, Loss: 0.00038\n",
      "Epoch 14/20, Step 300/352, Loss: 0.01480\n",
      "Epoch 15/20, Step 100/352, Loss: 0.00033\n",
      "Epoch 15/20, Step 200/352, Loss: 0.00010\n",
      "Epoch 15/20, Step 300/352, Loss: 0.00426\n",
      "Epoch 16/20, Step 100/352, Loss: 0.00114\n",
      "Epoch 16/20, Step 200/352, Loss: 0.00062\n",
      "Epoch 16/20, Step 300/352, Loss: 0.00038\n",
      "Epoch 17/20, Step 100/352, Loss: 0.00130\n",
      "Epoch 17/20, Step 200/352, Loss: 0.00076\n",
      "Epoch 17/20, Step 300/352, Loss: 0.00071\n",
      "Epoch 18/20, Step 100/352, Loss: 0.00008\n",
      "Epoch 18/20, Step 200/352, Loss: 0.00012\n",
      "Epoch 18/20, Step 300/352, Loss: 0.02687\n",
      "Epoch 19/20, Step 100/352, Loss: 0.00000\n",
      "Epoch 19/20, Step 200/352, Loss: 0.00330\n",
      "Epoch 19/20, Step 300/352, Loss: 0.00063\n",
      "Epoch 20/20, Step 100/352, Loss: 0.00268\n",
      "Epoch 20/20, Step 200/352, Loss: 0.00007\n",
      "Epoch 20/20, Step 300/352, Loss: 0.18404\n"
     ]
    }
   ],
   "source": [
    "model = SimpleCNN(num_classes=10) \n",
    "criterion = nn.CrossEntropyLoss()  \n",
    "optimizer = torch.optim.Adam(model.parameters(), lr=0.001)  \n",
    "\n",
    "model = model.to(device)\n",
    "\n",
    "num_epochs = 20  \n",
    "\n",
    "for epoch in range(num_epochs):\n",
    "    for i, (images, labels) in enumerate(data_loader):\n",
    "        images, labels = images.to(device), labels.to(device)\n",
    "        images = images.unsqueeze(1)\n",
    "        \n",
    "        _, _, _, _, outputs = model(images)\n",
    "        loss = criterion(outputs, labels)\n",
    "\n",
    "        optimizer.zero_grad()\n",
    "        loss.backward()\n",
    "        optimizer.step()\n",
    "        \n",
    "        if (i+1) % 100 == 0:\n",
    "            print(f'Epoch {epoch+1}/{num_epochs}, Step {i+1}/{len(data_loader)}, Loss: {loss.item():.5f}')\n",
    "\n"
   ]
  },
  {
   "cell_type": "code",
   "execution_count": 13,
   "metadata": {},
   "outputs": [
    {
     "name": "stderr",
     "output_type": "stream",
     "text": [
      "C:\\Users\\denis\\AppData\\Local\\Temp\\ipykernel_7352\\2518736349.py:28: DeprecationWarning: an integer is required (got type numpy.float64).  Implicit conversion to integers using __int__ is deprecated, and may be removed in a future version of Python.\n",
      "  label = torch.tensor(label, dtype=torch.long)\n"
     ]
    },
    {
     "name": "stdout",
     "output_type": "stream",
     "text": [
      "Accuracy: 92.94%\n"
     ]
    }
   ],
   "source": [
    "def test_model(model, test_loader):\n",
    "    model = model.to(device)\n",
    "    model.eval() \n",
    "    correct = 0\n",
    "    total = 0\n",
    "    with torch.no_grad():  \n",
    "        for images, labels in test_loader:\n",
    "            images, labels = images.to(device), labels.to(device)\n",
    "            images = images.unsqueeze(1)  \n",
    "            _, _, _, _,outputs = model(images)\n",
    "            _, predicted = torch.max(outputs.data, 1)  \n",
    "            total += labels.size(0)\n",
    "            correct += (predicted == labels).sum().item()\n",
    "\n",
    "    accuracy = 100 * correct / total\n",
    "    print(f'Accuracy: {accuracy:.2f}%')\n",
    "\n",
    "\n",
    "test_model(model, test_loader)"
   ]
  },
  {
   "cell_type": "code",
   "execution_count": 14,
   "metadata": {},
   "outputs": [
    {
     "name": "stderr",
     "output_type": "stream",
     "text": [
      "C:\\Users\\denis\\AppData\\Local\\Temp\\ipykernel_7352\\2518736349.py:28: DeprecationWarning: an integer is required (got type numpy.float64).  Implicit conversion to integers using __int__ is deprecated, and may be removed in a future version of Python.\n",
      "  label = torch.tensor(label, dtype=torch.long)\n"
     ]
    },
    {
     "name": "stdout",
     "output_type": "stream",
     "text": [
      "Epoch 1/25, Step 100/352, Loss: 0.37716\n",
      "Epoch 1/25, Step 200/352, Loss: 0.92505\n",
      "Epoch 1/25, Step 300/352, Loss: 0.17403\n",
      "Epoch 2/25, Step 100/352, Loss: 0.05264\n",
      "Epoch 2/25, Step 200/352, Loss: 0.85156\n",
      "Epoch 2/25, Step 300/352, Loss: 0.19148\n",
      "Epoch 3/25, Step 100/352, Loss: 0.15986\n",
      "Epoch 3/25, Step 200/352, Loss: 0.15334\n",
      "Epoch 3/25, Step 300/352, Loss: 0.08697\n",
      "Epoch 4/25, Step 100/352, Loss: 0.04722\n",
      "Epoch 4/25, Step 200/352, Loss: 0.06443\n",
      "Epoch 4/25, Step 300/352, Loss: 0.23187\n",
      "Epoch 5/25, Step 100/352, Loss: 0.03696\n",
      "Epoch 5/25, Step 200/352, Loss: 0.08020\n",
      "Epoch 5/25, Step 300/352, Loss: 0.29267\n",
      "Epoch 6/25, Step 100/352, Loss: 0.00169\n",
      "Epoch 6/25, Step 200/352, Loss: 0.15028\n",
      "Epoch 6/25, Step 300/352, Loss: 0.21383\n",
      "Epoch 7/25, Step 100/352, Loss: 0.06991\n",
      "Epoch 7/25, Step 200/352, Loss: 0.09668\n",
      "Epoch 7/25, Step 300/352, Loss: 0.00026\n",
      "Epoch 8/25, Step 100/352, Loss: 0.25966\n",
      "Epoch 8/25, Step 200/352, Loss: 0.05636\n",
      "Epoch 8/25, Step 300/352, Loss: 0.00014\n",
      "Epoch 9/25, Step 100/352, Loss: 0.08138\n",
      "Epoch 9/25, Step 200/352, Loss: 0.13458\n",
      "Epoch 9/25, Step 300/352, Loss: 0.10488\n",
      "Epoch 10/25, Step 100/352, Loss: 0.01339\n",
      "Epoch 10/25, Step 200/352, Loss: 0.00230\n",
      "Epoch 10/25, Step 300/352, Loss: 0.01463\n",
      "Epoch 11/25, Step 100/352, Loss: 0.01717\n",
      "Epoch 11/25, Step 200/352, Loss: 0.01362\n",
      "Epoch 11/25, Step 300/352, Loss: 0.01797\n",
      "Epoch 12/25, Step 100/352, Loss: 0.25852\n",
      "Epoch 12/25, Step 200/352, Loss: 0.00335\n",
      "Epoch 12/25, Step 300/352, Loss: 0.03160\n",
      "Epoch 13/25, Step 100/352, Loss: 0.00000\n",
      "Epoch 13/25, Step 200/352, Loss: 0.00543\n",
      "Epoch 13/25, Step 300/352, Loss: 0.00870\n",
      "Epoch 14/25, Step 100/352, Loss: 0.00059\n",
      "Epoch 14/25, Step 200/352, Loss: 0.02412\n",
      "Epoch 14/25, Step 300/352, Loss: 0.05328\n",
      "Epoch 15/25, Step 100/352, Loss: 0.04531\n",
      "Epoch 15/25, Step 200/352, Loss: 0.00268\n",
      "Epoch 15/25, Step 300/352, Loss: 0.00001\n",
      "Epoch 16/25, Step 100/352, Loss: 0.00022\n",
      "Epoch 16/25, Step 200/352, Loss: 0.00001\n",
      "Epoch 16/25, Step 300/352, Loss: 0.00091\n",
      "Epoch 17/25, Step 100/352, Loss: 0.00380\n",
      "Epoch 17/25, Step 200/352, Loss: 0.02297\n",
      "Epoch 17/25, Step 300/352, Loss: 0.09508\n",
      "Epoch 18/25, Step 100/352, Loss: 0.00014\n",
      "Epoch 18/25, Step 200/352, Loss: 0.15744\n",
      "Epoch 18/25, Step 300/352, Loss: 0.26194\n",
      "Epoch 19/25, Step 100/352, Loss: 0.00141\n",
      "Epoch 19/25, Step 200/352, Loss: 0.00035\n",
      "Epoch 19/25, Step 300/352, Loss: 0.00283\n",
      "Epoch 20/25, Step 100/352, Loss: 0.00470\n",
      "Epoch 20/25, Step 200/352, Loss: 0.13377\n",
      "Epoch 20/25, Step 300/352, Loss: 0.04082\n",
      "Epoch 21/25, Step 100/352, Loss: 0.00008\n",
      "Epoch 21/25, Step 200/352, Loss: 0.00004\n",
      "Epoch 21/25, Step 300/352, Loss: 0.04279\n",
      "Epoch 22/25, Step 100/352, Loss: 0.00007\n",
      "Epoch 22/25, Step 200/352, Loss: 0.06668\n",
      "Epoch 22/25, Step 300/352, Loss: 0.17631\n",
      "Epoch 23/25, Step 100/352, Loss: 0.00028\n",
      "Epoch 23/25, Step 200/352, Loss: 0.00319\n",
      "Epoch 23/25, Step 300/352, Loss: 0.12205\n",
      "Epoch 24/25, Step 100/352, Loss: 0.00419\n",
      "Epoch 24/25, Step 200/352, Loss: 0.00086\n",
      "Epoch 24/25, Step 300/352, Loss: 0.00827\n",
      "Epoch 25/25, Step 100/352, Loss: 0.00003\n",
      "Epoch 25/25, Step 200/352, Loss: 0.00000\n",
      "Epoch 25/25, Step 300/352, Loss: 0.07917\n"
     ]
    },
    {
     "data": {
      "image/png": "[encoded data removed]",
      "text/plain": [
       "<Figure size 640x480 with 1 Axes>"
      ]
     },
     "metadata": {},
     "output_type": "display_data"
    }
   ],
   "source": [
    "model_2 = SimpleCNN(num_classes=10) \n",
    "criterion = nn.CrossEntropyLoss()  \n",
    "optimizer = torch.optim.Adam(model_2.parameters(), lr=0.001) \n",
    "\n",
    "model_2 = model_2.to(device)\n",
    "\n",
    "num_epochs = 25  \n",
    "epoch_losses = []\n",
    "\n",
    "for epoch in range(num_epochs):\n",
    "    epoch_loss = 0  # Reset epoch loss\n",
    "    num_batches = 0  # To count the number of batches\n",
    "\n",
    "    for i, (images, labels) in enumerate(data_loader):\n",
    "        images, labels = images.to(device), labels.to(device)\n",
    "        images = images.unsqueeze(1)\n",
    "        \n",
    "        _, _, _, _, outputs = model_2(images)\n",
    "        loss = criterion(outputs, labels)\n",
    "\n",
    "        optimizer.zero_grad()\n",
    "        loss.backward()\n",
    "        optimizer.step()\n",
    "        epoch_loss += loss.item()\n",
    "        num_batches += 1\n",
    "\n",
    "        if (i+1) % 100 == 0:\n",
    "            print(f'Epoch {epoch+1}/{num_epochs}, Step {i+1}/{len(data_loader)}, Loss: {loss.item():.5f}')\n",
    "\n",
    "    epoch_loss /= num_batches\n",
    "    epoch_losses.append(epoch_loss)\n",
    "\n",
    "plt.plot(epoch_losses)\n",
    "plt.ylabel('Average Epoch Loss')\n",
    "plt.xlabel('Epoch')\n",
    "plt.title('Loss over Epochs')\n",
    "plt.show()\n"
   ]
  },
  {
   "cell_type": "code",
   "execution_count": 15,
   "metadata": {},
   "outputs": [
    {
     "name": "stderr",
     "output_type": "stream",
     "text": [
      "C:\\Users\\denis\\AppData\\Local\\Temp\\ipykernel_7352\\2518736349.py:28: DeprecationWarning: an integer is required (got type numpy.float64).  Implicit conversion to integers using __int__ is deprecated, and may be removed in a future version of Python.\n",
      "  label = torch.tensor(label, dtype=torch.long)\n"
     ]
    },
    {
     "name": "stdout",
     "output_type": "stream",
     "text": [
      "Accuracy: 93.00%\n"
     ]
    }
   ],
   "source": [
    "def test_model_2(model_2, test_loader):\n",
    "    model_2 = model_2.to(device)\n",
    "    \n",
    "    model_2.eval() \n",
    "    correct = 0\n",
    "    total = 0\n",
    "    with torch.no_grad():  \n",
    "        for images, labels in test_loader:\n",
    "            images, labels = images.to(device), labels.to(device)\n",
    "            \n",
    "            images = images.unsqueeze(1)  \n",
    "            _, _, _, _,outputs = model_2(images)\n",
    "            _, predicted = torch.max(outputs.data, 1)  \n",
    "            total += labels.size(0)\n",
    "            correct += (predicted == labels).sum().item()\n",
    "\n",
    "    accuracy = 100 * correct / total\n",
    "    print(f'Accuracy: {accuracy:.2f}%')\n",
    "\n",
    "\n",
    "test_model_2(model_2, test_loader)"
   ]
  },
  {
   "cell_type": "code",
   "execution_count": 16,
   "metadata": {},
   "outputs": [],
   "source": [
    "\n",
    "class SimpleCNN_x(nn.Module):\n",
    "    def __init__(self, num_classes=10):  \n",
    "        super(SimpleCNN_x, self).__init__()\n",
    "        self.conv1 = nn.Conv2d(in_channels=1, out_channels=32, kernel_size=3, stride=1, padding=1)\n",
    "        self.conv2 = nn.Conv2d(in_channels=32, out_channels=64, kernel_size=3, stride=1, padding=1)\n",
    "        self.conv3 = nn.Conv2d(in_channels=64, out_channels=64, kernel_size=3, stride=1, padding=1)\n",
    "        self.pool = nn.MaxPool2d(kernel_size=2, stride=2, padding=0)\n",
    "        self.fc1 = nn.Linear(3136, 128)  \n",
    "        self.fc2 = nn.Linear(128, num_classes)\n",
    "\n",
    "    def forward(self, x):\n",
    "        x1 = F.relu(self.conv1(x))\n",
    "        x2 = self.pool(F.relu(self.conv2(x1)))\n",
    "        x3 = self.pool(F.relu(self.conv3(x2)))\n",
    "        x3 = x3.view(x3.size(0), -1)  \n",
    "        x4 = F.relu(self.fc1(x3))\n",
    "        out = self.fc2(x4)\n",
    "        return x1, x2, x3, out\n"
   ]
  },
  {
   "cell_type": "code",
   "execution_count": 17,
   "metadata": {},
   "outputs": [
    {
     "name": "stderr",
     "output_type": "stream",
     "text": [
      "C:\\Users\\denis\\AppData\\Local\\Temp\\ipykernel_7352\\2518736349.py:28: DeprecationWarning: an integer is required (got type numpy.float64).  Implicit conversion to integers using __int__ is deprecated, and may be removed in a future version of Python.\n",
      "  label = torch.tensor(label, dtype=torch.long)\n"
     ]
    },
    {
     "name": "stdout",
     "output_type": "stream",
     "text": [
      "Epoch 1/25, Step 100/352, Loss: 0.21407\n",
      "Epoch 1/25, Step 200/352, Loss: 0.04578\n",
      "Epoch 1/25, Step 300/352, Loss: 0.13193\n",
      "Epoch 2/25, Step 100/352, Loss: 0.09971\n",
      "Epoch 2/25, Step 200/352, Loss: 0.14610\n",
      "Epoch 2/25, Step 300/352, Loss: 0.24881\n",
      "Epoch 3/25, Step 100/352, Loss: 0.08236\n",
      "Epoch 3/25, Step 200/352, Loss: 0.09582\n",
      "Epoch 3/25, Step 300/352, Loss: 0.36316\n",
      "Epoch 4/25, Step 100/352, Loss: 0.01799\n",
      "Epoch 4/25, Step 200/352, Loss: 0.22685\n",
      "Epoch 4/25, Step 300/352, Loss: 0.15828\n",
      "Epoch 5/25, Step 100/352, Loss: 0.05179\n",
      "Epoch 5/25, Step 200/352, Loss: 0.01711\n",
      "Epoch 5/25, Step 300/352, Loss: 0.00983\n",
      "Epoch 6/25, Step 100/352, Loss: 0.04398\n",
      "Epoch 6/25, Step 200/352, Loss: 0.01905\n",
      "Epoch 6/25, Step 300/352, Loss: 0.18265\n",
      "Epoch 7/25, Step 100/352, Loss: 0.26308\n",
      "Epoch 7/25, Step 200/352, Loss: 0.01261\n",
      "Epoch 7/25, Step 300/352, Loss: 0.00404\n",
      "Epoch 8/25, Step 100/352, Loss: 0.20059\n",
      "Epoch 8/25, Step 200/352, Loss: 0.00350\n",
      "Epoch 8/25, Step 300/352, Loss: 0.09858\n",
      "Epoch 9/25, Step 100/352, Loss: 0.00538\n",
      "Epoch 9/25, Step 200/352, Loss: 0.10581\n",
      "Epoch 9/25, Step 300/352, Loss: 0.00050\n",
      "Epoch 10/25, Step 100/352, Loss: 0.00842\n",
      "Epoch 10/25, Step 200/352, Loss: 0.04567\n",
      "Epoch 10/25, Step 300/352, Loss: 0.05287\n",
      "Epoch 11/25, Step 100/352, Loss: 0.00112\n",
      "Epoch 11/25, Step 200/352, Loss: 0.00014\n",
      "Epoch 11/25, Step 300/352, Loss: 0.00182\n",
      "Epoch 12/25, Step 100/352, Loss: 0.02430\n",
      "Epoch 12/25, Step 200/352, Loss: 0.06609\n",
      "Epoch 12/25, Step 300/352, Loss: 0.00619\n",
      "Epoch 13/25, Step 100/352, Loss: 0.00006\n",
      "Epoch 13/25, Step 200/352, Loss: 0.00007\n",
      "Epoch 13/25, Step 300/352, Loss: 0.00001\n",
      "Epoch 14/25, Step 100/352, Loss: 0.02999\n",
      "Epoch 14/25, Step 200/352, Loss: 0.00587\n",
      "Epoch 14/25, Step 300/352, Loss: 0.00056\n",
      "Epoch 15/25, Step 100/352, Loss: 0.00003\n",
      "Epoch 15/25, Step 200/352, Loss: 0.07875\n",
      "Epoch 15/25, Step 300/352, Loss: 0.00063\n",
      "Epoch 16/25, Step 100/352, Loss: 0.01861\n",
      "Epoch 16/25, Step 200/352, Loss: 0.00011\n",
      "Epoch 16/25, Step 300/352, Loss: 0.02414\n",
      "Epoch 17/25, Step 100/352, Loss: 0.02223\n",
      "Epoch 17/25, Step 200/352, Loss: 0.00062\n",
      "Epoch 17/25, Step 300/352, Loss: 0.05542\n",
      "Epoch 18/25, Step 100/352, Loss: 0.00488\n",
      "Epoch 18/25, Step 200/352, Loss: 0.00041\n",
      "Epoch 18/25, Step 300/352, Loss: 0.00209\n",
      "Epoch 19/25, Step 100/352, Loss: 0.07259\n",
      "Epoch 19/25, Step 200/352, Loss: 0.00387\n",
      "Epoch 19/25, Step 300/352, Loss: 0.00001\n",
      "Epoch 20/25, Step 100/352, Loss: 0.00065\n",
      "Epoch 20/25, Step 200/352, Loss: 0.00001\n",
      "Epoch 20/25, Step 300/352, Loss: 0.00006\n",
      "Epoch 21/25, Step 100/352, Loss: 0.01695\n",
      "Epoch 21/25, Step 200/352, Loss: 0.00012\n",
      "Epoch 21/25, Step 300/352, Loss: 0.03222\n",
      "Epoch 22/25, Step 100/352, Loss: 0.00147\n",
      "Epoch 22/25, Step 200/352, Loss: 0.03017\n",
      "Epoch 22/25, Step 300/352, Loss: 0.00102\n",
      "Epoch 23/25, Step 100/352, Loss: 0.00736\n",
      "Epoch 23/25, Step 200/352, Loss: 0.00164\n",
      "Epoch 23/25, Step 300/352, Loss: 0.09158\n",
      "Epoch 24/25, Step 100/352, Loss: 0.00001\n",
      "Epoch 24/25, Step 200/352, Loss: 0.00002\n",
      "Epoch 24/25, Step 300/352, Loss: 0.02268\n",
      "Epoch 25/25, Step 100/352, Loss: 0.00000\n",
      "Epoch 25/25, Step 200/352, Loss: 0.01266\n",
      "Epoch 25/25, Step 300/352, Loss: 0.00108\n"
     ]
    },
    {
     "data": {
      "image/png": "[encoded data removed]",
      "text/plain": [
       "<Figure size 640x480 with 1 Axes>"
      ]
     },
     "metadata": {},
     "output_type": "display_data"
    }
   ],
   "source": [
    "mdlx = SimpleCNN_x(num_classes=10) \n",
    "criterion = nn.CrossEntropyLoss()  \n",
    "optimizer = torch.optim.Adam(mdlx.parameters(), lr=0.001) \n",
    "\n",
    "mdlx = mdlx.to(device)\n",
    "\n",
    "num_epochs = 25  \n",
    "epoch_losses = []\n",
    "\n",
    "for epoch in range(num_epochs):\n",
    "    epoch_loss = 0  # Reset epoch loss\n",
    "    num_batches = 0  # To count the number of batches\n",
    "\n",
    "    for i, (images, labels) in enumerate(data_loader):\n",
    "        images, labels = images.to(device), labels.to(device)\n",
    "        images = images.unsqueeze(1)\n",
    "        \n",
    "        _, _, _, outputs = mdlx(images)\n",
    "        loss = criterion(outputs, labels)\n",
    "\n",
    "        optimizer.zero_grad()\n",
    "        loss.backward()\n",
    "        optimizer.step()\n",
    "        epoch_loss += loss.item()\n",
    "        num_batches += 1\n",
    "\n",
    "        if (i+1) % 100 == 0:\n",
    "            print(f'Epoch {epoch+1}/{num_epochs}, Step {i+1}/{len(data_loader)}, Loss: {loss.item():.5f}')\n",
    "\n",
    "    epoch_loss /= num_batches\n",
    "    epoch_losses.append(epoch_loss)\n",
    "\n",
    "plt.plot(epoch_losses)\n",
    "plt.ylabel('Average Epoch Loss')\n",
    "plt.xlabel('Epoch')\n",
    "plt.title('Loss over Epochs')\n",
    "plt.show()\n"
   ]
  },
  {
   "cell_type": "code",
   "execution_count": 22,
   "metadata": {},
   "outputs": [
    {
     "name": "stderr",
     "output_type": "stream",
     "text": [
      "C:\\Users\\denis\\AppData\\Local\\Temp\\ipykernel_7352\\2518736349.py:28: DeprecationWarning: an integer is required (got type numpy.float64).  Implicit conversion to integers using __int__ is deprecated, and may be removed in a future version of Python.\n",
      "  label = torch.tensor(label, dtype=torch.long)\n"
     ]
    },
    {
     "name": "stdout",
     "output_type": "stream",
     "text": [
      "Accuracy: 93.63%\n"
     ]
    }
   ],
   "source": [
    "def test_model_x(mdlx, test_loader):\n",
    "    mdlx = mdlx.to(device)\n",
    "    \n",
    "    mdlx.eval() \n",
    "    correct = 0\n",
    "    total = 0\n",
    "    with torch.no_grad():  \n",
    "        for images, labels in test_loader:\n",
    "            images, labels = images.to(device), labels.to(device)\n",
    "            \n",
    "            images = images.unsqueeze(1)  \n",
    "            _, _, _, outputs = mdlx(images)\n",
    "            _, predicted = torch.max(outputs.data, 1)  \n",
    "            total += labels.size(0)\n",
    "            correct += (predicted == labels).sum().item()\n",
    "\n",
    "    accuracy = 100 * correct / total\n",
    "    print(f'Accuracy: {accuracy:.2f}%')\n",
    "\n",
    "\n",
    "test_model_x(mdlx, test_loader)"
   ]
  },
  {
   "cell_type": "code",
   "execution_count": 18,
   "metadata": {},
   "outputs": [],
   "source": [
    "\n",
    "class SimpleCNN_2(nn.Module):\n",
    "    def __init__(self, num_classes=10):  \n",
    "        super(SimpleCNN_2, self).__init__()\n",
    "        self.conv1 = nn.Conv2d(in_channels=1, out_channels=32, kernel_size=3, stride=1, padding=1)\n",
    "        self.conv2 = nn.Conv2d(in_channels=32, out_channels=64, kernel_size=3, stride=1, padding=1)\n",
    "        self.conv3 = nn.Conv2d(in_channels=64, out_channels=128, kernel_size=3, stride=1, padding=1)\n",
    "        self.pool = nn.MaxPool2d(kernel_size=2, stride=2, padding=0)\n",
    "        self.dropout = nn.Dropout2d(p=0.2)\n",
    "        self.fc1 = nn.Linear(128 * 7 * 7, 128)  # updating dimensions\n",
    "        self.fc2 = nn.Linear(128, num_classes)\n",
    "\n",
    "    def forward(self, x):\n",
    "        x = self.pool(F.relu(self.conv1(x)))\n",
    "        x = F.relu(self.conv2(x))  \n",
    "        x = self.dropout(x)\n",
    "        x = self.pool(F.relu(self.conv3(x)))  \n",
    "        x = x.view(-1, 128 * 7 * 7)  # updating the flattening\n",
    "        x = F.relu(self.fc1(x))\n",
    "        x = self.dropout(x)\n",
    "        out = self.fc2(x)\n",
    "        return out\n"
   ]
  },
  {
   "cell_type": "code",
   "execution_count": 19,
   "metadata": {},
   "outputs": [
    {
     "name": "stderr",
     "output_type": "stream",
     "text": [
      "C:\\Users\\denis\\AppData\\Local\\Temp\\ipykernel_7352\\2518736349.py:28: DeprecationWarning: an integer is required (got type numpy.float64).  Implicit conversion to integers using __int__ is deprecated, and may be removed in a future version of Python.\n",
      "  label = torch.tensor(label, dtype=torch.long)\n",
      "c:\\Users\\denis\\anaconda3\\lib\\site-packages\\torch\\nn\\functional.py:1331: UserWarning: dropout2d: Received a 2-D input to dropout2d, which is deprecated and will result in an error in a future release. To retain the behavior and silence this warning, please use dropout instead. Note that dropout2d exists to provide channel-wise dropout on inputs with 2 spatial dimensions, a channel dimension, and an optional batch dimension (i.e. 3D or 4D inputs).\n",
      "  warnings.warn(warn_msg)\n"
     ]
    },
    {
     "name": "stdout",
     "output_type": "stream",
     "text": [
      "Epoch 1/50, Step 100/352, Loss: 0.71068\n",
      "Epoch 1/50, Step 200/352, Loss: 0.90770\n",
      "Epoch 1/50, Step 300/352, Loss: 0.37948\n",
      "Epoch 2/50, Step 100/352, Loss: 0.56941\n",
      "Epoch 2/50, Step 200/352, Loss: 0.16817\n",
      "Epoch 2/50, Step 300/352, Loss: 0.40649\n",
      "Epoch 3/50, Step 100/352, Loss: 0.51285\n",
      "Epoch 3/50, Step 200/352, Loss: 0.27103\n",
      "Epoch 3/50, Step 300/352, Loss: 0.19188\n",
      "Epoch 4/50, Step 100/352, Loss: 0.23542\n",
      "Epoch 4/50, Step 200/352, Loss: 0.20452\n",
      "Epoch 4/50, Step 300/352, Loss: 0.23232\n",
      "Epoch 5/50, Step 100/352, Loss: 0.29437\n",
      "Epoch 5/50, Step 200/352, Loss: 0.18527\n",
      "Epoch 5/50, Step 300/352, Loss: 0.16811\n",
      "Epoch 6/50, Step 100/352, Loss: 0.19062\n",
      "Epoch 6/50, Step 200/352, Loss: 0.46170\n",
      "Epoch 6/50, Step 300/352, Loss: 0.19019\n",
      "Epoch 7/50, Step 100/352, Loss: 0.29782\n",
      "Epoch 7/50, Step 200/352, Loss: 0.07723\n",
      "Epoch 7/50, Step 300/352, Loss: 0.12337\n",
      "Epoch 8/50, Step 100/352, Loss: 0.03217\n",
      "Epoch 8/50, Step 200/352, Loss: 0.20147\n",
      "Epoch 8/50, Step 300/352, Loss: 0.26545\n",
      "Epoch 9/50, Step 100/352, Loss: 0.09655\n",
      "Epoch 9/50, Step 200/352, Loss: 0.01892\n",
      "Epoch 9/50, Step 300/352, Loss: 0.22316\n",
      "Epoch 10/50, Step 100/352, Loss: 0.10826\n",
      "Epoch 10/50, Step 200/352, Loss: 0.09880\n",
      "Epoch 10/50, Step 300/352, Loss: 0.31822\n",
      "Epoch 11/50, Step 100/352, Loss: 0.06790\n",
      "Epoch 11/50, Step 200/352, Loss: 0.19931\n",
      "Epoch 11/50, Step 300/352, Loss: 0.19981\n",
      "Epoch 12/50, Step 100/352, Loss: 0.32222\n",
      "Epoch 12/50, Step 200/352, Loss: 0.14571\n",
      "Epoch 12/50, Step 300/352, Loss: 0.16481\n",
      "Epoch 13/50, Step 100/352, Loss: 0.07580\n",
      "Epoch 13/50, Step 200/352, Loss: 0.04511\n",
      "Epoch 13/50, Step 300/352, Loss: 0.15420\n",
      "Epoch 14/50, Step 100/352, Loss: 0.13918\n",
      "Epoch 14/50, Step 200/352, Loss: 0.37102\n",
      "Epoch 14/50, Step 300/352, Loss: 0.09683\n",
      "Epoch 15/50, Step 100/352, Loss: 0.16664\n",
      "Epoch 15/50, Step 200/352, Loss: 0.19508\n",
      "Epoch 15/50, Step 300/352, Loss: 0.02484\n",
      "Epoch 16/50, Step 100/352, Loss: 0.39257\n",
      "Epoch 16/50, Step 200/352, Loss: 0.20025\n",
      "Epoch 16/50, Step 300/352, Loss: 0.04691\n",
      "Epoch 17/50, Step 100/352, Loss: 0.13553\n",
      "Epoch 17/50, Step 200/352, Loss: 0.10026\n",
      "Epoch 17/50, Step 300/352, Loss: 0.22834\n",
      "Epoch 18/50, Step 100/352, Loss: 0.00879\n",
      "Epoch 18/50, Step 200/352, Loss: 0.12034\n",
      "Epoch 18/50, Step 300/352, Loss: 0.16524\n",
      "Epoch 19/50, Step 100/352, Loss: 0.03862\n",
      "Epoch 19/50, Step 200/352, Loss: 0.04110\n",
      "Epoch 19/50, Step 300/352, Loss: 0.18610\n",
      "Epoch 20/50, Step 100/352, Loss: 0.02880\n",
      "Epoch 20/50, Step 200/352, Loss: 0.30462\n",
      "Epoch 20/50, Step 300/352, Loss: 0.08400\n",
      "Epoch 21/50, Step 100/352, Loss: 0.27798\n",
      "Epoch 21/50, Step 200/352, Loss: 0.07713\n",
      "Epoch 21/50, Step 300/352, Loss: 0.06323\n",
      "Epoch 22/50, Step 100/352, Loss: 0.15013\n",
      "Epoch 22/50, Step 200/352, Loss: 0.09461\n",
      "Epoch 22/50, Step 300/352, Loss: 0.10217\n",
      "Epoch 23/50, Step 100/352, Loss: 0.04176\n",
      "Epoch 23/50, Step 200/352, Loss: 0.03817\n",
      "Epoch 23/50, Step 300/352, Loss: 0.01701\n",
      "Epoch 24/50, Step 100/352, Loss: 0.04214\n",
      "Epoch 24/50, Step 200/352, Loss: 0.07875\n",
      "Epoch 24/50, Step 300/352, Loss: 0.12537\n",
      "Epoch 25/50, Step 100/352, Loss: 0.07650\n",
      "Epoch 25/50, Step 200/352, Loss: 0.08794\n",
      "Epoch 25/50, Step 300/352, Loss: 0.06286\n",
      "Epoch 26/50, Step 100/352, Loss: 0.07127\n",
      "Epoch 26/50, Step 200/352, Loss: 0.11570\n",
      "Epoch 26/50, Step 300/352, Loss: 0.04390\n",
      "Epoch 27/50, Step 100/352, Loss: 0.08178\n",
      "Epoch 27/50, Step 200/352, Loss: 0.01475\n",
      "Epoch 27/50, Step 300/352, Loss: 0.04045\n",
      "Epoch 28/50, Step 100/352, Loss: 0.04491\n",
      "Epoch 28/50, Step 200/352, Loss: 0.06973\n",
      "Epoch 28/50, Step 300/352, Loss: 0.00918\n",
      "Epoch 29/50, Step 100/352, Loss: 0.00328\n",
      "Epoch 29/50, Step 200/352, Loss: 0.01626\n",
      "Epoch 29/50, Step 300/352, Loss: 0.11595\n",
      "Epoch 30/50, Step 100/352, Loss: 0.04665\n",
      "Epoch 30/50, Step 200/352, Loss: 0.02513\n",
      "Epoch 30/50, Step 300/352, Loss: 0.07402\n",
      "Epoch 31/50, Step 100/352, Loss: 0.02933\n",
      "Epoch 31/50, Step 200/352, Loss: 0.09927\n",
      "Epoch 31/50, Step 300/352, Loss: 0.00765\n",
      "Epoch 32/50, Step 100/352, Loss: 0.08833\n",
      "Epoch 32/50, Step 200/352, Loss: 0.01964\n",
      "Epoch 32/50, Step 300/352, Loss: 0.03340\n",
      "Epoch 33/50, Step 100/352, Loss: 0.01487\n",
      "Epoch 33/50, Step 200/352, Loss: 0.02853\n",
      "Epoch 33/50, Step 300/352, Loss: 0.05592\n",
      "Epoch 34/50, Step 100/352, Loss: 0.03886\n",
      "Epoch 34/50, Step 200/352, Loss: 0.01234\n",
      "Epoch 34/50, Step 300/352, Loss: 0.07338\n",
      "Epoch 35/50, Step 100/352, Loss: 0.06763\n",
      "Epoch 35/50, Step 200/352, Loss: 0.01236\n",
      "Epoch 35/50, Step 300/352, Loss: 0.01566\n",
      "Epoch 36/50, Step 100/352, Loss: 0.01140\n",
      "Epoch 36/50, Step 200/352, Loss: 0.00659\n",
      "Epoch 36/50, Step 300/352, Loss: 0.01855\n",
      "Epoch 37/50, Step 100/352, Loss: 0.10838\n",
      "Epoch 37/50, Step 200/352, Loss: 0.03331\n",
      "Epoch 37/50, Step 300/352, Loss: 0.05465\n",
      "Epoch 38/50, Step 100/352, Loss: 0.03749\n",
      "Epoch 38/50, Step 200/352, Loss: 0.15163\n",
      "Epoch 38/50, Step 300/352, Loss: 0.01758\n",
      "Epoch 39/50, Step 100/352, Loss: 0.04677\n",
      "Epoch 39/50, Step 200/352, Loss: 0.02975\n",
      "Epoch 39/50, Step 300/352, Loss: 0.00412\n",
      "Epoch 40/50, Step 100/352, Loss: 0.04387\n",
      "Epoch 40/50, Step 200/352, Loss: 0.12843\n",
      "Epoch 40/50, Step 300/352, Loss: 0.03980\n",
      "Epoch 41/50, Step 100/352, Loss: 0.01319\n",
      "Epoch 41/50, Step 200/352, Loss: 0.01109\n",
      "Epoch 41/50, Step 300/352, Loss: 0.02733\n",
      "Epoch 42/50, Step 100/352, Loss: 0.00406\n",
      "Epoch 42/50, Step 200/352, Loss: 0.14042\n",
      "Epoch 42/50, Step 300/352, Loss: 0.08170\n",
      "Epoch 43/50, Step 100/352, Loss: 0.03131\n",
      "Epoch 43/50, Step 200/352, Loss: 0.14510\n",
      "Epoch 43/50, Step 300/352, Loss: 0.01135\n",
      "Epoch 44/50, Step 100/352, Loss: 0.03300\n",
      "Epoch 44/50, Step 200/352, Loss: 0.03145\n",
      "Epoch 44/50, Step 300/352, Loss: 0.00685\n",
      "Epoch 45/50, Step 100/352, Loss: 0.01078\n",
      "Epoch 45/50, Step 200/352, Loss: 0.05777\n",
      "Epoch 45/50, Step 300/352, Loss: 0.01637\n",
      "Epoch 46/50, Step 100/352, Loss: 0.02070\n",
      "Epoch 46/50, Step 200/352, Loss: 0.00599\n",
      "Epoch 46/50, Step 300/352, Loss: 0.11403\n",
      "Epoch 47/50, Step 100/352, Loss: 0.01868\n",
      "Epoch 47/50, Step 200/352, Loss: 0.05949\n",
      "Epoch 47/50, Step 300/352, Loss: 0.01338\n",
      "Epoch 48/50, Step 100/352, Loss: 0.07480\n",
      "Epoch 48/50, Step 200/352, Loss: 0.00285\n",
      "Epoch 48/50, Step 300/352, Loss: 0.00289\n",
      "Epoch 49/50, Step 100/352, Loss: 0.00236\n",
      "Epoch 49/50, Step 200/352, Loss: 0.00922\n",
      "Epoch 49/50, Step 300/352, Loss: 0.03124\n",
      "Epoch 50/50, Step 100/352, Loss: 0.01326\n",
      "Epoch 50/50, Step 200/352, Loss: 0.03096\n",
      "Epoch 50/50, Step 300/352, Loss: 0.00589\n"
     ]
    },
    {
     "data": {
      "image/png": "[encoded data removed]",
      "text/plain": [
       "<Figure size 640x480 with 1 Axes>"
      ]
     },
     "metadata": {},
     "output_type": "display_data"
    }
   ],
   "source": [
    "model_x = SimpleCNN_2(num_classes=10) \n",
    "criterion = nn.CrossEntropyLoss()  \n",
    "optimizer = torch.optim.SGD(model_x.parameters(), lr=0.001, momentum=0.1)\n",
    "\n",
    "model_x = model_x.to(device)\n",
    "\n",
    "num_epochs = 50\n",
    "epoch_losses  = []\n",
    "\n",
    "for epoch in range(num_epochs):\n",
    "    epoch_loss = 0  # Reset epoch loss\n",
    "    num_batches = 0  # To count the number of batches\n",
    "\n",
    "    for i, (images, labels) in enumerate(data_loader):\n",
    "        images, labels = images.to(device), labels.to(device)\n",
    "        images = images.unsqueeze(1)\n",
    "        \n",
    "        outputs = model_x(images)\n",
    "        loss = criterion(outputs, labels)\n",
    "\n",
    "        optimizer.zero_grad()\n",
    "        loss.backward()\n",
    "        optimizer.step()\n",
    "        epoch_loss += loss.item()\n",
    "        num_batches += 1\n",
    "\n",
    "        if (i+1) % 100 == 0:\n",
    "            print(f'Epoch {epoch+1}/{num_epochs}, Step {i+1}/{len(data_loader)}, Loss: {loss.item():.5f}')\n",
    "    epoch_loss /= num_batches\n",
    "    epoch_losses.append(epoch_loss)\n",
    "            \n",
    "plt.plot(epoch_losses)\n",
    "plt.ylabel('Average Epoch Loss')\n",
    "plt.xlabel('Epoch')\n",
    "plt.title('Loss over Epochs')\n",
    "plt.show()"
   ]
  },
  {
   "cell_type": "code",
   "execution_count": 20,
   "metadata": {},
   "outputs": [
    {
     "name": "stderr",
     "output_type": "stream",
     "text": [
      "C:\\Users\\denis\\AppData\\Local\\Temp\\ipykernel_7352\\2518736349.py:28: DeprecationWarning: an integer is required (got type numpy.float64).  Implicit conversion to integers using __int__ is deprecated, and may be removed in a future version of Python.\n",
      "  label = torch.tensor(label, dtype=torch.long)\n"
     ]
    },
    {
     "name": "stdout",
     "output_type": "stream",
     "text": [
      "Accuracy: 93.99%\n"
     ]
    }
   ],
   "source": [
    "def test_model_x(model_x, test_loader):\n",
    "    model_x = model_x.to(device)\n",
    "    \n",
    "    model_x.eval() \n",
    "    correct = 0\n",
    "    total = 0\n",
    "    with torch.no_grad():  \n",
    "        for images, labels in test_loader:\n",
    "            images, labels = images.to(device), labels.to(device)\n",
    "\n",
    "            images = images.unsqueeze(1)  \n",
    "            outputs = model_x(images)\n",
    "            _, predicted = torch.max(outputs.data, 1)  \n",
    "            total += labels.size(0)\n",
    "            correct += (predicted == labels).sum().item()\n",
    "\n",
    "    accuracy = 100 * correct / total\n",
    "    print(f'Accuracy: {accuracy:.2f}%')\n",
    "\n",
    "\n",
    "test_model_x(model_x, test_loader)"
   ]
  },
  {
   "cell_type": "code",
   "execution_count": null,
   "metadata": {},
   "outputs": [],
   "source": []
  }
 ],
 "metadata": {
  "kernelspec": {
   "display_name": "base",
   "language": "python",
   "name": "python3"
  },
  "language_info": {
   "codemirror_mode": {
    "name": "ipython",
    "version": 3
   },
   "file_extension": ".py",
   "mimetype": "text/x-python",
   "name": "python",
   "nbconvert_exporter": "python",
   "pygments_lexer": "ipython3",
   "version": "3.9.13"
  },
  "orig_nbformat": 4
 },
 "nbformat": 4,
 "nbformat_minor": 2
}
