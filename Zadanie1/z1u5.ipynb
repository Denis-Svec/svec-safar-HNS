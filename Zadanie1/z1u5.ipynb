{
 "cells": [
  {
   "cell_type": "code",
   "execution_count": 1,
   "metadata": {},
   "outputs": [],
   "source": [
    "import torch\n",
    "from torch import nn\n",
    "from torch.utils.data import DataLoader\n",
    "from torchvision import datasets\n",
    "from torchvision.transforms import ToTensor\n",
    "import pandas as pd\n",
    "import numpy as np\n",
    "import matplotlib.pyplot as plt\n",
    "import scipy.io\n",
    "import torch.nn.functional as F"
   ]
  },
  {
   "cell_type": "code",
   "execution_count": 2,
   "metadata": {},
   "outputs": [
    {
     "name": "stdout",
     "output_type": "stream",
     "text": [
      "Using cuda device\n"
     ]
    }
   ],
   "source": [
    "device = (\n",
    "    \"cuda\"\n",
    "    if torch.cuda.is_available()\n",
    "    else \"mps\"\n",
    "    if torch.backends.mps.is_available()\n",
    "    else \"cpu\"\n",
    ")\n",
    "print(f\"Using {device} device\")\n"
   ]
  },
  {
   "cell_type": "code",
   "execution_count": null,
   "metadata": {},
   "outputs": [],
   "source": []
  },
  {
   "cell_type": "code",
   "execution_count": 3,
   "metadata": {},
   "outputs": [
    {
     "data": {
      "text/plain": [
       "dict_keys(['__header__', '__version__', '__globals__', 'images', 'labels'])"
      ]
     },
     "execution_count": 3,
     "metadata": {},
     "output_type": "execute_result"
    }
   ],
   "source": [
    "mat = scipy.io.loadmat('notMNIST_small.mat')\n",
    "mat.keys()\n"
   ]
  },
  {
   "cell_type": "code",
   "execution_count": 4,
   "metadata": {},
   "outputs": [
    {
     "data": {
      "image/png": "[encoded data removed]",
      "text/plain": [
       "<Figure size 640x480 with 1 Axes>"
      ]
     },
     "metadata": {},
     "output_type": "display_data"
    }
   ],
   "source": [
    "mat['images'].shape\n",
    "\n",
    "plt.imshow(mat['images'][:, :, 1], cmap='gray')\n",
    "plt.axis('off')\n",
    "plt.show()"
   ]
  },
  {
   "cell_type": "code",
   "execution_count": 5,
   "metadata": {},
   "outputs": [
    {
     "data": {
      "image/png": "[encoded data removed]",
      "text/plain": [
       "<Figure size 640x480 with 1 Axes>"
      ]
     },
     "metadata": {},
     "output_type": "display_data"
    },
    {
     "data": {
      "text/plain": [
       "(18724, 28, 28)"
      ]
     },
     "execution_count": 5,
     "metadata": {},
     "output_type": "execute_result"
    }
   ],
   "source": [
    "new_img = np.random.rand(18724, 28, 28)\n",
    "for index in range(mat['images'].shape[2]):\n",
    "    new_img[index] = mat['images'][:,:,index]\n",
    "\n",
    "plt.imshow(new_img[1, :, :], cmap='gray')\n",
    "plt.axis('off')\n",
    "plt.show()\n",
    "\n",
    "new_img.shape"
   ]
  },
  {
   "cell_type": "code",
   "execution_count": 6,
   "metadata": {},
   "outputs": [],
   "source": [
    "indices = np.arange(18724)\n",
    "np.random.shuffle(indices)\n",
    "labels = np.array(mat['labels'])\n",
    "\n",
    "\n",
    "shuffled_images = new_img[indices]\n",
    "shuffled_labels = labels[indices]"
   ]
  },
  {
   "cell_type": "code",
   "execution_count": 7,
   "metadata": {},
   "outputs": [
    {
     "data": {
      "text/plain": [
       "(11234, 28, 28)"
      ]
     },
     "execution_count": 7,
     "metadata": {},
     "output_type": "execute_result"
    }
   ],
   "source": [
    "x_train_img = np.array(shuffled_images[0:11234, :,:])\n",
    "x_test_img = np.array(shuffled_images[11235:18724, :,:])\n",
    "y_train_label = np.array(shuffled_labels[0:11234])\n",
    "y_test_label =np.array(shuffled_labels[11235:18724])\n",
    "\n",
    "x_train_img.shape"
   ]
  },
  {
   "cell_type": "code",
   "execution_count": null,
   "metadata": {},
   "outputs": [],
   "source": []
  },
  {
   "cell_type": "code",
   "execution_count": 8,
   "metadata": {},
   "outputs": [],
   "source": [
    "import torch\n",
    "from torch.utils.data import Dataset\n",
    "\n",
    "class CustomDataset(Dataset):\n",
    "    def __init__(self, images, labels, transform=None):\n",
    "\n",
    "        self.images = images\n",
    "        self.labels = labels\n",
    "        self.transform = transform\n",
    "\n",
    "    def __len__(self):\n",
    "        return len(self.labels)\n",
    "\n",
    "    def __getitem__(self, idx):\n",
    "        image = self.images[idx]\n",
    "        label = self.labels[idx]\n",
    "\n",
    "        if self.transform:\n",
    "            image = self.transform(image)\n",
    "\n",
    " \n",
    "        image = torch.tensor(image, dtype=torch.float32)\n",
    "        label = torch.tensor(label, dtype=torch.long)\n",
    "\n",
    "        return image, label"
   ]
  },
  {
   "cell_type": "code",
   "execution_count": 9,
   "metadata": {},
   "outputs": [],
   "source": [
    "test_images = x_test_img\n",
    "test_labels = y_test_label\n",
    "\n",
    "test_dataset = CustomDataset(test_images, test_labels)\n",
    "\n",
    "test_loader = DataLoader(dataset=test_dataset, batch_size=32, shuffle=False)"
   ]
  },
  {
   "cell_type": "code",
   "execution_count": 10,
   "metadata": {},
   "outputs": [],
   "source": [
    "from torch.utils.data import DataLoader\n",
    "\n",
    "images = x_train_img\n",
    "labels = y_train_label\n",
    "\n",
    "custom_dataset = CustomDataset(images, labels)\n",
    "\n",
    "data_loader = DataLoader(dataset=custom_dataset, batch_size=32, shuffle=True)\n"
   ]
  },
  {
   "cell_type": "code",
   "execution_count": 11,
   "metadata": {},
   "outputs": [],
   "source": [
    "class SimpleCNN_x(nn.Module):\n",
    "    def __init__(self, num_classes=10):  \n",
    "        super(SimpleCNN_x, self).__init__()\n",
    "        self.conv1 = nn.Conv2d(in_channels=1, out_channels=32, kernel_size=3, stride=1, padding=1)\n",
    "        self.conv2 = nn.Conv2d(in_channels=32, out_channels=64, kernel_size=3, stride=1, padding=1)\n",
    "        self.conv3 = nn.Conv2d(in_channels=64, out_channels=64, kernel_size=3, stride=1, padding=1)\n",
    "        self.pool = nn.MaxPool2d(kernel_size=2, stride=2, padding=0)\n",
    "        self.dropout = nn.Dropout2d(p=0.2)\n",
    "        self.fc1 = nn.Linear(3136, 128)  \n",
    "        self.fc2 = nn.Linear(128, num_classes)\n",
    "\n",
    "    def forward(self, x):\n",
    "        x1 = F.relu(self.conv1(x))\n",
    "        x2 = F.relu(self.conv2(x1))\n",
    "        x3 = self.pool(x2)\n",
    "        x3 = self.dropout(x3)\n",
    "        x4 = self.pool(F.relu(self.conv3(x3)))\n",
    "        x4 = self.dropout(x4)\n",
    "        x5 = x4.view(x4.size(0), -1)  \n",
    "        x6 = F.relu(self.fc1(x5))\n",
    "        x6 = self.dropout(x6)\n",
    "        out = self.fc2(x6)\n",
    "        return x1, x2, out\n"
   ]
  },
  {
   "cell_type": "code",
   "execution_count": 12,
   "metadata": {},
   "outputs": [
    {
     "name": "stderr",
     "output_type": "stream",
     "text": [
      "C:\\Users\\denis\\AppData\\Local\\Temp\\ipykernel_11100\\691292828.py:23: DeprecationWarning: an integer is required (got type numpy.float64).  Implicit conversion to integers using __int__ is deprecated, and may be removed in a future version of Python.\n",
      "  label = torch.tensor(label, dtype=torch.long)\n",
      "c:\\Users\\denis\\anaconda3\\lib\\site-packages\\torch\\nn\\functional.py:1331: UserWarning: dropout2d: Received a 2-D input to dropout2d, which is deprecated and will result in an error in a future release. To retain the behavior and silence this warning, please use dropout instead. Note that dropout2d exists to provide channel-wise dropout on inputs with 2 spatial dimensions, a channel dimension, and an optional batch dimension (i.e. 3D or 4D inputs).\n",
      "  warnings.warn(warn_msg)\n"
     ]
    },
    {
     "name": "stdout",
     "output_type": "stream",
     "text": [
      "Epoch 1/25, Step 100/352, Loss: 0.55027\n",
      "Epoch 1/25, Step 200/352, Loss: 0.28047\n",
      "Epoch 1/25, Step 300/352, Loss: 0.21742\n",
      "Epoch 2/25, Step 100/352, Loss: 0.11094\n",
      "Epoch 2/25, Step 200/352, Loss: 0.32086\n",
      "Epoch 2/25, Step 300/352, Loss: 0.49302\n",
      "Epoch 3/25, Step 100/352, Loss: 0.39250\n",
      "Epoch 3/25, Step 200/352, Loss: 0.27449\n",
      "Epoch 3/25, Step 300/352, Loss: 0.21887\n",
      "Epoch 4/25, Step 100/352, Loss: 0.13756\n",
      "Epoch 4/25, Step 200/352, Loss: 0.03671\n",
      "Epoch 4/25, Step 300/352, Loss: 0.20457\n",
      "Epoch 5/25, Step 100/352, Loss: 0.01392\n",
      "Epoch 5/25, Step 200/352, Loss: 0.09293\n",
      "Epoch 5/25, Step 300/352, Loss: 0.09492\n",
      "Epoch 6/25, Step 100/352, Loss: 0.15584\n",
      "Epoch 6/25, Step 200/352, Loss: 0.34380\n",
      "Epoch 6/25, Step 300/352, Loss: 0.13127\n",
      "Epoch 7/25, Step 100/352, Loss: 0.05903\n",
      "Epoch 7/25, Step 200/352, Loss: 0.02440\n",
      "Epoch 7/25, Step 300/352, Loss: 0.09170\n",
      "Epoch 8/25, Step 100/352, Loss: 0.18797\n",
      "Epoch 8/25, Step 200/352, Loss: 0.10918\n",
      "Epoch 8/25, Step 300/352, Loss: 0.04064\n",
      "Epoch 9/25, Step 100/352, Loss: 0.06140\n",
      "Epoch 9/25, Step 200/352, Loss: 0.13883\n",
      "Epoch 9/25, Step 300/352, Loss: 0.06821\n",
      "Epoch 10/25, Step 100/352, Loss: 0.07944\n",
      "Epoch 10/25, Step 200/352, Loss: 0.05323\n",
      "Epoch 10/25, Step 300/352, Loss: 0.23129\n",
      "Epoch 11/25, Step 100/352, Loss: 0.07110\n",
      "Epoch 11/25, Step 200/352, Loss: 0.03329\n",
      "Epoch 11/25, Step 300/352, Loss: 0.21439\n",
      "Epoch 12/25, Step 100/352, Loss: 0.19647\n",
      "Epoch 12/25, Step 200/352, Loss: 0.02122\n",
      "Epoch 12/25, Step 300/352, Loss: 0.08622\n",
      "Epoch 13/25, Step 100/352, Loss: 0.02126\n",
      "Epoch 13/25, Step 200/352, Loss: 0.20310\n",
      "Epoch 13/25, Step 300/352, Loss: 0.08018\n",
      "Epoch 14/25, Step 100/352, Loss: 0.06804\n",
      "Epoch 14/25, Step 200/352, Loss: 0.08434\n",
      "Epoch 14/25, Step 300/352, Loss: 0.14520\n",
      "Epoch 15/25, Step 100/352, Loss: 0.02715\n",
      "Epoch 15/25, Step 200/352, Loss: 0.16980\n",
      "Epoch 15/25, Step 300/352, Loss: 0.00210\n",
      "Epoch 16/25, Step 100/352, Loss: 0.02495\n",
      "Epoch 16/25, Step 200/352, Loss: 0.09527\n",
      "Epoch 16/25, Step 300/352, Loss: 0.07116\n",
      "Epoch 17/25, Step 100/352, Loss: 0.02376\n",
      "Epoch 17/25, Step 200/352, Loss: 0.07843\n",
      "Epoch 17/25, Step 300/352, Loss: 0.01431\n",
      "Epoch 18/25, Step 100/352, Loss: 0.07022\n",
      "Epoch 18/25, Step 200/352, Loss: 0.00656\n",
      "Epoch 18/25, Step 300/352, Loss: 0.09965\n",
      "Epoch 19/25, Step 100/352, Loss: 0.03078\n",
      "Epoch 19/25, Step 200/352, Loss: 0.04130\n",
      "Epoch 19/25, Step 300/352, Loss: 0.00411\n",
      "Epoch 20/25, Step 100/352, Loss: 0.05580\n",
      "Epoch 20/25, Step 200/352, Loss: 0.07743\n",
      "Epoch 20/25, Step 300/352, Loss: 0.03749\n",
      "Epoch 21/25, Step 100/352, Loss: 0.04400\n",
      "Epoch 21/25, Step 200/352, Loss: 0.11501\n",
      "Epoch 21/25, Step 300/352, Loss: 0.19751\n",
      "Epoch 22/25, Step 100/352, Loss: 0.01446\n",
      "Epoch 22/25, Step 200/352, Loss: 0.05651\n",
      "Epoch 22/25, Step 300/352, Loss: 0.00902\n",
      "Epoch 23/25, Step 100/352, Loss: 0.03619\n",
      "Epoch 23/25, Step 200/352, Loss: 0.03524\n",
      "Epoch 23/25, Step 300/352, Loss: 0.01631\n",
      "Epoch 24/25, Step 100/352, Loss: 0.13135\n",
      "Epoch 24/25, Step 200/352, Loss: 0.05965\n",
      "Epoch 24/25, Step 300/352, Loss: 0.07414\n",
      "Epoch 25/25, Step 100/352, Loss: 0.02566\n",
      "Epoch 25/25, Step 200/352, Loss: 0.14704\n",
      "Epoch 25/25, Step 300/352, Loss: 0.04430\n"
     ]
    },
    {
     "data": {
      "image/png": "[encoded data removed]",
      "text/plain": [
       "<Figure size 640x480 with 1 Axes>"
      ]
     },
     "metadata": {},
     "output_type": "display_data"
    }
   ],
   "source": [
    "mdlx = SimpleCNN_x(num_classes=10) \n",
    "criterion = nn.CrossEntropyLoss()  \n",
    "optimizer = torch.optim.SGD(mdlx.parameters(), lr=0.001, momentum=0.8)\n",
    "\n",
    "mdlx = mdlx.to(device)\n",
    "\n",
    "num_epochs = 25  \n",
    "epoch_losses = []\n",
    "\n",
    "for epoch in range(num_epochs):\n",
    "    epoch_loss = 0\n",
    "    num_batches = 0\n",
    "\n",
    "    for i, (images, labels) in enumerate(data_loader):\n",
    "        images, labels = images.to(device), labels.to(device)\n",
    "        images = images.unsqueeze(1)\n",
    "        \n",
    "        x1, x2, outputs = mdlx(images)\n",
    "        loss = criterion(outputs, labels)\n",
    "\n",
    "        optimizer.zero_grad()\n",
    "        loss.backward()\n",
    "        optimizer.step()\n",
    "        epoch_loss += loss.item()\n",
    "        num_batches += 1\n",
    "\n",
    "        if (i+1) % 100 == 0:\n",
    "            print(f'Epoch {epoch+1}/{num_epochs}, Step {i+1}/{len(data_loader)}, Loss: {loss.item():.5f}')\n",
    "\n",
    "        del images, labels, outputs, x1, x2, loss\n",
    "        torch.cuda.empty_cache()\n",
    "        \n",
    "    epoch_loss /= num_batches\n",
    "    epoch_losses.append(epoch_loss)\n",
    "\n",
    "plt.plot(epoch_losses)\n",
    "plt.ylabel('Average Epoch Loss')\n",
    "plt.xlabel('Epoch')\n",
    "plt.title('Loss over Epochs')\n",
    "plt.show()\n"
   ]
  },
  {
   "cell_type": "code",
   "execution_count": 13,
   "metadata": {},
   "outputs": [
    {
     "name": "stderr",
     "output_type": "stream",
     "text": [
      "C:\\Users\\denis\\AppData\\Local\\Temp\\ipykernel_11100\\691292828.py:23: DeprecationWarning: an integer is required (got type numpy.float64).  Implicit conversion to integers using __int__ is deprecated, and may be removed in a future version of Python.\n",
      "  label = torch.tensor(label, dtype=torch.long)\n"
     ]
    },
    {
     "name": "stdout",
     "output_type": "stream",
     "text": [
      "Accuracy: 94.49%\n"
     ]
    }
   ],
   "source": [
    "def test_model_x(mdlx, test_loader):\n",
    "    mdlx = mdlx.to(device)\n",
    "    \n",
    "    mdlx.eval() \n",
    "    correct = 0\n",
    "    total = 0\n",
    "  \n",
    "    for images, labels in test_loader:\n",
    "        images, labels = images.to(device), labels.to(device)\n",
    "        \n",
    "        images = images.unsqueeze(1)  \n",
    "        x1, x2, outputs = mdlx(images)\n",
    "        _, predicted = torch.max(outputs.data, 1)  \n",
    "        total += labels.size(0)\n",
    "        correct += (predicted == labels).sum().item()\n",
    "\n",
    "    accuracy = 100 * correct / total\n",
    "    print(f'Accuracy: {accuracy:.2f}%')\n",
    "    del images, labels, outputs\n",
    "    torch.cuda.empty_cache()\n",
    "\n",
    "test_model_x(mdlx, test_loader)\n"
   ]
  },
  {
   "cell_type": "code",
   "execution_count": null,
   "metadata": {},
   "outputs": [],
   "source": []
  }
 ],
 "metadata": {
  "kernelspec": {
   "display_name": "base",
   "language": "python",
   "name": "python3"
  },
  "language_info": {
   "codemirror_mode": {
    "name": "ipython",
    "version": 3
   },
   "file_extension": ".py",
   "mimetype": "text/x-python",
   "name": "python",
   "nbconvert_exporter": "python",
   "pygments_lexer": "ipython3",
   "version": "3.9.13"
  },
  "orig_nbformat": 4
 },
 "nbformat": 4,
 "nbformat_minor": 2
}
