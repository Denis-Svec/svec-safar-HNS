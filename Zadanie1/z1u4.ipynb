{
 "cells": [
  {
   "cell_type": "code",
   "execution_count": 1,
   "metadata": {},
   "outputs": [],
   "source": [
    "import torch\n",
    "from torch import nn\n",
    "from torch.utils.data import DataLoader\n",
    "from torchvision import datasets\n",
    "from torchvision.transforms import ToTensor\n",
    "import pandas as pd\n",
    "import numpy as np\n",
    "import matplotlib.pyplot as plt\n",
    "import scipy.io\n",
    "import torch.nn.functional as F"
   ]
  },
  {
   "cell_type": "code",
   "execution_count": 2,
   "metadata": {},
   "outputs": [
    {
     "name": "stdout",
     "output_type": "stream",
     "text": [
      "Using cuda device\n"
     ]
    }
   ],
   "source": [
    "device = (\n",
    "    \"cuda\"\n",
    "    if torch.cuda.is_available()\n",
    "    else \"mps\"\n",
    "    if torch.backends.mps.is_available()\n",
    "    else \"cpu\"\n",
    ")\n",
    "print(f\"Using {device} device\")\n"
   ]
  },
  {
   "cell_type": "code",
   "execution_count": null,
   "metadata": {},
   "outputs": [],
   "source": []
  },
  {
   "cell_type": "code",
   "execution_count": 3,
   "metadata": {},
   "outputs": [
    {
     "data": {
      "text/plain": [
       "dict_keys(['__header__', '__version__', '__globals__', 'images', 'labels'])"
      ]
     },
     "execution_count": 3,
     "metadata": {},
     "output_type": "execute_result"
    }
   ],
   "source": [
    "mat = scipy.io.loadmat('notMNIST_small.mat')\n",
    "mat.keys()\n"
   ]
  },
  {
   "cell_type": "code",
   "execution_count": 4,
   "metadata": {},
   "outputs": [
    {
     "data": {
      "image/png": "[encoded data removed]",
      "text/plain": [
       "<Figure size 640x480 with 1 Axes>"
      ]
     },
     "metadata": {},
     "output_type": "display_data"
    }
   ],
   "source": [
    "mat['images'].shape\n",
    "\n",
    "plt.imshow(mat['images'][:, :, 1], cmap='gray')\n",
    "plt.axis('off')\n",
    "plt.show()"
   ]
  },
  {
   "cell_type": "code",
   "execution_count": 5,
   "metadata": {},
   "outputs": [
    {
     "data": {
      "image/png": "[encoded data removed]",
      "text/plain": [
       "<Figure size 640x480 with 1 Axes>"
      ]
     },
     "metadata": {},
     "output_type": "display_data"
    },
    {
     "data": {
      "text/plain": [
       "(18724, 28, 28)"
      ]
     },
     "execution_count": 5,
     "metadata": {},
     "output_type": "execute_result"
    }
   ],
   "source": [
    "new_img = np.random.rand(18724, 28, 28)\n",
    "for index in range(mat['images'].shape[2]):\n",
    "    new_img[index] = mat['images'][:,:,index]\n",
    "\n",
    "plt.imshow(new_img[1, :, :], cmap='gray')\n",
    "plt.axis('off')\n",
    "plt.show()\n",
    "\n",
    "new_img.shape"
   ]
  },
  {
   "cell_type": "code",
   "execution_count": 6,
   "metadata": {},
   "outputs": [],
   "source": [
    "indices = np.arange(18724)\n",
    "np.random.shuffle(indices)\n",
    "labels = np.array(mat['labels'])\n",
    "\n",
    "\n",
    "shuffled_images = new_img[indices]\n",
    "shuffled_labels = labels[indices]"
   ]
  },
  {
   "cell_type": "code",
   "execution_count": 7,
   "metadata": {},
   "outputs": [
    {
     "data": {
      "text/plain": [
       "(11234, 28, 28)"
      ]
     },
     "execution_count": 7,
     "metadata": {},
     "output_type": "execute_result"
    }
   ],
   "source": [
    "x_train_img = np.array(shuffled_images[0:11234, :,:])\n",
    "x_test_img = np.array(shuffled_images[11235:18724, :,:])\n",
    "y_train_label = np.array(shuffled_labels[0:11234])\n",
    "y_test_label =np.array(shuffled_labels[11235:18724])\n",
    "\n",
    "x_train_img.shape"
   ]
  },
  {
   "cell_type": "code",
   "execution_count": null,
   "metadata": {},
   "outputs": [],
   "source": []
  },
  {
   "cell_type": "code",
   "execution_count": 8,
   "metadata": {},
   "outputs": [],
   "source": [
    "import torch\n",
    "from torch.utils.data import Dataset\n",
    "\n",
    "class CustomDataset(Dataset):\n",
    "    def __init__(self, images, labels, transform=None):\n",
    "\n",
    "        self.images = images\n",
    "        self.labels = labels\n",
    "        self.transform = transform\n",
    "\n",
    "    def __len__(self):\n",
    "        return len(self.labels)\n",
    "\n",
    "    def __getitem__(self, idx):\n",
    "        image = self.images[idx]\n",
    "        label = self.labels[idx]\n",
    "\n",
    "        if self.transform:\n",
    "            image = self.transform(image)\n",
    "\n",
    " \n",
    "        image = torch.tensor(image, dtype=torch.float32)\n",
    "        label = torch.tensor(label, dtype=torch.long)\n",
    "\n",
    "        return image, label"
   ]
  },
  {
   "cell_type": "code",
   "execution_count": 9,
   "metadata": {},
   "outputs": [],
   "source": [
    "test_images = x_test_img\n",
    "test_labels = y_test_label\n",
    "\n",
    "test_dataset = CustomDataset(test_images, test_labels)\n",
    "\n",
    "test_loader = DataLoader(dataset=test_dataset, batch_size=32, shuffle=False)"
   ]
  },
  {
   "cell_type": "code",
   "execution_count": 10,
   "metadata": {},
   "outputs": [],
   "source": [
    "from torch.utils.data import DataLoader\n",
    "\n",
    "images = x_train_img\n",
    "labels = y_train_label\n",
    "\n",
    "custom_dataset = CustomDataset(images, labels)\n",
    "\n",
    "data_loader = DataLoader(dataset=custom_dataset, batch_size=32, shuffle=True)\n"
   ]
  },
  {
   "cell_type": "code",
   "execution_count": 11,
   "metadata": {},
   "outputs": [],
   "source": [
    "class SimpleCNN_x(nn.Module):\n",
    "    def __init__(self, num_classes=10):  \n",
    "        super(SimpleCNN_x, self).__init__()\n",
    "        self.conv1 = nn.Conv2d(in_channels=1, out_channels=32, kernel_size=3, stride=1, padding=1)\n",
    "        self.conv2 = nn.Conv2d(in_channels=32, out_channels=64, kernel_size=3, stride=1, padding=1)\n",
    "        self.conv3 = nn.Conv2d(in_channels=64, out_channels=64, kernel_size=3, stride=1, padding=1)\n",
    "        self.pool = nn.MaxPool2d(kernel_size=2, stride=2, padding=0)\n",
    "        self.fc1 = nn.Linear(3136, 128)  \n",
    "        self.fc2 = nn.Linear(128, num_classes)\n",
    "\n",
    "    def forward(self, x):\n",
    "        x1 = F.relu(self.conv1(x))\n",
    "        x2 = F.relu(self.conv2(x1))\n",
    "        x3 = self.pool(x2)\n",
    "        x4 = self.pool(F.relu(self.conv3(x3)))\n",
    "        x5 = x4.view(x4.size(0), -1)  \n",
    "        x6 = F.relu(self.fc1(x5))\n",
    "        out = self.fc2(x6)\n",
    "        return x1, x2, out\n"
   ]
  },
  {
   "cell_type": "code",
   "execution_count": 12,
   "metadata": {},
   "outputs": [
    {
     "name": "stderr",
     "output_type": "stream",
     "text": [
      "C:\\Users\\denis\\AppData\\Local\\Temp\\ipykernel_13960\\691292828.py:23: DeprecationWarning: an integer is required (got type numpy.float64).  Implicit conversion to integers using __int__ is deprecated, and may be removed in a future version of Python.\n",
      "  label = torch.tensor(label, dtype=torch.long)\n"
     ]
    },
    {
     "name": "stdout",
     "output_type": "stream",
     "text": [
      "Epoch 1/25, Step 100/352, Loss: 0.30197\n",
      "Epoch 1/25, Step 200/352, Loss: 0.21877\n",
      "Epoch 1/25, Step 300/352, Loss: 0.24066\n",
      "Epoch 2/25, Step 100/352, Loss: 0.28991\n",
      "Epoch 2/25, Step 200/352, Loss: 0.24749\n",
      "Epoch 2/25, Step 300/352, Loss: 0.32566\n",
      "Epoch 3/25, Step 100/352, Loss: 0.05614\n",
      "Epoch 3/25, Step 200/352, Loss: 0.28986\n",
      "Epoch 3/25, Step 300/352, Loss: 0.46075\n",
      "Epoch 4/25, Step 100/352, Loss: 0.25177\n",
      "Epoch 4/25, Step 200/352, Loss: 0.04949\n",
      "Epoch 4/25, Step 300/352, Loss: 0.04233\n",
      "Epoch 5/25, Step 100/352, Loss: 0.17041\n",
      "Epoch 5/25, Step 200/352, Loss: 0.03464\n",
      "Epoch 5/25, Step 300/352, Loss: 0.07321\n",
      "Epoch 6/25, Step 100/352, Loss: 0.00483\n",
      "Epoch 6/25, Step 200/352, Loss: 0.23717\n",
      "Epoch 6/25, Step 300/352, Loss: 0.18931\n",
      "Epoch 7/25, Step 100/352, Loss: 0.02807\n",
      "Epoch 7/25, Step 200/352, Loss: 0.00063\n",
      "Epoch 7/25, Step 300/352, Loss: 0.00314\n",
      "Epoch 8/25, Step 100/352, Loss: 0.01106\n",
      "Epoch 8/25, Step 200/352, Loss: 0.00303\n",
      "Epoch 8/25, Step 300/352, Loss: 0.17263\n",
      "Epoch 9/25, Step 100/352, Loss: 0.00899\n",
      "Epoch 9/25, Step 200/352, Loss: 0.00027\n",
      "Epoch 9/25, Step 300/352, Loss: 0.00621\n",
      "Epoch 10/25, Step 100/352, Loss: 0.05277\n",
      "Epoch 10/25, Step 200/352, Loss: 0.10835\n",
      "Epoch 10/25, Step 300/352, Loss: 0.00364\n",
      "Epoch 11/25, Step 100/352, Loss: 0.01342\n",
      "Epoch 11/25, Step 200/352, Loss: 0.00063\n",
      "Epoch 11/25, Step 300/352, Loss: 0.01900\n",
      "Epoch 12/25, Step 100/352, Loss: 0.11855\n",
      "Epoch 12/25, Step 200/352, Loss: 0.00402\n",
      "Epoch 12/25, Step 300/352, Loss: 0.11997\n",
      "Epoch 13/25, Step 100/352, Loss: 0.00455\n",
      "Epoch 13/25, Step 200/352, Loss: 0.00093\n",
      "Epoch 13/25, Step 300/352, Loss: 0.01631\n",
      "Epoch 14/25, Step 100/352, Loss: 0.00445\n",
      "Epoch 14/25, Step 200/352, Loss: 0.02326\n",
      "Epoch 14/25, Step 300/352, Loss: 0.02050\n",
      "Epoch 15/25, Step 100/352, Loss: 0.00084\n",
      "Epoch 15/25, Step 200/352, Loss: 0.04180\n",
      "Epoch 15/25, Step 300/352, Loss: 0.00041\n",
      "Epoch 16/25, Step 100/352, Loss: 0.05506\n",
      "Epoch 16/25, Step 200/352, Loss: 0.01742\n",
      "Epoch 16/25, Step 300/352, Loss: 0.07521\n",
      "Epoch 17/25, Step 100/352, Loss: 0.00008\n",
      "Epoch 17/25, Step 200/352, Loss: 0.00205\n",
      "Epoch 17/25, Step 300/352, Loss: 0.00057\n",
      "Epoch 18/25, Step 100/352, Loss: 0.00004\n",
      "Epoch 18/25, Step 200/352, Loss: 0.00001\n",
      "Epoch 18/25, Step 300/352, Loss: 0.00577\n",
      "Epoch 19/25, Step 100/352, Loss: 0.00762\n",
      "Epoch 19/25, Step 200/352, Loss: 0.00024\n",
      "Epoch 19/25, Step 300/352, Loss: 0.00058\n",
      "Epoch 20/25, Step 100/352, Loss: 0.00372\n",
      "Epoch 20/25, Step 200/352, Loss: 0.00011\n",
      "Epoch 20/25, Step 300/352, Loss: 0.00545\n",
      "Epoch 21/25, Step 100/352, Loss: 0.00028\n",
      "Epoch 21/25, Step 200/352, Loss: 0.02007\n",
      "Epoch 21/25, Step 300/352, Loss: 0.00004\n",
      "Epoch 22/25, Step 100/352, Loss: 0.00010\n",
      "Epoch 22/25, Step 200/352, Loss: 0.02716\n",
      "Epoch 22/25, Step 300/352, Loss: 0.00262\n",
      "Epoch 23/25, Step 100/352, Loss: 0.00079\n",
      "Epoch 23/25, Step 200/352, Loss: 0.12751\n",
      "Epoch 23/25, Step 300/352, Loss: 0.00017\n",
      "Epoch 24/25, Step 100/352, Loss: 0.01430\n",
      "Epoch 24/25, Step 200/352, Loss: 0.22238\n",
      "Epoch 24/25, Step 300/352, Loss: 0.00001\n",
      "Epoch 25/25, Step 100/352, Loss: 0.21900\n",
      "Epoch 25/25, Step 200/352, Loss: 0.01047\n",
      "Epoch 25/25, Step 300/352, Loss: 0.00001\n"
     ]
    },
    {
     "data": {
      "image/png": "[encoded data removed]",
      "text/plain": [
       "<Figure size 640x480 with 1 Axes>"
      ]
     },
     "metadata": {},
     "output_type": "display_data"
    }
   ],
   "source": [
    "mdlx = SimpleCNN_x(num_classes=10) \n",
    "criterion = nn.CrossEntropyLoss()  \n",
    "optimizer = torch.optim.Adam(mdlx.parameters(), lr=0.001) \n",
    "\n",
    "mdlx = mdlx.to(device)\n",
    "\n",
    "num_epochs = 25  \n",
    "epoch_losses = []\n",
    "\n",
    "for epoch in range(num_epochs):\n",
    "    epoch_loss = 0\n",
    "    num_batches = 0\n",
    "\n",
    "    for i, (images, labels) in enumerate(data_loader):\n",
    "        images, labels = images.to(device), labels.to(device)\n",
    "        images = images.unsqueeze(1)\n",
    "        \n",
    "        x1, x2, outputs = mdlx(images)\n",
    "        loss = criterion(outputs, labels)\n",
    "\n",
    "        optimizer.zero_grad()\n",
    "        loss.backward()\n",
    "        optimizer.step()\n",
    "        epoch_loss += loss.item()\n",
    "        num_batches += 1\n",
    "\n",
    "        if (i+1) % 100 == 0:\n",
    "            print(f'Epoch {epoch+1}/{num_epochs}, Step {i+1}/{len(data_loader)}, Loss: {loss.item():.5f}')\n",
    "\n",
    "        del images, labels, outputs, x1, x2, loss\n",
    "        torch.cuda.empty_cache()\n",
    "        \n",
    "    epoch_loss /= num_batches\n",
    "    epoch_losses.append(epoch_loss)\n",
    "\n",
    "plt.plot(epoch_losses)\n",
    "plt.ylabel('Average Epoch Loss')\n",
    "plt.xlabel('Epoch')\n",
    "plt.title('Loss over Epochs')\n",
    "plt.show()\n"
   ]
  },
  {
   "cell_type": "code",
   "execution_count": 13,
   "metadata": {},
   "outputs": [
    {
     "name": "stderr",
     "output_type": "stream",
     "text": [
      "C:\\Users\\denis\\AppData\\Local\\Temp\\ipykernel_13960\\691292828.py:23: DeprecationWarning: an integer is required (got type numpy.float64).  Implicit conversion to integers using __int__ is deprecated, and may be removed in a future version of Python.\n",
      "  label = torch.tensor(label, dtype=torch.long)\n"
     ]
    },
    {
     "name": "stdout",
     "output_type": "stream",
     "text": [
      "Accuracy: 93.68%\n"
     ]
    }
   ],
   "source": [
    "def test_model_x(mdlx, test_loader):\n",
    "    mdlx = mdlx.to(device)\n",
    "    \n",
    "    mdlx.eval() \n",
    "    correct = 0\n",
    "    total = 0\n",
    "    with torch.no_grad():  \n",
    "        for images, labels in test_loader:\n",
    "            images, labels = images.to(device), labels.to(device)\n",
    "            \n",
    "            images = images.unsqueeze(1)  \n",
    "            x1, x2, outputs = mdlx(images)\n",
    "            _, predicted = torch.max(outputs.data, 1)  \n",
    "            total += labels.size(0)\n",
    "            correct += (predicted == labels).sum().item()\n",
    "\n",
    "    accuracy = 100 * correct / total\n",
    "    print(f'Accuracy: {accuracy:.2f}%')\n",
    "    del images, labels, outputs\n",
    "    torch.cuda.empty_cache()\n",
    "\n",
    "test_model_x(mdlx, test_loader)\n"
   ]
  },
  {
   "cell_type": "code",
   "execution_count": null,
   "metadata": {},
   "outputs": [],
   "source": []
  },
  {
   "cell_type": "code",
   "execution_count": 14,
   "metadata": {},
   "outputs": [
    {
     "name": "stderr",
     "output_type": "stream",
     "text": [
      "C:\\Users\\denis\\AppData\\Local\\Temp\\ipykernel_13960\\691292828.py:23: DeprecationWarning: an integer is required (got type numpy.float64).  Implicit conversion to integers using __int__ is deprecated, and may be removed in a future version of Python.\n",
      "  label = torch.tensor(label, dtype=torch.long)\n"
     ]
    },
    {
     "name": "stdout",
     "output_type": "stream",
     "text": [
      "Epoch 1/25, Step 100/352, Loss: 0.60464\n",
      "Epoch 1/25, Step 200/352, Loss: 0.24451\n",
      "Epoch 1/25, Step 300/352, Loss: 0.21219\n",
      "Epoch 2/25, Step 100/352, Loss: 0.15975\n",
      "Epoch 2/25, Step 200/352, Loss: 0.28493\n",
      "Epoch 2/25, Step 300/352, Loss: 0.42039\n",
      "Epoch 3/25, Step 100/352, Loss: 0.14858\n",
      "Epoch 3/25, Step 200/352, Loss: 0.18585\n",
      "Epoch 3/25, Step 300/352, Loss: 0.12700\n",
      "Epoch 4/25, Step 100/352, Loss: 0.06362\n",
      "Epoch 4/25, Step 200/352, Loss: 0.02877\n",
      "Epoch 4/25, Step 300/352, Loss: 0.16682\n",
      "Epoch 5/25, Step 100/352, Loss: 0.04682\n",
      "Epoch 5/25, Step 200/352, Loss: 0.12538\n",
      "Epoch 5/25, Step 300/352, Loss: 0.01242\n",
      "Epoch 6/25, Step 100/352, Loss: 0.15711\n",
      "Epoch 6/25, Step 200/352, Loss: 0.04638\n",
      "Epoch 6/25, Step 300/352, Loss: 0.11174\n",
      "Epoch 7/25, Step 100/352, Loss: 0.19651\n",
      "Epoch 7/25, Step 200/352, Loss: 0.05044\n",
      "Epoch 7/25, Step 300/352, Loss: 0.11831\n",
      "Epoch 8/25, Step 100/352, Loss: 0.01651\n",
      "Epoch 8/25, Step 200/352, Loss: 0.04959\n",
      "Epoch 8/25, Step 300/352, Loss: 0.03478\n",
      "Epoch 9/25, Step 100/352, Loss: 0.01366\n",
      "Epoch 9/25, Step 200/352, Loss: 0.00750\n",
      "Epoch 9/25, Step 300/352, Loss: 0.00062\n",
      "Epoch 10/25, Step 100/352, Loss: 0.00268\n",
      "Epoch 10/25, Step 200/352, Loss: 0.01408\n",
      "Epoch 10/25, Step 300/352, Loss: 0.01915\n",
      "Epoch 11/25, Step 100/352, Loss: 0.02462\n",
      "Epoch 11/25, Step 200/352, Loss: 0.00549\n",
      "Epoch 11/25, Step 300/352, Loss: 0.00921\n",
      "Epoch 12/25, Step 100/352, Loss: 0.02955\n",
      "Epoch 12/25, Step 200/352, Loss: 0.00443\n",
      "Epoch 12/25, Step 300/352, Loss: 0.00844\n",
      "Epoch 13/25, Step 100/352, Loss: 0.13940\n",
      "Epoch 13/25, Step 200/352, Loss: 0.01262\n",
      "Epoch 13/25, Step 300/352, Loss: 0.00428\n",
      "Epoch 14/25, Step 100/352, Loss: 0.00148\n",
      "Epoch 14/25, Step 200/352, Loss: 0.00539\n",
      "Epoch 14/25, Step 300/352, Loss: 0.00284\n",
      "Epoch 15/25, Step 100/352, Loss: 0.00311\n",
      "Epoch 15/25, Step 200/352, Loss: 0.02156\n",
      "Epoch 15/25, Step 300/352, Loss: 0.00220\n",
      "Epoch 16/25, Step 100/352, Loss: 0.01350\n",
      "Epoch 16/25, Step 200/352, Loss: 0.00104\n",
      "Epoch 16/25, Step 300/352, Loss: 0.00743\n",
      "Epoch 17/25, Step 100/352, Loss: 0.00130\n",
      "Epoch 17/25, Step 200/352, Loss: 0.00176\n",
      "Epoch 17/25, Step 300/352, Loss: 0.00224\n",
      "Epoch 18/25, Step 100/352, Loss: 0.00569\n",
      "Epoch 18/25, Step 200/352, Loss: 0.00382\n",
      "Epoch 18/25, Step 300/352, Loss: 0.01053\n",
      "Epoch 19/25, Step 100/352, Loss: 0.00025\n",
      "Epoch 19/25, Step 200/352, Loss: 0.00025\n",
      "Epoch 19/25, Step 300/352, Loss: 0.00100\n",
      "Epoch 20/25, Step 100/352, Loss: 0.00029\n",
      "Epoch 20/25, Step 200/352, Loss: 0.00041\n",
      "Epoch 20/25, Step 300/352, Loss: 0.00180\n",
      "Epoch 21/25, Step 100/352, Loss: 0.00003\n",
      "Epoch 21/25, Step 200/352, Loss: 0.11337\n",
      "Epoch 21/25, Step 300/352, Loss: 0.00026\n",
      "Epoch 22/25, Step 100/352, Loss: 0.00008\n",
      "Epoch 22/25, Step 200/352, Loss: 0.00018\n",
      "Epoch 22/25, Step 300/352, Loss: 0.00341\n",
      "Epoch 23/25, Step 100/352, Loss: 0.00048\n",
      "Epoch 23/25, Step 200/352, Loss: 0.00004\n",
      "Epoch 23/25, Step 300/352, Loss: 0.00023\n",
      "Epoch 24/25, Step 100/352, Loss: 0.00050\n",
      "Epoch 24/25, Step 200/352, Loss: 0.00009\n",
      "Epoch 24/25, Step 300/352, Loss: 0.00088\n",
      "Epoch 25/25, Step 100/352, Loss: 0.00006\n",
      "Epoch 25/25, Step 200/352, Loss: 0.00014\n",
      "Epoch 25/25, Step 300/352, Loss: 0.00013\n"
     ]
    },
    {
     "data": {
      "image/png": "[encoded data removed]",
      "text/plain": [
       "<Figure size 640x480 with 1 Axes>"
      ]
     },
     "metadata": {},
     "output_type": "display_data"
    }
   ],
   "source": [
    "mdlx_2 = SimpleCNN_x(num_classes=10) \n",
    "criterion = nn.CrossEntropyLoss()  \n",
    "optimizer = torch.optim.SGD(mdlx_2.parameters(), lr=0.001, momentum=0.8)\n",
    "\n",
    "mdlx_2 = mdlx_2.to(device)\n",
    "\n",
    "num_epochs = 25  \n",
    "epoch_losses = []\n",
    "\n",
    "for epoch in range(num_epochs):\n",
    "    epoch_loss = 0\n",
    "    num_batches = 0\n",
    "\n",
    "    for i, (images, labels) in enumerate(data_loader):\n",
    "        images, labels = images.to(device), labels.to(device)\n",
    "        images = images.unsqueeze(1)\n",
    "        \n",
    "        x1, x2, outputs = mdlx_2(images)\n",
    "        loss = criterion(outputs, labels)\n",
    "\n",
    "        optimizer.zero_grad()\n",
    "        loss.backward()\n",
    "        optimizer.step()\n",
    "        epoch_loss += loss.item()\n",
    "        num_batches += 1\n",
    "\n",
    "        if (i+1) % 100 == 0:\n",
    "            print(f'Epoch {epoch+1}/{num_epochs}, Step {i+1}/{len(data_loader)}, Loss: {loss.item():.5f}')\n",
    "\n",
    "        del images, labels, outputs, x1, x2, loss\n",
    "        torch.cuda.empty_cache()\n",
    "        \n",
    "    epoch_loss /= num_batches\n",
    "    epoch_losses.append(epoch_loss)\n",
    "\n",
    "plt.plot(epoch_losses)\n",
    "plt.ylabel('Average Epoch Loss')\n",
    "plt.xlabel('Epoch')\n",
    "plt.title('Loss over Epochs')\n",
    "plt.show()\n"
   ]
  },
  {
   "cell_type": "code",
   "execution_count": 15,
   "metadata": {},
   "outputs": [
    {
     "name": "stderr",
     "output_type": "stream",
     "text": [
      "C:\\Users\\denis\\AppData\\Local\\Temp\\ipykernel_13960\\691292828.py:23: DeprecationWarning: an integer is required (got type numpy.float64).  Implicit conversion to integers using __int__ is deprecated, and may be removed in a future version of Python.\n",
      "  label = torch.tensor(label, dtype=torch.long)\n"
     ]
    },
    {
     "name": "stdout",
     "output_type": "stream",
     "text": [
      "Accuracy: 94.45%\n"
     ]
    }
   ],
   "source": [
    "def test_model_x(mdlx_2, test_loader):\n",
    "    mdlx_2 = mdlx_2.to(device)\n",
    "    \n",
    "    mdlx_2.eval() \n",
    "    correct = 0\n",
    "    total = 0\n",
    "    \n",
    "    for images, labels in test_loader:\n",
    "        images, labels = images.to(device), labels.to(device)\n",
    "        \n",
    "        images = images.unsqueeze(1)  \n",
    "        x1, x2, outputs = mdlx_2(images)\n",
    "        _, predicted = torch.max(outputs.data, 1)  \n",
    "        total += labels.size(0)\n",
    "        correct += (predicted == labels).sum().item()\n",
    "\n",
    "    accuracy = 100 * correct / total\n",
    "    print(f'Accuracy: {accuracy:.2f}%')\n",
    "    del images, labels, outputs\n",
    "    torch.cuda.empty_cache()\n",
    "\n",
    "test_model_x(mdlx_2, test_loader)\n"
   ]
  }
 ],
 "metadata": {
  "kernelspec": {
   "display_name": "base",
   "language": "python",
   "name": "python3"
  },
  "language_info": {
   "codemirror_mode": {
    "name": "ipython",
    "version": 3
   },
   "file_extension": ".py",
   "mimetype": "text/x-python",
   "name": "python",
   "nbconvert_exporter": "python",
   "pygments_lexer": "ipython3",
   "version": "3.9.13"
  },
  "orig_nbformat": 4
 },
 "nbformat": 4,
 "nbformat_minor": 2
}
