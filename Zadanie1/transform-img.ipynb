{
 "cells": [
  {
   "cell_type": "code",
   "execution_count": 14,
   "metadata": {},
   "outputs": [
    {
     "name": "stderr",
     "output_type": "stream",
     "text": [
      "100%|██████████| 12/12 [00:14<00:00,  1.21s/it]\n"
     ]
    }
   ],
   "source": [
    "import os\n",
    "import cv2\n",
    "import albumentations as A\n",
    "from tqdm import tqdm\n",
    "\n",
    "def augment_and_save_size(src_root, dest_root, transform):\n",
    "    # Ensure the destination directory exists\n",
    "    if not os.path.exists(dest_root):\n",
    "        os.makedirs(dest_root)\n",
    "\n",
    "    # List all class directories in the source root\n",
    "    class_names = [d for d in os.listdir(src_root) if os.path.isdir(os.path.join(src_root, d))]\n",
    "\n",
    "    for class_name in tqdm(class_names):\n",
    "        # Ensure the class directory exists in the destination root\n",
    "        dest_class_dir = os.path.join(dest_root, class_name)\n",
    "        if not os.path.exists(dest_class_dir):\n",
    "            os.makedirs(dest_class_dir)\n",
    "\n",
    "        src_class_dir = os.path.join(src_root, class_name)\n",
    "        image_names = [img for img in os.listdir(src_class_dir) if img.endswith(('.jpg', '.png'))]\n",
    "\n",
    "        for image_name in image_names:\n",
    "            image_path = os.path.join(src_class_dir, image_name)\n",
    "            image = cv2.imread(image_path)\n",
    "            image = cv2.cvtColor(image, cv2.COLOR_BGR2RGB)  # Convert from BGR to RGB\n",
    "\n",
    "            augmented = transform(image=image)\n",
    "            augmented_image = augmented['image']\n",
    "            image_name = image_name.replace(\".png\", \"\")\n",
    "            \n",
    "            dest_image_path = os.path.join(dest_class_dir, image_name)\n",
    "        \n",
    "            cv2.imwrite(f\"{dest_image_path}.png\", cv2.cvtColor(augmented_image, cv2.COLOR_RGB2BGR))  # Convert back to BGR for saving\n",
    "\n",
    "\n",
    "# Define the source and destination directories\n",
    "src_directory = 'C:/Users/denis/Desktop/HNS/projekt1/Dataset_Znacky/Train/'\n",
    "dest_directory = 'C:/Users/denis/Desktop/HNS/projekt1/Dataset_Znacky/Train-adj/'\n",
    "\n",
    "# Define the albumentations transformations you want\n",
    "transform = A.Compose([\n",
    "    A.Resize(height=64, width=64),\n",
    "    \n",
    "    # Add any other augmentations as needed\n",
    "])\n",
    "\n",
    "augment_and_save_size(src_directory, dest_directory, transform)"
   ]
  },
  {
   "cell_type": "code",
   "execution_count": 15,
   "metadata": {},
   "outputs": [
    {
     "name": "stderr",
     "output_type": "stream",
     "text": [
      "100%|██████████| 12/12 [00:20<00:00,  1.71s/it]\n"
     ]
    }
   ],
   "source": [
    "def augment_and_save_noise(src_root, dest_root, transform):\n",
    "    # Ensure the destination directory exists\n",
    "    if not os.path.exists(dest_root):\n",
    "        os.makedirs(dest_root)\n",
    "\n",
    "    # List all class directories in the source root\n",
    "    class_names = [d for d in os.listdir(src_root) if os.path.isdir(os.path.join(src_root, d))]\n",
    "\n",
    "    for class_name in tqdm(class_names):\n",
    "        # Ensure the class directory exists in the destination root\n",
    "        dest_class_dir = os.path.join(dest_root, class_name)\n",
    "        if not os.path.exists(dest_class_dir):\n",
    "            os.makedirs(dest_class_dir)\n",
    "\n",
    "        src_class_dir = os.path.join(src_root, class_name)\n",
    "        image_names = [img for img in os.listdir(src_class_dir) if img.endswith(('.jpg', '.png'))]\n",
    "\n",
    "        for image_name in image_names:\n",
    "            image_path = os.path.join(src_class_dir, image_name)\n",
    "            image = cv2.imread(image_path)\n",
    "            image = cv2.cvtColor(image, cv2.COLOR_BGR2RGB)  # Convert from BGR to RGB\n",
    "\n",
    "            augmented = transform(image=image)\n",
    "            augmented_image = augmented['image']\n",
    "            image_name = image_name.replace(\".png\", \"\")\n",
    "\n",
    "            dest_image_path = os.path.join(dest_class_dir, image_name)\n",
    "            cv2.imwrite(f\"{dest_image_path}-noise.png\", cv2.cvtColor(augmented_image, cv2.COLOR_RGB2BGR))  # Convert back to BGR for saving\n",
    "\n",
    "\n",
    "\n",
    "# Define the albumentations transformations you want\n",
    "transform = A.Compose([\n",
    " \n",
    "    A.Resize(height=64, width=64),\n",
    "    A.RandomBrightnessContrast(p=0.5),\n",
    "    A.GaussNoise(var_limit=(10, 100), p=1)\n",
    "    # Add any other augmentations as needed\n",
    "])\n",
    "\n",
    "augment_and_save_noise(src_directory, dest_directory, transform)"
   ]
  },
  {
   "cell_type": "code",
   "execution_count": 16,
   "metadata": {},
   "outputs": [
    {
     "name": "stderr",
     "output_type": "stream",
     "text": [
      "100%|██████████| 12/12 [00:19<00:00,  1.63s/it]\n"
     ]
    }
   ],
   "source": [
    "def augment_and_save_flip(src_root, dest_root, transform):\n",
    "    # Ensure the destination directory exists\n",
    "    if not os.path.exists(dest_root):\n",
    "        os.makedirs(dest_root)\n",
    "\n",
    "    # List all class directories in the source root\n",
    "    class_names = [d for d in os.listdir(src_root) if os.path.isdir(os.path.join(src_root, d))]\n",
    "\n",
    "    for class_name in tqdm(class_names):\n",
    "        # Ensure the class directory exists in the destination root\n",
    "        dest_class_dir = os.path.join(dest_root, class_name)\n",
    "        if not os.path.exists(dest_class_dir):\n",
    "            os.makedirs(dest_class_dir)\n",
    "\n",
    "        src_class_dir = os.path.join(src_root, class_name)\n",
    "        image_names = [img for img in os.listdir(src_class_dir) if img.endswith(('.jpg', '.png'))]\n",
    "\n",
    "        for image_name in image_names:\n",
    "            image_path = os.path.join(src_class_dir, image_name)\n",
    "            image = cv2.imread(image_path)\n",
    "            image = cv2.cvtColor(image, cv2.COLOR_BGR2RGB)  # Convert from BGR to RGB\n",
    "\n",
    "            augmented = transform(image=image)\n",
    "            augmented_image = augmented['image']\n",
    "            image_name = image_name.replace(\".png\", \"\")\n",
    "\n",
    "            dest_image_path = os.path.join(dest_class_dir, image_name)\n",
    "            cv2.imwrite(f\"{dest_image_path}-flip.png\", cv2.cvtColor(augmented_image, cv2.COLOR_RGB2BGR))  # Convert back to BGR for saving\n",
    "\n",
    "\n",
    "# Define the albumentations transformations you want\n",
    "transform = A.Compose([\n",
    " \n",
    "    \n",
    "    A.Resize(height=64, width=64),\n",
    "    A.GaussNoise(var_limit=(20, 120), p=1)\n",
    "    # Add any other augmentations as needed\n",
    "])\n",
    "\n",
    "augment_and_save_flip(src_directory, dest_directory, transform)"
   ]
  },
  {
   "cell_type": "code",
   "execution_count": 17,
   "metadata": {},
   "outputs": [
    {
     "name": "stderr",
     "output_type": "stream",
     "text": [
      "100%|██████████| 12/12 [00:16<00:00,  1.41s/it]\n"
     ]
    }
   ],
   "source": [
    "def augment_and_save_all(src_root, dest_root, transform):\n",
    "    # Ensure the destination directory exists\n",
    "    if not os.path.exists(dest_root):\n",
    "        os.makedirs(dest_root)\n",
    "\n",
    "    # List all class directories in the source root\n",
    "    class_names = [d for d in os.listdir(src_root) if os.path.isdir(os.path.join(src_root, d))]\n",
    "\n",
    "    for class_name in tqdm(class_names):\n",
    "        # Ensure the class directory exists in the destination root\n",
    "        dest_class_dir = os.path.join(dest_root, class_name)\n",
    "        if not os.path.exists(dest_class_dir):\n",
    "            os.makedirs(dest_class_dir)\n",
    "\n",
    "        src_class_dir = os.path.join(src_root, class_name)\n",
    "        image_names = [img for img in os.listdir(src_class_dir) if img.endswith(('.jpg', '.png'))]\n",
    "\n",
    "        for image_name in image_names:\n",
    "            image_path = os.path.join(src_class_dir, image_name)\n",
    "            image = cv2.imread(image_path)\n",
    "            image = cv2.cvtColor(image, cv2.COLOR_BGR2RGB)  # Convert from BGR to RGB\n",
    "\n",
    "            augmented = transform(image=image)\n",
    "            augmented_image = augmented['image']\n",
    "            image_name = image_name.replace(\".png\", \"\")\n",
    "\n",
    "            dest_image_path = os.path.join(dest_class_dir, image_name)\n",
    "            cv2.imwrite(f\"{dest_image_path}-all.png\", cv2.cvtColor(augmented_image, cv2.COLOR_RGB2BGR))  # Convert back to BGR for saving\n",
    "\n",
    "\n",
    "# Define the albumentations transformations you want\n",
    "transform = A.Compose([\n",
    "\n",
    "    A.Resize(height=64, width=64),\n",
    "\n",
    "    A.RandomBrightnessContrast(p=0.5),\n",
    "    A.ShiftScaleRotate(shift_limit=0.2, rotate_limit=0.2, scale_limit=0, p=1),\n",
    "    A.GaussNoise(var_limit=(20, 80), p=0.5)\n",
    "  \n",
    "])\n",
    "\n",
    "augment_and_save_all(src_directory, dest_directory, transform)"
   ]
  },
  {
   "cell_type": "code",
   "execution_count": 18,
   "metadata": {},
   "outputs": [
    {
     "name": "stderr",
     "output_type": "stream",
     "text": [
      "100%|██████████| 1/1 [00:08<00:00,  8.07s/it]\n"
     ]
    }
   ],
   "source": [
    "\n",
    "def augment_and_save_size(src_root, dest_root, transform):\n",
    "    # Ensure the destination directory exists\n",
    "    if not os.path.exists(dest_root):\n",
    "        os.makedirs(dest_root)\n",
    "\n",
    "    # List all class directories in the source root\n",
    "    class_names = [d for d in os.listdir(src_root) if os.path.isdir(os.path.join(src_root, d))]\n",
    "\n",
    "    for class_name in tqdm(class_names):\n",
    "        # Ensure the class directory exists in the destination root\n",
    "        dest_class_dir = os.path.join(dest_root, class_name)\n",
    "        if not os.path.exists(dest_class_dir):\n",
    "            os.makedirs(dest_class_dir)\n",
    "\n",
    "        src_class_dir = os.path.join(src_root, class_name)\n",
    "        image_names = [img for img in os.listdir(src_class_dir) if img.endswith(('.jpg', '.png'))]\n",
    "\n",
    "        for image_name in image_names:\n",
    "            image_path = os.path.join(src_class_dir, image_name)\n",
    "            image = cv2.imread(image_path)\n",
    "            image = cv2.cvtColor(image, cv2.COLOR_BGR2RGB)  # Convert from BGR to RGB\n",
    "\n",
    "            augmented = transform(image=image)\n",
    "            augmented_image = augmented['image']\n",
    "            image_name = image_name.replace(\".png\", \"\")\n",
    "            \n",
    "            dest_image_path = os.path.join(dest_class_dir, image_name)\n",
    "        \n",
    "            cv2.imwrite(f\"{dest_image_path}.png\", cv2.cvtColor(augmented_image, cv2.COLOR_RGB2BGR))  # Convert back to BGR for saving\n",
    "\n",
    "\n",
    "# Define the source and destination directories\n",
    "src_directory = 'C:/Users/denis/Desktop/HNS/projekt1/Dataset_Znacky/Test-dir/'\n",
    "dest_directory = 'C:/Users/denis/Desktop/HNS/projekt1/Dataset_Znacky/Test-adj/'\n",
    "\n",
    "# Define the albumentations transformations you want\n",
    "transform = A.Compose([\n",
    "    A.Resize(height=64, width=64),\n",
    "    \n",
    "    # Add any other augmentations as needed\n",
    "])\n",
    "\n",
    "augment_and_save_size(src_directory, dest_directory, transform)"
   ]
  },
  {
   "cell_type": "code",
   "execution_count": null,
   "metadata": {},
   "outputs": [],
   "source": []
  }
 ],
 "metadata": {
  "kernelspec": {
   "display_name": "base",
   "language": "python",
   "name": "python3"
  },
  "language_info": {
   "codemirror_mode": {
    "name": "ipython",
    "version": 3
   },
   "file_extension": ".py",
   "mimetype": "text/x-python",
   "name": "python",
   "nbconvert_exporter": "python",
   "pygments_lexer": "ipython3",
   "version": "3.9.13"
  }
 },
 "nbformat": 4,
 "nbformat_minor": 2
}
