{
 "cells": [
  {
   "cell_type": "code",
   "execution_count": 1,
   "metadata": {},
   "outputs": [],
   "source": [
    "import torch\n",
    "from torch import nn\n",
    "from torch.utils.data import DataLoader\n",
    "from torchvision import datasets\n",
    "from torchvision.transforms import ToTensor\n",
    "import pandas as pd\n",
    "import numpy as np\n",
    "import matplotlib.pyplot as plt\n",
    "import scipy.io"
   ]
  },
  {
   "cell_type": "code",
   "execution_count": 2,
   "metadata": {},
   "outputs": [
    {
     "name": "stdout",
     "output_type": "stream",
     "text": [
      "Using cuda device\n"
     ]
    }
   ],
   "source": [
    "device = (\n",
    "    \"cuda\"\n",
    "    if torch.cuda.is_available()\n",
    "    else \"mps\"\n",
    "    if torch.backends.mps.is_available()\n",
    "    else \"cpu\"\n",
    ")\n",
    "print(f\"Using {device} device\")\n"
   ]
  },
  {
   "cell_type": "code",
   "execution_count": null,
   "metadata": {},
   "outputs": [],
   "source": []
  },
  {
   "cell_type": "code",
   "execution_count": 3,
   "metadata": {},
   "outputs": [
    {
     "data": {
      "text/plain": [
       "dict_keys(['__header__', '__version__', '__globals__', 'images', 'labels'])"
      ]
     },
     "execution_count": 3,
     "metadata": {},
     "output_type": "execute_result"
    }
   ],
   "source": [
    "mat = scipy.io.loadmat('notMNIST_small.mat')\n",
    "mat.keys()\n"
   ]
  },
  {
   "cell_type": "code",
   "execution_count": 4,
   "metadata": {},
   "outputs": [
    {
     "data": {
      "image/png": "[encoded data removed]",
      "text/plain": [
       "<Figure size 640x480 with 1 Axes>"
      ]
     },
     "metadata": {},
     "output_type": "display_data"
    }
   ],
   "source": [
    "mat['images'].shape\n",
    "\n",
    "plt.imshow(mat['images'][:, :, 1], cmap='gray')\n",
    "plt.axis('off')\n",
    "plt.show()"
   ]
  },
  {
   "cell_type": "code",
   "execution_count": 5,
   "metadata": {},
   "outputs": [
    {
     "data": {
      "image/png": "[encoded data removed]",
      "text/plain": [
       "<Figure size 640x480 with 1 Axes>"
      ]
     },
     "metadata": {},
     "output_type": "display_data"
    },
    {
     "data": {
      "text/plain": [
       "(18724, 28, 28)"
      ]
     },
     "execution_count": 5,
     "metadata": {},
     "output_type": "execute_result"
    }
   ],
   "source": [
    "new_img = np.random.rand(18724, 28, 28)\n",
    "for index in range(mat['images'].shape[2]):\n",
    "    new_img[index] = mat['images'][:,:,index]\n",
    "\n",
    "plt.imshow(new_img[1, :, :], cmap='gray')\n",
    "plt.axis('off')\n",
    "plt.show()\n",
    "\n",
    "new_img.shape"
   ]
  },
  {
   "cell_type": "code",
   "execution_count": 6,
   "metadata": {},
   "outputs": [],
   "source": [
    "indices = np.arange(18724)\n",
    "np.random.shuffle(indices)\n",
    "labels = np.array(mat['labels'])\n",
    "\n",
    "\n",
    "shuffled_images = new_img[indices]\n",
    "shuffled_labels = labels[indices]"
   ]
  },
  {
   "cell_type": "code",
   "execution_count": 7,
   "metadata": {},
   "outputs": [
    {
     "data": {
      "text/plain": [
       "(11234, 28, 28)"
      ]
     },
     "execution_count": 7,
     "metadata": {},
     "output_type": "execute_result"
    }
   ],
   "source": [
    "x_train_img = np.array(shuffled_images[0:11234, :,:])\n",
    "x_test_img = np.array(shuffled_images[11235:18724, :,:])\n",
    "y_train_label = np.array(shuffled_labels[0:11234])\n",
    "y_test_label =np.array(shuffled_labels[11235:18724])\n",
    "\n",
    "x_train_img.shape"
   ]
  },
  {
   "cell_type": "code",
   "execution_count": null,
   "metadata": {},
   "outputs": [],
   "source": []
  },
  {
   "cell_type": "code",
   "execution_count": 8,
   "metadata": {},
   "outputs": [],
   "source": [
    "import torch\n",
    "from torch.utils.data import Dataset\n",
    "\n",
    "class CustomDataset(Dataset):\n",
    "    def __init__(self, images, labels, transform=None):\n",
    "\n",
    "        self.images = images\n",
    "        self.labels = labels\n",
    "        self.transform = transform\n",
    "\n",
    "    def __len__(self):\n",
    "        return len(self.labels)\n",
    "\n",
    "    def __getitem__(self, idx):\n",
    "        image = self.images[idx]\n",
    "        label = self.labels[idx]\n",
    "\n",
    "        if self.transform:\n",
    "            image = self.transform(image)\n",
    "\n",
    "    \n",
    "        image = torch.tensor(image, dtype=torch.float32)\n",
    "        label = torch.tensor(label, dtype=torch.long)\n",
    "\n",
    "        return image, label"
   ]
  },
  {
   "cell_type": "code",
   "execution_count": 9,
   "metadata": {},
   "outputs": [],
   "source": [
    "test_images = x_test_img\n",
    "test_labels = y_test_label\n",
    "\n",
    "test_dataset = CustomDataset(test_images, test_labels)\n",
    "\n",
    "test_loader = DataLoader(dataset=test_dataset, batch_size=32, shuffle=False)"
   ]
  },
  {
   "cell_type": "code",
   "execution_count": 10,
   "metadata": {},
   "outputs": [],
   "source": [
    "from torch.utils.data import DataLoader\n",
    "\n",
    "\n",
    "images = x_train_img\n",
    "labels = y_train_label\n",
    "\n",
    "custom_dataset = CustomDataset(images, labels)\n",
    "\n",
    "\n",
    "data_loader = DataLoader(dataset=custom_dataset, batch_size=32, shuffle=True)\n"
   ]
  },
  {
   "cell_type": "code",
   "execution_count": 11,
   "metadata": {},
   "outputs": [],
   "source": [
    "import torch\n",
    "import torch.nn as nn\n",
    "import torch.nn.functional as F\n",
    "\n",
    "class SimpleCNN(nn.Module):\n",
    "    def __init__(self, num_classes=10):  \n",
    "        super(SimpleCNN, self).__init__()\n",
    "        self.conv1 = nn.Conv2d(in_channels=1, out_channels=32, kernel_size=3, stride=1, padding=1)\n",
    "        self.conv2 = nn.Conv2d(in_channels=32, out_channels=64, kernel_size=3, stride=1, padding=1)\n",
    "        self.pool = nn.MaxPool2d(kernel_size=2, stride=2, padding=0)\n",
    "        self.fc1 = nn.Linear(64 * 7 * 7, 128)  #(28/2/2 = 7)\n",
    "        self.fc2 = nn.Linear(128, num_classes)\n",
    "\n",
    "    def forward(self, x):\n",
    "        x1 = self.pool(F.relu(self.conv1(x)))\n",
    "        x2 = self.pool(F.relu(self.conv2(x1)))\n",
    "        x3 = x2.view(-1, 64 * 7 * 7)\n",
    "        x4 = F.relu(self.fc1(x3))\n",
    "        out = self.fc2(x4)\n",
    "        return x1, x2, x3, x4, out"
   ]
  },
  {
   "cell_type": "code",
   "execution_count": 12,
   "metadata": {},
   "outputs": [
    {
     "name": "stderr",
     "output_type": "stream",
     "text": [
      "C:\\Users\\denis\\AppData\\Local\\Temp\\ipykernel_12228\\3105449872.py:23: DeprecationWarning: an integer is required (got type numpy.float64).  Implicit conversion to integers using __int__ is deprecated, and may be removed in a future version of Python.\n",
      "  label = torch.tensor(label, dtype=torch.long)\n"
     ]
    },
    {
     "name": "stdout",
     "output_type": "stream",
     "text": [
      "Epoch 1/20, Step 100/352, Loss: 0.58026\n",
      "Epoch 1/20, Step 200/352, Loss: 0.43521\n",
      "Epoch 1/20, Step 300/352, Loss: 0.27999\n",
      "Epoch 2/20, Step 100/352, Loss: 0.08980\n",
      "Epoch 2/20, Step 200/352, Loss: 0.66964\n",
      "Epoch 2/20, Step 300/352, Loss: 0.42784\n",
      "Epoch 3/20, Step 100/352, Loss: 0.20725\n",
      "Epoch 3/20, Step 200/352, Loss: 0.21175\n",
      "Epoch 3/20, Step 300/352, Loss: 0.11478\n",
      "Epoch 4/20, Step 100/352, Loss: 0.01227\n",
      "Epoch 4/20, Step 200/352, Loss: 0.26010\n",
      "Epoch 4/20, Step 300/352, Loss: 0.04709\n",
      "Epoch 5/20, Step 100/352, Loss: 0.01664\n",
      "Epoch 5/20, Step 200/352, Loss: 0.16483\n",
      "Epoch 5/20, Step 300/352, Loss: 0.10968\n",
      "Epoch 6/20, Step 100/352, Loss: 0.09271\n",
      "Epoch 6/20, Step 200/352, Loss: 0.06499\n",
      "Epoch 6/20, Step 300/352, Loss: 0.12475\n",
      "Epoch 7/20, Step 100/352, Loss: 0.04016\n",
      "Epoch 7/20, Step 200/352, Loss: 0.00576\n",
      "Epoch 7/20, Step 300/352, Loss: 0.07734\n",
      "Epoch 8/20, Step 100/352, Loss: 0.08601\n",
      "Epoch 8/20, Step 200/352, Loss: 0.05777\n",
      "Epoch 8/20, Step 300/352, Loss: 0.04588\n",
      "Epoch 9/20, Step 100/352, Loss: 0.00149\n",
      "Epoch 9/20, Step 200/352, Loss: 0.07882\n",
      "Epoch 9/20, Step 300/352, Loss: 0.06875\n",
      "Epoch 10/20, Step 100/352, Loss: 0.00527\n",
      "Epoch 10/20, Step 200/352, Loss: 0.03100\n",
      "Epoch 10/20, Step 300/352, Loss: 0.04513\n",
      "Epoch 11/20, Step 100/352, Loss: 0.00374\n",
      "Epoch 11/20, Step 200/352, Loss: 0.00999\n",
      "Epoch 11/20, Step 300/352, Loss: 0.00203\n",
      "Epoch 12/20, Step 100/352, Loss: 0.07537\n",
      "Epoch 12/20, Step 200/352, Loss: 0.00825\n",
      "Epoch 12/20, Step 300/352, Loss: 0.00472\n",
      "Epoch 13/20, Step 100/352, Loss: 0.03978\n",
      "Epoch 13/20, Step 200/352, Loss: 0.00259\n",
      "Epoch 13/20, Step 300/352, Loss: 0.00648\n",
      "Epoch 14/20, Step 100/352, Loss: 0.02528\n",
      "Epoch 14/20, Step 200/352, Loss: 0.03556\n",
      "Epoch 14/20, Step 300/352, Loss: 0.00270\n",
      "Epoch 15/20, Step 100/352, Loss: 0.00316\n",
      "Epoch 15/20, Step 200/352, Loss: 0.13763\n",
      "Epoch 15/20, Step 300/352, Loss: 0.02196\n",
      "Epoch 16/20, Step 100/352, Loss: 0.00088\n",
      "Epoch 16/20, Step 200/352, Loss: 0.00028\n",
      "Epoch 16/20, Step 300/352, Loss: 0.00060\n",
      "Epoch 17/20, Step 100/352, Loss: 0.00104\n",
      "Epoch 17/20, Step 200/352, Loss: 0.00092\n",
      "Epoch 17/20, Step 300/352, Loss: 0.00110\n",
      "Epoch 18/20, Step 100/352, Loss: 0.00029\n",
      "Epoch 18/20, Step 200/352, Loss: 0.01021\n",
      "Epoch 18/20, Step 300/352, Loss: 0.00362\n",
      "Epoch 19/20, Step 100/352, Loss: 0.00002\n",
      "Epoch 19/20, Step 200/352, Loss: 0.07811\n",
      "Epoch 19/20, Step 300/352, Loss: 0.15139\n",
      "Epoch 20/20, Step 100/352, Loss: 0.11529\n",
      "Epoch 20/20, Step 200/352, Loss: 0.00027\n",
      "Epoch 20/20, Step 300/352, Loss: 0.09548\n"
     ]
    }
   ],
   "source": [
    "model = SimpleCNN(num_classes=10) \n",
    "criterion = nn.CrossEntropyLoss()  \n",
    "optimizer = torch.optim.Adam(model.parameters(), lr=0.001)  \n",
    "\n",
    "model = model.to(device)\n",
    "\n",
    "num_epochs = 20  \n",
    "\n",
    "for epoch in range(num_epochs):\n",
    "    for i, (images, labels) in enumerate(data_loader):\n",
    "        images, labels = images.to(device), labels.to(device)\n",
    "        images = images.unsqueeze(1)\n",
    "        \n",
    "        _, _, _, _, outputs = model(images)\n",
    "        loss = criterion(outputs, labels)\n",
    "\n",
    "        optimizer.zero_grad()\n",
    "        loss.backward()\n",
    "        optimizer.step()\n",
    "        \n",
    "        if (i+1) % 100 == 0:\n",
    "            print(f'Epoch {epoch+1}/{num_epochs}, Step {i+1}/{len(data_loader)}, Loss: {loss.item():.5f}')\n",
    "\n",
    "        del images, labels, outputs, loss\n",
    "        torch.cuda.empty_cache()\n"
   ]
  },
  {
   "cell_type": "code",
   "execution_count": 13,
   "metadata": {},
   "outputs": [
    {
     "name": "stderr",
     "output_type": "stream",
     "text": [
      "C:\\Users\\denis\\AppData\\Local\\Temp\\ipykernel_12228\\3105449872.py:23: DeprecationWarning: an integer is required (got type numpy.float64).  Implicit conversion to integers using __int__ is deprecated, and may be removed in a future version of Python.\n",
      "  label = torch.tensor(label, dtype=torch.long)\n"
     ]
    },
    {
     "name": "stdout",
     "output_type": "stream",
     "text": [
      "Accuracy: 92.87%\n"
     ]
    }
   ],
   "source": [
    "def test_model(model, test_loader):\n",
    "    model = model.to(device)\n",
    "    model.eval() \n",
    "    correct = 0\n",
    "    total = 0\n",
    "    \n",
    "    for images, labels in test_loader:\n",
    "        images, labels = images.to(device), labels.to(device)\n",
    "        images = images.unsqueeze(1)  \n",
    "        _, _, _, _,outputs = model(images)\n",
    "        _, predicted = torch.max(outputs.data, 1)  \n",
    "        total += labels.size(0)\n",
    "        correct += (predicted == labels).sum().item()\n",
    "\n",
    "    accuracy = 100 * correct / total\n",
    "    print(f'Accuracy: {accuracy:.2f}%')\n",
    "\n",
    "\n",
    "test_model(model, test_loader)"
   ]
  },
  {
   "cell_type": "code",
   "execution_count": 14,
   "metadata": {},
   "outputs": [
    {
     "name": "stderr",
     "output_type": "stream",
     "text": [
      "C:\\Users\\denis\\AppData\\Local\\Temp\\ipykernel_12228\\3105449872.py:23: DeprecationWarning: an integer is required (got type numpy.float64).  Implicit conversion to integers using __int__ is deprecated, and may be removed in a future version of Python.\n",
      "  label = torch.tensor(label, dtype=torch.long)\n"
     ]
    },
    {
     "name": "stdout",
     "output_type": "stream",
     "text": [
      "Epoch 1/25, Step 100/352, Loss: 0.36709\n",
      "Epoch 1/25, Step 200/352, Loss: 0.83000\n",
      "Epoch 1/25, Step 300/352, Loss: 0.06066\n",
      "Epoch 2/25, Step 100/352, Loss: 0.24371\n",
      "Epoch 2/25, Step 200/352, Loss: 0.32701\n",
      "Epoch 2/25, Step 300/352, Loss: 0.17129\n",
      "Epoch 3/25, Step 100/352, Loss: 0.06460\n",
      "Epoch 3/25, Step 200/352, Loss: 0.32763\n",
      "Epoch 3/25, Step 300/352, Loss: 0.07855\n",
      "Epoch 4/25, Step 100/352, Loss: 0.08659\n",
      "Epoch 4/25, Step 200/352, Loss: 0.26692\n",
      "Epoch 4/25, Step 300/352, Loss: 0.06652\n",
      "Epoch 5/25, Step 100/352, Loss: 0.10634\n",
      "Epoch 5/25, Step 200/352, Loss: 0.03598\n",
      "Epoch 5/25, Step 300/352, Loss: 0.04357\n",
      "Epoch 6/25, Step 100/352, Loss: 0.00328\n",
      "Epoch 6/25, Step 200/352, Loss: 0.09134\n",
      "Epoch 6/25, Step 300/352, Loss: 0.01099\n",
      "Epoch 7/25, Step 100/352, Loss: 0.00077\n",
      "Epoch 7/25, Step 200/352, Loss: 0.00315\n",
      "Epoch 7/25, Step 300/352, Loss: 0.14069\n",
      "Epoch 8/25, Step 100/352, Loss: 0.00294\n",
      "Epoch 8/25, Step 200/352, Loss: 0.10849\n",
      "Epoch 8/25, Step 300/352, Loss: 0.00905\n",
      "Epoch 9/25, Step 100/352, Loss: 0.00153\n",
      "Epoch 9/25, Step 200/352, Loss: 0.10290\n",
      "Epoch 9/25, Step 300/352, Loss: 0.00528\n",
      "Epoch 10/25, Step 100/352, Loss: 0.05526\n",
      "Epoch 10/25, Step 200/352, Loss: 0.00113\n",
      "Epoch 10/25, Step 300/352, Loss: 0.00105\n",
      "Epoch 11/25, Step 100/352, Loss: 0.00196\n",
      "Epoch 11/25, Step 200/352, Loss: 0.03815\n",
      "Epoch 11/25, Step 300/352, Loss: 0.17158\n",
      "Epoch 12/25, Step 100/352, Loss: 0.00037\n",
      "Epoch 12/25, Step 200/352, Loss: 0.07870\n",
      "Epoch 12/25, Step 300/352, Loss: 0.00130\n",
      "Epoch 13/25, Step 100/352, Loss: 0.00028\n",
      "Epoch 13/25, Step 200/352, Loss: 0.00078\n",
      "Epoch 13/25, Step 300/352, Loss: 0.05999\n",
      "Epoch 14/25, Step 100/352, Loss: 0.00488\n",
      "Epoch 14/25, Step 200/352, Loss: 0.12580\n",
      "Epoch 14/25, Step 300/352, Loss: 0.01115\n",
      "Epoch 15/25, Step 100/352, Loss: 0.00000\n",
      "Epoch 15/25, Step 200/352, Loss: 0.00243\n",
      "Epoch 15/25, Step 300/352, Loss: 0.00013\n",
      "Epoch 16/25, Step 100/352, Loss: 0.00612\n",
      "Epoch 16/25, Step 200/352, Loss: 0.00100\n",
      "Epoch 16/25, Step 300/352, Loss: 0.10838\n",
      "Epoch 17/25, Step 100/352, Loss: 0.00002\n",
      "Epoch 17/25, Step 200/352, Loss: 0.00002\n",
      "Epoch 17/25, Step 300/352, Loss: 0.02622\n",
      "Epoch 18/25, Step 100/352, Loss: 0.00304\n",
      "Epoch 18/25, Step 200/352, Loss: 0.06735\n",
      "Epoch 18/25, Step 300/352, Loss: 0.02575\n",
      "Epoch 19/25, Step 100/352, Loss: 0.01382\n",
      "Epoch 19/25, Step 200/352, Loss: 0.03084\n",
      "Epoch 19/25, Step 300/352, Loss: 0.02212\n",
      "Epoch 20/25, Step 100/352, Loss: 0.00009\n",
      "Epoch 20/25, Step 200/352, Loss: 0.00133\n",
      "Epoch 20/25, Step 300/352, Loss: 0.00009\n",
      "Epoch 21/25, Step 100/352, Loss: 0.01513\n",
      "Epoch 21/25, Step 200/352, Loss: 0.01982\n",
      "Epoch 21/25, Step 300/352, Loss: 0.00005\n",
      "Epoch 22/25, Step 100/352, Loss: 0.08286\n",
      "Epoch 22/25, Step 200/352, Loss: 0.05880\n",
      "Epoch 22/25, Step 300/352, Loss: 0.05106\n",
      "Epoch 23/25, Step 100/352, Loss: 0.00105\n",
      "Epoch 23/25, Step 200/352, Loss: 0.00004\n",
      "Epoch 23/25, Step 300/352, Loss: 0.00040\n",
      "Epoch 24/25, Step 100/352, Loss: 0.00005\n",
      "Epoch 24/25, Step 200/352, Loss: 0.00991\n",
      "Epoch 24/25, Step 300/352, Loss: 0.00034\n",
      "Epoch 25/25, Step 100/352, Loss: 0.00409\n",
      "Epoch 25/25, Step 200/352, Loss: 0.00613\n",
      "Epoch 25/25, Step 300/352, Loss: 0.00028\n"
     ]
    },
    {
     "data": {
      "image/png": "[encoded data removed]",
      "text/plain": [
       "<Figure size 640x480 with 1 Axes>"
      ]
     },
     "metadata": {},
     "output_type": "display_data"
    }
   ],
   "source": [
    "model_2 = SimpleCNN(num_classes=10) \n",
    "criterion = nn.CrossEntropyLoss()  \n",
    "optimizer = torch.optim.Adam(model_2.parameters(), lr=0.001) \n",
    "\n",
    "model_2 = model_2.to(device)\n",
    "\n",
    "num_epochs = 25  \n",
    "epoch_losses = []\n",
    "\n",
    "for epoch in range(num_epochs):\n",
    "    epoch_loss = 0  \n",
    "    num_batches = 0 \n",
    "\n",
    "    for i, (images, labels) in enumerate(data_loader):\n",
    "        images, labels = images.to(device), labels.to(device)\n",
    "        images = images.unsqueeze(1)\n",
    "        \n",
    "        _, _, _, _, outputs = model_2(images)\n",
    "        loss = criterion(outputs, labels)\n",
    "\n",
    "        optimizer.zero_grad()\n",
    "        loss.backward()\n",
    "        optimizer.step()\n",
    "        epoch_loss += loss.item()\n",
    "        num_batches += 1\n",
    "\n",
    "        if (i+1) % 100 == 0:\n",
    "            print(f'Epoch {epoch+1}/{num_epochs}, Step {i+1}/{len(data_loader)}, Loss: {loss.item():.5f}')\n",
    "\n",
    "        del images, labels, outputs, loss\n",
    "        torch.cuda.empty_cache()\n",
    "\n",
    "    epoch_loss /= num_batches\n",
    "    epoch_losses.append(epoch_loss)\n",
    "\n",
    "plt.plot(epoch_losses)\n",
    "plt.ylabel('Average Epoch Loss')\n",
    "plt.xlabel('Epoch')\n",
    "plt.title('Loss over Epochs')\n",
    "plt.show()\n"
   ]
  },
  {
   "cell_type": "code",
   "execution_count": 17,
   "metadata": {},
   "outputs": [
    {
     "name": "stderr",
     "output_type": "stream",
     "text": [
      "C:\\Users\\denis\\AppData\\Local\\Temp\\ipykernel_12228\\3105449872.py:23: DeprecationWarning: an integer is required (got type numpy.float64).  Implicit conversion to integers using __int__ is deprecated, and may be removed in a future version of Python.\n",
      "  label = torch.tensor(label, dtype=torch.long)\n"
     ]
    },
    {
     "name": "stdout",
     "output_type": "stream",
     "text": [
      "Accuracy: 93.12%\n"
     ]
    }
   ],
   "source": [
    "def test_model_2(model_2, test_loader):\n",
    "    model_2 = model_2.to(device)\n",
    "    \n",
    "    model_2.eval() \n",
    "    correct = 0\n",
    "    total = 0\n",
    "    \n",
    "    for images, labels in test_loader:\n",
    "        images, labels = images.to(device), labels.to(device)\n",
    "        \n",
    "        images = images.unsqueeze(1)  \n",
    "        _, _, _, _,outputs = model_2(images)\n",
    "        _, predicted = torch.max(outputs.data, 1)  \n",
    "        total += labels.size(0)\n",
    "        correct += (predicted == labels).sum().item()\n",
    "\n",
    "    accuracy = 100 * correct / total\n",
    "    print(f'Accuracy: {accuracy:.2f}%')\n",
    "    del images, labels, outputs\n",
    "    torch.cuda.empty_cache()\n",
    "\n",
    "test_model_2(model_2, test_loader)\n"
   ]
  },
  {
   "cell_type": "code",
   "execution_count": 18,
   "metadata": {},
   "outputs": [],
   "source": [
    "\n",
    "class SimpleCNN_x(nn.Module):\n",
    "    def __init__(self, num_classes=10):  \n",
    "        super(SimpleCNN_x, self).__init__()\n",
    "        self.conv1 = nn.Conv2d(in_channels=1, out_channels=32, kernel_size=3, stride=1, padding=1)\n",
    "        self.conv2 = nn.Conv2d(in_channels=32, out_channels=64, kernel_size=3, stride=1, padding=1)\n",
    "        self.conv3 = nn.Conv2d(in_channels=64, out_channels=64, kernel_size=3, stride=1, padding=1)\n",
    "        self.pool = nn.MaxPool2d(kernel_size=2, stride=2, padding=0)\n",
    "        self.fc1 = nn.Linear(3136, 128)  \n",
    "        self.fc2 = nn.Linear(128, num_classes)\n",
    "\n",
    "    def forward(self, x):\n",
    "        x1 = F.relu(self.conv1(x))\n",
    "        x2 = self.pool(F.relu(self.conv2(x1)))\n",
    "        x3 = self.pool(F.relu(self.conv3(x2)))\n",
    "        x3 = x3.view(x3.size(0), -1)  \n",
    "        x4 = F.relu(self.fc1(x3))\n",
    "        out = self.fc2(x4)\n",
    "        return x1, x2, x3, out\n"
   ]
  },
  {
   "cell_type": "code",
   "execution_count": 19,
   "metadata": {},
   "outputs": [
    {
     "name": "stderr",
     "output_type": "stream",
     "text": [
      "C:\\Users\\denis\\AppData\\Local\\Temp\\ipykernel_12228\\3105449872.py:23: DeprecationWarning: an integer is required (got type numpy.float64).  Implicit conversion to integers using __int__ is deprecated, and may be removed in a future version of Python.\n",
      "  label = torch.tensor(label, dtype=torch.long)\n"
     ]
    },
    {
     "name": "stdout",
     "output_type": "stream",
     "text": [
      "Epoch 1/25, Step 100/352, Loss: 0.44400\n",
      "Epoch 1/25, Step 200/352, Loss: 0.31059\n",
      "Epoch 1/25, Step 300/352, Loss: 0.29747\n",
      "Epoch 2/25, Step 100/352, Loss: 0.14826\n",
      "Epoch 2/25, Step 200/352, Loss: 0.33098\n",
      "Epoch 2/25, Step 300/352, Loss: 0.34438\n",
      "Epoch 3/25, Step 100/352, Loss: 0.03341\n",
      "Epoch 3/25, Step 200/352, Loss: 0.27392\n",
      "Epoch 3/25, Step 300/352, Loss: 0.29789\n",
      "Epoch 4/25, Step 100/352, Loss: 0.02810\n",
      "Epoch 4/25, Step 200/352, Loss: 0.11986\n",
      "Epoch 4/25, Step 300/352, Loss: 0.03831\n",
      "Epoch 5/25, Step 100/352, Loss: 0.02598\n",
      "Epoch 5/25, Step 200/352, Loss: 0.03618\n",
      "Epoch 5/25, Step 300/352, Loss: 0.12564\n",
      "Epoch 6/25, Step 100/352, Loss: 0.05625\n",
      "Epoch 6/25, Step 200/352, Loss: 0.03074\n",
      "Epoch 6/25, Step 300/352, Loss: 0.12624\n",
      "Epoch 7/25, Step 100/352, Loss: 0.02610\n",
      "Epoch 7/25, Step 200/352, Loss: 0.10771\n",
      "Epoch 7/25, Step 300/352, Loss: 0.22709\n",
      "Epoch 8/25, Step 100/352, Loss: 0.00983\n",
      "Epoch 8/25, Step 200/352, Loss: 0.04809\n",
      "Epoch 8/25, Step 300/352, Loss: 0.01666\n",
      "Epoch 9/25, Step 100/352, Loss: 0.05280\n",
      "Epoch 9/25, Step 200/352, Loss: 0.09547\n",
      "Epoch 9/25, Step 300/352, Loss: 0.02636\n",
      "Epoch 10/25, Step 100/352, Loss: 0.00291\n",
      "Epoch 10/25, Step 200/352, Loss: 0.01712\n",
      "Epoch 10/25, Step 300/352, Loss: 0.00084\n",
      "Epoch 11/25, Step 100/352, Loss: 0.03397\n",
      "Epoch 11/25, Step 200/352, Loss: 0.00019\n",
      "Epoch 11/25, Step 300/352, Loss: 0.00467\n",
      "Epoch 12/25, Step 100/352, Loss: 0.00433\n",
      "Epoch 12/25, Step 200/352, Loss: 0.00023\n",
      "Epoch 12/25, Step 300/352, Loss: 0.34338\n",
      "Epoch 13/25, Step 100/352, Loss: 0.06020\n",
      "Epoch 13/25, Step 200/352, Loss: 0.19376\n",
      "Epoch 13/25, Step 300/352, Loss: 0.00083\n",
      "Epoch 14/25, Step 100/352, Loss: 0.00011\n",
      "Epoch 14/25, Step 200/352, Loss: 0.09983\n",
      "Epoch 14/25, Step 300/352, Loss: 0.00122\n",
      "Epoch 15/25, Step 100/352, Loss: 0.01225\n",
      "Epoch 15/25, Step 200/352, Loss: 0.00615\n",
      "Epoch 15/25, Step 300/352, Loss: 0.00000\n",
      "Epoch 16/25, Step 100/352, Loss: 0.00103\n",
      "Epoch 16/25, Step 200/352, Loss: 0.00108\n",
      "Epoch 16/25, Step 300/352, Loss: 0.00005\n",
      "Epoch 17/25, Step 100/352, Loss: 0.03180\n",
      "Epoch 17/25, Step 200/352, Loss: 0.06452\n",
      "Epoch 17/25, Step 300/352, Loss: 0.06694\n",
      "Epoch 18/25, Step 100/352, Loss: 0.33225\n",
      "Epoch 18/25, Step 200/352, Loss: 0.00008\n",
      "Epoch 18/25, Step 300/352, Loss: 0.05057\n",
      "Epoch 19/25, Step 100/352, Loss: 0.00018\n",
      "Epoch 19/25, Step 200/352, Loss: 0.48439\n",
      "Epoch 19/25, Step 300/352, Loss: 0.00073\n",
      "Epoch 20/25, Step 100/352, Loss: 0.00000\n",
      "Epoch 20/25, Step 200/352, Loss: 0.37736\n",
      "Epoch 20/25, Step 300/352, Loss: 0.00290\n",
      "Epoch 21/25, Step 100/352, Loss: 0.00005\n",
      "Epoch 21/25, Step 200/352, Loss: 0.09277\n",
      "Epoch 21/25, Step 300/352, Loss: 0.04562\n",
      "Epoch 22/25, Step 100/352, Loss: 0.00010\n",
      "Epoch 22/25, Step 200/352, Loss: 0.00002\n",
      "Epoch 22/25, Step 300/352, Loss: 0.00008\n",
      "Epoch 23/25, Step 100/352, Loss: 0.00001\n",
      "Epoch 23/25, Step 200/352, Loss: 0.07968\n",
      "Epoch 23/25, Step 300/352, Loss: 0.46782\n",
      "Epoch 24/25, Step 100/352, Loss: 0.00006\n",
      "Epoch 24/25, Step 200/352, Loss: 0.00016\n",
      "Epoch 24/25, Step 300/352, Loss: 0.01264\n",
      "Epoch 25/25, Step 100/352, Loss: 0.00013\n",
      "Epoch 25/25, Step 200/352, Loss: 0.08438\n",
      "Epoch 25/25, Step 300/352, Loss: 0.00000\n"
     ]
    },
    {
     "data": {
      "image/png": "[encoded data removed]",
      "text/plain": [
       "<Figure size 640x480 with 1 Axes>"
      ]
     },
     "metadata": {},
     "output_type": "display_data"
    }
   ],
   "source": [
    "mdlx = SimpleCNN_x(num_classes=10) \n",
    "criterion = nn.CrossEntropyLoss()  \n",
    "optimizer = torch.optim.Adam(mdlx.parameters(), lr=0.001) \n",
    "\n",
    "mdlx = mdlx.to(device)\n",
    "\n",
    "num_epochs = 25  \n",
    "epoch_losses = []\n",
    "\n",
    "for epoch in range(num_epochs):\n",
    "    epoch_loss = 0 \n",
    "    num_batches = 0  \n",
    "\n",
    "    for i, (images, labels) in enumerate(data_loader):\n",
    "        images, labels = images.to(device), labels.to(device)\n",
    "        images = images.unsqueeze(1)\n",
    "        \n",
    "        _, _, _, outputs = mdlx(images)\n",
    "        loss = criterion(outputs, labels)\n",
    "\n",
    "        optimizer.zero_grad()\n",
    "        loss.backward()\n",
    "        optimizer.step()\n",
    "        epoch_loss += loss.item()\n",
    "        num_batches += 1\n",
    "\n",
    "        if (i+1) % 100 == 0:\n",
    "            print(f'Epoch {epoch+1}/{num_epochs}, Step {i+1}/{len(data_loader)}, Loss: {loss.item():.5f}')\n",
    "\n",
    "        del images, labels, outputs, loss\n",
    "        torch.cuda.empty_cache()\n",
    "\n",
    "    epoch_loss /= num_batches\n",
    "    epoch_losses.append(epoch_loss)\n",
    "\n",
    "plt.plot(epoch_losses)\n",
    "plt.ylabel('Average Epoch Loss')\n",
    "plt.xlabel('Epoch')\n",
    "plt.title('Loss over Epochs')\n",
    "plt.show()\n"
   ]
  },
  {
   "cell_type": "code",
   "execution_count": 20,
   "metadata": {},
   "outputs": [
    {
     "name": "stderr",
     "output_type": "stream",
     "text": [
      "C:\\Users\\denis\\AppData\\Local\\Temp\\ipykernel_12228\\3105449872.py:23: DeprecationWarning: an integer is required (got type numpy.float64).  Implicit conversion to integers using __int__ is deprecated, and may be removed in a future version of Python.\n",
      "  label = torch.tensor(label, dtype=torch.long)\n"
     ]
    },
    {
     "name": "stdout",
     "output_type": "stream",
     "text": [
      "Accuracy: 93.96%\n"
     ]
    }
   ],
   "source": [
    "def test_model_x(mdlx, test_loader):\n",
    "    mdlx = mdlx.to(device)\n",
    "    \n",
    "    mdlx.eval() \n",
    "    correct = 0\n",
    "    total = 0\n",
    "     \n",
    "    for images, labels in test_loader:\n",
    "        images, labels = images.to(device), labels.to(device)\n",
    "        \n",
    "        images = images.unsqueeze(1)  \n",
    "        _, _, _, outputs = mdlx(images)\n",
    "        _, predicted = torch.max(outputs.data, 1)  \n",
    "        total += labels.size(0)\n",
    "        correct += (predicted == labels).sum().item()\n",
    "\n",
    "    accuracy = 100 * correct / total\n",
    "    print(f'Accuracy: {accuracy:.2f}%')\n",
    "    del images, labels, outputs\n",
    "    torch.cuda.empty_cache()\n",
    "\n",
    "test_model_x(mdlx, test_loader)\n"
   ]
  },
  {
   "cell_type": "code",
   "execution_count": 21,
   "metadata": {},
   "outputs": [],
   "source": [
    "\n",
    "class SimpleCNN_2(nn.Module):\n",
    "    def __init__(self, num_classes=10):  \n",
    "        super(SimpleCNN_2, self).__init__()\n",
    "        self.conv1 = nn.Conv2d(in_channels=1, out_channels=32, kernel_size=3, stride=1, padding=1)\n",
    "        self.conv2 = nn.Conv2d(in_channels=32, out_channels=64, kernel_size=3, stride=1, padding=1)\n",
    "        self.conv3 = nn.Conv2d(in_channels=64, out_channels=128, kernel_size=3, stride=1, padding=1)\n",
    "        self.pool = nn.MaxPool2d(kernel_size=2, stride=2, padding=0)\n",
    "        self.dropout = nn.Dropout2d(p=0.2)\n",
    "        self.fc1 = nn.Linear(128 * 7 * 7, 128)  # updating dimensions\n",
    "        self.fc2 = nn.Linear(128, num_classes)\n",
    "\n",
    "    def forward(self, x):\n",
    "        x = self.pool(F.relu(self.conv1(x)))\n",
    "        x = F.relu(self.conv2(x))  \n",
    "        x = self.dropout(x)\n",
    "        x = self.pool(F.relu(self.conv3(x)))  \n",
    "        x = x.view(-1, 128 * 7 * 7)  # updating the flattening\n",
    "        x = F.relu(self.fc1(x))\n",
    "        x = self.dropout(x)\n",
    "        out = self.fc2(x)\n",
    "        return out\n"
   ]
  },
  {
   "cell_type": "code",
   "execution_count": 22,
   "metadata": {},
   "outputs": [
    {
     "name": "stderr",
     "output_type": "stream",
     "text": [
      "C:\\Users\\denis\\AppData\\Local\\Temp\\ipykernel_12228\\3105449872.py:23: DeprecationWarning: an integer is required (got type numpy.float64).  Implicit conversion to integers using __int__ is deprecated, and may be removed in a future version of Python.\n",
      "  label = torch.tensor(label, dtype=torch.long)\n",
      "c:\\Users\\denis\\anaconda3\\lib\\site-packages\\torch\\nn\\functional.py:1331: UserWarning: dropout2d: Received a 2-D input to dropout2d, which is deprecated and will result in an error in a future release. To retain the behavior and silence this warning, please use dropout instead. Note that dropout2d exists to provide channel-wise dropout on inputs with 2 spatial dimensions, a channel dimension, and an optional batch dimension (i.e. 3D or 4D inputs).\n",
      "  warnings.warn(warn_msg)\n"
     ]
    },
    {
     "name": "stdout",
     "output_type": "stream",
     "text": [
      "Epoch 1/50, Step 100/352, Loss: 1.16440\n",
      "Epoch 1/50, Step 200/352, Loss: 0.60363\n",
      "Epoch 1/50, Step 300/352, Loss: 0.39017\n",
      "Epoch 2/50, Step 100/352, Loss: 0.58831\n",
      "Epoch 2/50, Step 200/352, Loss: 0.63405\n",
      "Epoch 2/50, Step 300/352, Loss: 0.61301\n",
      "Epoch 3/50, Step 100/352, Loss: 0.09509\n",
      "Epoch 3/50, Step 200/352, Loss: 0.14827\n",
      "Epoch 3/50, Step 300/352, Loss: 0.29306\n",
      "Epoch 4/50, Step 100/352, Loss: 0.05624\n",
      "Epoch 4/50, Step 200/352, Loss: 0.36541\n",
      "Epoch 4/50, Step 300/352, Loss: 0.20348\n",
      "Epoch 5/50, Step 100/352, Loss: 0.10937\n",
      "Epoch 5/50, Step 200/352, Loss: 0.13203\n",
      "Epoch 5/50, Step 300/352, Loss: 0.09360\n",
      "Epoch 6/50, Step 100/352, Loss: 0.05413\n",
      "Epoch 6/50, Step 200/352, Loss: 0.11674\n",
      "Epoch 6/50, Step 300/352, Loss: 0.30172\n",
      "Epoch 7/50, Step 100/352, Loss: 0.39516\n",
      "Epoch 7/50, Step 200/352, Loss: 0.20746\n",
      "Epoch 7/50, Step 300/352, Loss: 0.33985\n",
      "Epoch 8/50, Step 100/352, Loss: 0.08669\n",
      "Epoch 8/50, Step 200/352, Loss: 0.08938\n",
      "Epoch 8/50, Step 300/352, Loss: 0.26887\n",
      "Epoch 9/50, Step 100/352, Loss: 0.12250\n",
      "Epoch 9/50, Step 200/352, Loss: 0.30088\n",
      "Epoch 9/50, Step 300/352, Loss: 0.22222\n",
      "Epoch 10/50, Step 100/352, Loss: 0.17582\n",
      "Epoch 10/50, Step 200/352, Loss: 0.05801\n",
      "Epoch 10/50, Step 300/352, Loss: 0.21115\n",
      "Epoch 11/50, Step 100/352, Loss: 0.10648\n",
      "Epoch 11/50, Step 200/352, Loss: 0.12967\n",
      "Epoch 11/50, Step 300/352, Loss: 0.04519\n",
      "Epoch 12/50, Step 100/352, Loss: 0.22106\n",
      "Epoch 12/50, Step 200/352, Loss: 0.26222\n",
      "Epoch 12/50, Step 300/352, Loss: 0.11263\n",
      "Epoch 13/50, Step 100/352, Loss: 0.14179\n",
      "Epoch 13/50, Step 200/352, Loss: 0.04603\n",
      "Epoch 13/50, Step 300/352, Loss: 0.02877\n",
      "Epoch 14/50, Step 100/352, Loss: 0.07369\n",
      "Epoch 14/50, Step 200/352, Loss: 0.17035\n",
      "Epoch 14/50, Step 300/352, Loss: 0.06078\n",
      "Epoch 15/50, Step 100/352, Loss: 0.05284\n",
      "Epoch 15/50, Step 200/352, Loss: 0.06174\n",
      "Epoch 15/50, Step 300/352, Loss: 0.25091\n",
      "Epoch 16/50, Step 100/352, Loss: 0.03174\n",
      "Epoch 16/50, Step 200/352, Loss: 0.11077\n",
      "Epoch 16/50, Step 300/352, Loss: 0.17388\n",
      "Epoch 17/50, Step 100/352, Loss: 0.07811\n",
      "Epoch 17/50, Step 200/352, Loss: 0.07456\n",
      "Epoch 17/50, Step 300/352, Loss: 0.09206\n",
      "Epoch 18/50, Step 100/352, Loss: 0.25413\n",
      "Epoch 18/50, Step 200/352, Loss: 0.07739\n",
      "Epoch 18/50, Step 300/352, Loss: 0.08952\n",
      "Epoch 19/50, Step 100/352, Loss: 0.07559\n",
      "Epoch 19/50, Step 200/352, Loss: 0.13005\n",
      "Epoch 19/50, Step 300/352, Loss: 0.01217\n",
      "Epoch 20/50, Step 100/352, Loss: 0.14675\n",
      "Epoch 20/50, Step 200/352, Loss: 0.03176\n",
      "Epoch 20/50, Step 300/352, Loss: 0.06887\n",
      "Epoch 21/50, Step 100/352, Loss: 0.11414\n",
      "Epoch 21/50, Step 200/352, Loss: 0.24000\n",
      "Epoch 21/50, Step 300/352, Loss: 0.04063\n",
      "Epoch 22/50, Step 100/352, Loss: 0.04838\n",
      "Epoch 22/50, Step 200/352, Loss: 0.03205\n",
      "Epoch 22/50, Step 300/352, Loss: 0.01810\n",
      "Epoch 23/50, Step 100/352, Loss: 0.07450\n",
      "Epoch 23/50, Step 200/352, Loss: 0.08060\n",
      "Epoch 23/50, Step 300/352, Loss: 0.03353\n",
      "Epoch 24/50, Step 100/352, Loss: 0.09704\n",
      "Epoch 24/50, Step 200/352, Loss: 0.02430\n",
      "Epoch 24/50, Step 300/352, Loss: 0.15780\n",
      "Epoch 25/50, Step 100/352, Loss: 0.27221\n",
      "Epoch 25/50, Step 200/352, Loss: 0.03496\n",
      "Epoch 25/50, Step 300/352, Loss: 0.07625\n",
      "Epoch 26/50, Step 100/352, Loss: 0.00334\n",
      "Epoch 26/50, Step 200/352, Loss: 0.14869\n",
      "Epoch 26/50, Step 300/352, Loss: 0.07812\n",
      "Epoch 27/50, Step 100/352, Loss: 0.02927\n",
      "Epoch 27/50, Step 200/352, Loss: 0.11304\n",
      "Epoch 27/50, Step 300/352, Loss: 0.05745\n",
      "Epoch 28/50, Step 100/352, Loss: 0.01090\n",
      "Epoch 28/50, Step 200/352, Loss: 0.03806\n",
      "Epoch 28/50, Step 300/352, Loss: 0.07930\n",
      "Epoch 29/50, Step 100/352, Loss: 0.01477\n",
      "Epoch 29/50, Step 200/352, Loss: 0.10449\n",
      "Epoch 29/50, Step 300/352, Loss: 0.02784\n",
      "Epoch 30/50, Step 100/352, Loss: 0.03913\n",
      "Epoch 30/50, Step 200/352, Loss: 0.01704\n",
      "Epoch 30/50, Step 300/352, Loss: 0.00550\n",
      "Epoch 31/50, Step 100/352, Loss: 0.00718\n",
      "Epoch 31/50, Step 200/352, Loss: 0.01919\n",
      "Epoch 31/50, Step 300/352, Loss: 0.01128\n",
      "Epoch 32/50, Step 100/352, Loss: 0.07526\n",
      "Epoch 32/50, Step 200/352, Loss: 0.13446\n",
      "Epoch 32/50, Step 300/352, Loss: 0.06232\n",
      "Epoch 33/50, Step 100/352, Loss: 0.04485\n",
      "Epoch 33/50, Step 200/352, Loss: 0.04760\n",
      "Epoch 33/50, Step 300/352, Loss: 0.01568\n",
      "Epoch 34/50, Step 100/352, Loss: 0.01466\n",
      "Epoch 34/50, Step 200/352, Loss: 0.02294\n",
      "Epoch 34/50, Step 300/352, Loss: 0.26239\n",
      "Epoch 35/50, Step 100/352, Loss: 0.06701\n",
      "Epoch 35/50, Step 200/352, Loss: 0.07300\n",
      "Epoch 35/50, Step 300/352, Loss: 0.00129\n",
      "Epoch 36/50, Step 100/352, Loss: 0.03320\n",
      "Epoch 36/50, Step 200/352, Loss: 0.02348\n",
      "Epoch 36/50, Step 300/352, Loss: 0.00545\n",
      "Epoch 37/50, Step 100/352, Loss: 0.00270\n",
      "Epoch 37/50, Step 200/352, Loss: 0.01888\n",
      "Epoch 37/50, Step 300/352, Loss: 0.00404\n",
      "Epoch 38/50, Step 100/352, Loss: 0.00395\n",
      "Epoch 38/50, Step 200/352, Loss: 0.04559\n",
      "Epoch 38/50, Step 300/352, Loss: 0.07246\n",
      "Epoch 39/50, Step 100/352, Loss: 0.01131\n",
      "Epoch 39/50, Step 200/352, Loss: 0.06412\n",
      "Epoch 39/50, Step 300/352, Loss: 0.07081\n",
      "Epoch 40/50, Step 100/352, Loss: 0.09857\n",
      "Epoch 40/50, Step 200/352, Loss: 0.00357\n",
      "Epoch 40/50, Step 300/352, Loss: 0.03945\n",
      "Epoch 41/50, Step 100/352, Loss: 0.02835\n",
      "Epoch 41/50, Step 200/352, Loss: 0.13298\n",
      "Epoch 41/50, Step 300/352, Loss: 0.02175\n",
      "Epoch 42/50, Step 100/352, Loss: 0.03284\n",
      "Epoch 42/50, Step 200/352, Loss: 0.00116\n",
      "Epoch 42/50, Step 300/352, Loss: 0.00930\n",
      "Epoch 43/50, Step 100/352, Loss: 0.03602\n",
      "Epoch 43/50, Step 200/352, Loss: 0.03589\n",
      "Epoch 43/50, Step 300/352, Loss: 0.04993\n",
      "Epoch 44/50, Step 100/352, Loss: 0.11859\n",
      "Epoch 44/50, Step 200/352, Loss: 0.01079\n",
      "Epoch 44/50, Step 300/352, Loss: 0.06232\n",
      "Epoch 45/50, Step 100/352, Loss: 0.02872\n",
      "Epoch 45/50, Step 200/352, Loss: 0.00722\n",
      "Epoch 45/50, Step 300/352, Loss: 0.06237\n",
      "Epoch 46/50, Step 100/352, Loss: 0.05228\n",
      "Epoch 46/50, Step 200/352, Loss: 0.02204\n",
      "Epoch 46/50, Step 300/352, Loss: 0.01342\n",
      "Epoch 47/50, Step 100/352, Loss: 0.05239\n",
      "Epoch 47/50, Step 200/352, Loss: 0.03446\n",
      "Epoch 47/50, Step 300/352, Loss: 0.00098\n",
      "Epoch 48/50, Step 100/352, Loss: 0.01212\n",
      "Epoch 48/50, Step 200/352, Loss: 0.03230\n",
      "Epoch 48/50, Step 300/352, Loss: 0.02448\n",
      "Epoch 49/50, Step 100/352, Loss: 0.08416\n",
      "Epoch 49/50, Step 200/352, Loss: 0.06788\n",
      "Epoch 49/50, Step 300/352, Loss: 0.02025\n",
      "Epoch 50/50, Step 100/352, Loss: 0.00138\n",
      "Epoch 50/50, Step 200/352, Loss: 0.10026\n",
      "Epoch 50/50, Step 300/352, Loss: 0.00371\n"
     ]
    },
    {
     "data": {
      "image/png": "[encoded data removed]",
      "text/plain": [
       "<Figure size 640x480 with 1 Axes>"
      ]
     },
     "metadata": {},
     "output_type": "display_data"
    }
   ],
   "source": [
    "model_x = SimpleCNN_2(num_classes=10) \n",
    "criterion = nn.CrossEntropyLoss()  \n",
    "optimizer = torch.optim.SGD(model_x.parameters(), lr=0.001, momentum=0.1)\n",
    "\n",
    "model_x = model_x.to(device)\n",
    "\n",
    "num_epochs = 50\n",
    "epoch_losses  = []\n",
    "\n",
    "for epoch in range(num_epochs):\n",
    "    epoch_loss = 0  \n",
    "    num_batches = 0  \n",
    "\n",
    "    for i, (images, labels) in enumerate(data_loader):\n",
    "        images, labels = images.to(device), labels.to(device)\n",
    "        images = images.unsqueeze(1)\n",
    "        \n",
    "        outputs = model_x(images)\n",
    "        loss = criterion(outputs, labels)\n",
    "\n",
    "        optimizer.zero_grad()\n",
    "        loss.backward()\n",
    "        optimizer.step()\n",
    "        epoch_loss += loss.item()\n",
    "        num_batches += 1\n",
    "\n",
    "        if (i+1) % 100 == 0:\n",
    "            print(f'Epoch {epoch+1}/{num_epochs}, Step {i+1}/{len(data_loader)}, Loss: {loss.item():.5f}')\n",
    "\n",
    "        del images, labels, outputs, loss\n",
    "        torch.cuda.empty_cache()\n",
    "\n",
    "    epoch_loss /= num_batches\n",
    "    epoch_losses.append(epoch_loss)\n",
    "            \n",
    "plt.plot(epoch_losses)\n",
    "plt.ylabel('Average Epoch Loss')\n",
    "plt.xlabel('Epoch')\n",
    "plt.title('Loss over Epochs')\n",
    "plt.show()"
   ]
  },
  {
   "cell_type": "code",
   "execution_count": 23,
   "metadata": {},
   "outputs": [
    {
     "name": "stderr",
     "output_type": "stream",
     "text": [
      "C:\\Users\\denis\\AppData\\Local\\Temp\\ipykernel_12228\\3105449872.py:23: DeprecationWarning: an integer is required (got type numpy.float64).  Implicit conversion to integers using __int__ is deprecated, and may be removed in a future version of Python.\n",
      "  label = torch.tensor(label, dtype=torch.long)\n"
     ]
    },
    {
     "name": "stdout",
     "output_type": "stream",
     "text": [
      "Accuracy: 94.14%\n"
     ]
    }
   ],
   "source": [
    "def test_model_x(model_x, test_loader):\n",
    "    model_x = model_x.to(device)\n",
    "    \n",
    "    model_x.eval() \n",
    "    correct = 0\n",
    "    total = 0\n",
    "     \n",
    "    for images, labels in test_loader:\n",
    "        images, labels = images.to(device), labels.to(device)\n",
    "\n",
    "        images = images.unsqueeze(1)  \n",
    "        outputs = model_x(images)\n",
    "        _, predicted = torch.max(outputs.data, 1)  \n",
    "        total += labels.size(0)\n",
    "        correct += (predicted == labels).sum().item()\n",
    "\n",
    "    accuracy = 100 * correct / total\n",
    "    print(f'Accuracy: {accuracy:.2f}%')\n",
    "    del images, labels, outputs\n",
    "    torch.cuda.empty_cache()\n",
    "\n",
    "test_model_x(model_x, test_loader)\n"
   ]
  },
  {
   "cell_type": "code",
   "execution_count": null,
   "metadata": {},
   "outputs": [],
   "source": []
  }
 ],
 "metadata": {
  "kernelspec": {
   "display_name": "base",
   "language": "python",
   "name": "python3"
  },
  "language_info": {
   "codemirror_mode": {
    "name": "ipython",
    "version": 3
   },
   "file_extension": ".py",
   "mimetype": "text/x-python",
   "name": "python",
   "nbconvert_exporter": "python",
   "pygments_lexer": "ipython3",
   "version": "3.9.13"
  },
  "orig_nbformat": 4
 },
 "nbformat": 4,
 "nbformat_minor": 2
}
