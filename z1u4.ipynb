{
 "cells": [
  {
   "cell_type": "code",
   "execution_count": 3,
   "metadata": {},
   "outputs": [],
   "source": [
    "import torch\n",
    "from torch import nn\n",
    "from torch.utils.data import DataLoader\n",
    "from torchvision import datasets\n",
    "from torchvision.transforms import ToTensor\n",
    "import pandas as pd\n",
    "import numpy as np\n",
    "import matplotlib.pyplot as plt\n",
    "import scipy.io\n",
    "import torch.nn.functional as F"
   ]
  },
  {
   "cell_type": "code",
   "execution_count": 4,
   "metadata": {},
   "outputs": [
    {
     "name": "stdout",
     "output_type": "stream",
     "text": [
      "Using cuda device\n"
     ]
    }
   ],
   "source": [
    "device = (\n",
    "    \"cuda\"\n",
    "    if torch.cuda.is_available()\n",
    "    else \"mps\"\n",
    "    if torch.backends.mps.is_available()\n",
    "    else \"cpu\"\n",
    ")\n",
    "print(f\"Using {device} device\")\n"
   ]
  },
  {
   "cell_type": "code",
   "execution_count": null,
   "metadata": {},
   "outputs": [],
   "source": []
  },
  {
   "cell_type": "code",
   "execution_count": 5,
   "metadata": {},
   "outputs": [
    {
     "data": {
      "text/plain": [
       "dict_keys(['__header__', '__version__', '__globals__', 'images', 'labels'])"
      ]
     },
     "execution_count": 5,
     "metadata": {},
     "output_type": "execute_result"
    }
   ],
   "source": [
    "mat = scipy.io.loadmat('notMNIST_small.mat')\n",
    "mat.keys()\n"
   ]
  },
  {
   "cell_type": "code",
   "execution_count": 6,
   "metadata": {},
   "outputs": [
    {
     "data": {
      "image/png": "[encoded data removed]",
      "text/plain": [
       "<Figure size 640x480 with 1 Axes>"
      ]
     },
     "metadata": {},
     "output_type": "display_data"
    }
   ],
   "source": [
    "mat['images'].shape\n",
    "\n",
    "plt.imshow(mat['images'][:, :, 1], cmap='gray')\n",
    "plt.axis('off')\n",
    "plt.show()"
   ]
  },
  {
   "cell_type": "code",
   "execution_count": 7,
   "metadata": {},
   "outputs": [
    {
     "data": {
      "image/png": "[encoded data removed]",
      "text/plain": [
       "<Figure size 640x480 with 1 Axes>"
      ]
     },
     "metadata": {},
     "output_type": "display_data"
    },
    {
     "data": {
      "text/plain": [
       "(18724, 28, 28)"
      ]
     },
     "execution_count": 7,
     "metadata": {},
     "output_type": "execute_result"
    }
   ],
   "source": [
    "new_img = np.random.rand(18724, 28, 28)\n",
    "for index in range(mat['images'].shape[2]):\n",
    "    new_img[index] = mat['images'][:,:,index]\n",
    "\n",
    "plt.imshow(new_img[1, :, :], cmap='gray')\n",
    "plt.axis('off')\n",
    "plt.show()\n",
    "\n",
    "new_img.shape"
   ]
  },
  {
   "cell_type": "code",
   "execution_count": 8,
   "metadata": {},
   "outputs": [],
   "source": [
    "indices = np.arange(18724)\n",
    "np.random.shuffle(indices)\n",
    "labels = np.array(mat['labels'])\n",
    "\n",
    "\n",
    "shuffled_images = new_img[indices]\n",
    "shuffled_labels = labels[indices]"
   ]
  },
  {
   "cell_type": "code",
   "execution_count": 9,
   "metadata": {},
   "outputs": [
    {
     "data": {
      "text/plain": [
       "(11234, 28, 28)"
      ]
     },
     "execution_count": 9,
     "metadata": {},
     "output_type": "execute_result"
    }
   ],
   "source": [
    "x_train_img = np.array(shuffled_images[0:11234, :,:])\n",
    "x_test_img = np.array(shuffled_images[11235:18724, :,:])\n",
    "y_train_label = np.array(shuffled_labels[0:11234])\n",
    "y_test_label =np.array(shuffled_labels[11235:18724])\n",
    "\n",
    "x_train_img.shape"
   ]
  },
  {
   "cell_type": "code",
   "execution_count": null,
   "metadata": {},
   "outputs": [],
   "source": []
  },
  {
   "cell_type": "code",
   "execution_count": 10,
   "metadata": {},
   "outputs": [],
   "source": [
    "import torch\n",
    "from torch.utils.data import Dataset\n",
    "\n",
    "class CustomDataset(Dataset):\n",
    "    def __init__(self, images, labels, transform=None):\n",
    "\n",
    "        self.images = images\n",
    "        self.labels = labels\n",
    "        self.transform = transform\n",
    "\n",
    "    def __len__(self):\n",
    "        return len(self.labels)\n",
    "\n",
    "    def __getitem__(self, idx):\n",
    "        image = self.images[idx]\n",
    "        label = self.labels[idx]\n",
    "\n",
    "        if self.transform:\n",
    "            image = self.transform(image)\n",
    "\n",
    " \n",
    "        image = torch.tensor(image, dtype=torch.float32)\n",
    "        label = torch.tensor(label, dtype=torch.long)\n",
    "\n",
    "        return image, label"
   ]
  },
  {
   "cell_type": "code",
   "execution_count": 11,
   "metadata": {},
   "outputs": [],
   "source": [
    "test_images = x_test_img\n",
    "test_labels = y_test_label\n",
    "\n",
    "test_dataset = CustomDataset(test_images, test_labels)\n",
    "\n",
    "test_loader = DataLoader(dataset=test_dataset, batch_size=32, shuffle=False)"
   ]
  },
  {
   "cell_type": "code",
   "execution_count": 12,
   "metadata": {},
   "outputs": [],
   "source": [
    "from torch.utils.data import DataLoader\n",
    "\n",
    "images = x_train_img\n",
    "labels = y_train_label\n",
    "\n",
    "custom_dataset = CustomDataset(images, labels)\n",
    "\n",
    "data_loader = DataLoader(dataset=custom_dataset, batch_size=32, shuffle=True)\n"
   ]
  },
  {
   "cell_type": "code",
   "execution_count": 13,
   "metadata": {},
   "outputs": [],
   "source": [
    "class SimpleCNN_x(nn.Module):\n",
    "    def __init__(self, num_classes=10):  \n",
    "        super(SimpleCNN_x, self).__init__()\n",
    "        self.conv1 = nn.Conv2d(in_channels=1, out_channels=32, kernel_size=3, stride=1, padding=1)\n",
    "        self.conv2 = nn.Conv2d(in_channels=32, out_channels=64, kernel_size=3, stride=1, padding=1)\n",
    "        self.conv3 = nn.Conv2d(in_channels=64, out_channels=64, kernel_size=3, stride=1, padding=1)\n",
    "        self.pool = nn.MaxPool2d(kernel_size=2, stride=2, padding=0)\n",
    "        self.fc1 = nn.Linear(3136, 128)  \n",
    "        self.fc2 = nn.Linear(128, num_classes)\n",
    "\n",
    "    def forward(self, x):\n",
    "        x1 = F.relu(self.conv1(x))\n",
    "        x2 = F.relu(self.conv2(x1))\n",
    "        x3 = self.pool(x2)\n",
    "        x4 = self.pool(F.relu(self.conv3(x3)))\n",
    "        x5 = x4.view(x4.size(0), -1)  \n",
    "        x6 = F.relu(self.fc1(x5))\n",
    "        out = self.fc2(x6)\n",
    "        return x1, x2, out\n"
   ]
  },
  {
   "cell_type": "code",
   "execution_count": 14,
   "metadata": {},
   "outputs": [
    {
     "name": "stderr",
     "output_type": "stream",
     "text": [
      "C:\\Users\\denis\\AppData\\Local\\Temp\\ipykernel_6496\\691292828.py:23: DeprecationWarning: an integer is required (got type numpy.float64).  Implicit conversion to integers using __int__ is deprecated, and may be removed in a future version of Python.\n",
      "  label = torch.tensor(label, dtype=torch.long)\n"
     ]
    },
    {
     "name": "stdout",
     "output_type": "stream",
     "text": [
      "Epoch 1/25, Step 100/352, Loss: 0.60019\n",
      "Epoch 1/25, Step 200/352, Loss: 0.14417\n",
      "Epoch 1/25, Step 300/352, Loss: 0.10192\n",
      "Epoch 2/25, Step 100/352, Loss: 0.25160\n",
      "Epoch 2/25, Step 200/352, Loss: 0.27835\n",
      "Epoch 2/25, Step 300/352, Loss: 0.23737\n",
      "Epoch 3/25, Step 100/352, Loss: 0.12718\n",
      "Epoch 3/25, Step 200/352, Loss: 0.01781\n",
      "Epoch 3/25, Step 300/352, Loss: 0.11598\n",
      "Epoch 4/25, Step 100/352, Loss: 0.15417\n",
      "Epoch 4/25, Step 200/352, Loss: 0.13188\n",
      "Epoch 4/25, Step 300/352, Loss: 0.03955\n",
      "Epoch 5/25, Step 100/352, Loss: 0.09154\n",
      "Epoch 5/25, Step 200/352, Loss: 0.13370\n",
      "Epoch 5/25, Step 300/352, Loss: 0.01866\n",
      "Epoch 6/25, Step 100/352, Loss: 0.10182\n",
      "Epoch 6/25, Step 200/352, Loss: 0.06388\n",
      "Epoch 6/25, Step 300/352, Loss: 0.03583\n",
      "Epoch 7/25, Step 100/352, Loss: 0.03173\n",
      "Epoch 7/25, Step 200/352, Loss: 0.00469\n",
      "Epoch 7/25, Step 300/352, Loss: 0.01000\n",
      "Epoch 8/25, Step 100/352, Loss: 0.00218\n",
      "Epoch 8/25, Step 200/352, Loss: 0.03228\n",
      "Epoch 8/25, Step 300/352, Loss: 0.00132\n",
      "Epoch 9/25, Step 100/352, Loss: 0.02148\n",
      "Epoch 9/25, Step 200/352, Loss: 0.08873\n",
      "Epoch 9/25, Step 300/352, Loss: 0.00759\n",
      "Epoch 10/25, Step 100/352, Loss: 0.00500\n",
      "Epoch 10/25, Step 200/352, Loss: 0.19894\n",
      "Epoch 10/25, Step 300/352, Loss: 0.01974\n",
      "Epoch 11/25, Step 100/352, Loss: 0.00177\n",
      "Epoch 11/25, Step 200/352, Loss: 0.08837\n",
      "Epoch 11/25, Step 300/352, Loss: 0.00517\n",
      "Epoch 12/25, Step 100/352, Loss: 0.00006\n",
      "Epoch 12/25, Step 200/352, Loss: 0.03565\n",
      "Epoch 12/25, Step 300/352, Loss: 0.00127\n",
      "Epoch 13/25, Step 100/352, Loss: 0.00039\n",
      "Epoch 13/25, Step 200/352, Loss: 0.00035\n",
      "Epoch 13/25, Step 300/352, Loss: 0.00407\n",
      "Epoch 14/25, Step 100/352, Loss: 0.00145\n",
      "Epoch 14/25, Step 200/352, Loss: 0.00140\n",
      "Epoch 14/25, Step 300/352, Loss: 0.09863\n",
      "Epoch 15/25, Step 100/352, Loss: 0.00123\n",
      "Epoch 15/25, Step 200/352, Loss: 0.00484\n",
      "Epoch 15/25, Step 300/352, Loss: 0.00457\n",
      "Epoch 16/25, Step 100/352, Loss: 0.00254\n",
      "Epoch 16/25, Step 200/352, Loss: 0.00087\n",
      "Epoch 16/25, Step 300/352, Loss: 0.29049\n",
      "Epoch 17/25, Step 100/352, Loss: 0.00358\n",
      "Epoch 17/25, Step 200/352, Loss: 0.00154\n",
      "Epoch 17/25, Step 300/352, Loss: 0.00018\n",
      "Epoch 18/25, Step 100/352, Loss: 0.00012\n",
      "Epoch 18/25, Step 200/352, Loss: 0.03371\n",
      "Epoch 18/25, Step 300/352, Loss: 0.01228\n",
      "Epoch 19/25, Step 100/352, Loss: 0.00014\n",
      "Epoch 19/25, Step 200/352, Loss: 0.00056\n",
      "Epoch 19/25, Step 300/352, Loss: 0.19572\n",
      "Epoch 20/25, Step 100/352, Loss: 0.03209\n",
      "Epoch 20/25, Step 200/352, Loss: 0.05225\n",
      "Epoch 20/25, Step 300/352, Loss: 0.00127\n",
      "Epoch 21/25, Step 100/352, Loss: 0.00032\n",
      "Epoch 21/25, Step 200/352, Loss: 0.01737\n",
      "Epoch 21/25, Step 300/352, Loss: 0.25517\n",
      "Epoch 22/25, Step 100/352, Loss: 0.00092\n",
      "Epoch 22/25, Step 200/352, Loss: 0.01151\n",
      "Epoch 22/25, Step 300/352, Loss: 0.00004\n",
      "Epoch 23/25, Step 100/352, Loss: 0.00001\n",
      "Epoch 23/25, Step 200/352, Loss: 0.00235\n",
      "Epoch 23/25, Step 300/352, Loss: 0.00007\n",
      "Epoch 24/25, Step 100/352, Loss: 0.00265\n",
      "Epoch 24/25, Step 200/352, Loss: 0.09908\n",
      "Epoch 24/25, Step 300/352, Loss: 0.00008\n",
      "Epoch 25/25, Step 100/352, Loss: 0.00000\n",
      "Epoch 25/25, Step 200/352, Loss: 0.00115\n",
      "Epoch 25/25, Step 300/352, Loss: 0.01015\n"
     ]
    },
    {
     "data": {
      "image/png": "[encoded data removed]",
      "text/plain": [
       "<Figure size 640x480 with 1 Axes>"
      ]
     },
     "metadata": {},
     "output_type": "display_data"
    }
   ],
   "source": [
    "mdlx = SimpleCNN_x(num_classes=10) \n",
    "criterion = nn.CrossEntropyLoss()  \n",
    "optimizer = torch.optim.Adam(mdlx.parameters(), lr=0.001) \n",
    "\n",
    "mdlx = mdlx.to(device)\n",
    "\n",
    "num_epochs = 25  \n",
    "epoch_losses = []\n",
    "\n",
    "for epoch in range(num_epochs):\n",
    "    epoch_loss = 0\n",
    "    num_batches = 0\n",
    "\n",
    "    for i, (images, labels) in enumerate(data_loader):\n",
    "        images, labels = images.to(device), labels.to(device)\n",
    "        images = images.unsqueeze(1)\n",
    "        \n",
    "        x1, x2, outputs = mdlx(images)\n",
    "        loss = criterion(outputs, labels)\n",
    "\n",
    "        optimizer.zero_grad()\n",
    "        loss.backward()\n",
    "        optimizer.step()\n",
    "        epoch_loss += loss.item()\n",
    "        num_batches += 1\n",
    "\n",
    "        if (i+1) % 100 == 0:\n",
    "            print(f'Epoch {epoch+1}/{num_epochs}, Step {i+1}/{len(data_loader)}, Loss: {loss.item():.5f}')\n",
    "\n",
    "    epoch_loss /= num_batches\n",
    "    epoch_losses.append(epoch_loss)\n",
    "\n",
    "plt.plot(epoch_losses)\n",
    "plt.ylabel('Average Epoch Loss')\n",
    "plt.xlabel('Epoch')\n",
    "plt.title('Loss over Epochs')\n",
    "plt.show()\n"
   ]
  },
  {
   "cell_type": "code",
   "execution_count": 15,
   "metadata": {},
   "outputs": [
    {
     "name": "stderr",
     "output_type": "stream",
     "text": [
      "C:\\Users\\denis\\AppData\\Local\\Temp\\ipykernel_6496\\691292828.py:23: DeprecationWarning: an integer is required (got type numpy.float64).  Implicit conversion to integers using __int__ is deprecated, and may be removed in a future version of Python.\n",
      "  label = torch.tensor(label, dtype=torch.long)\n"
     ]
    },
    {
     "name": "stdout",
     "output_type": "stream",
     "text": [
      "Accuracy: 93.56%\n"
     ]
    }
   ],
   "source": [
    "def test_model_x(mdlx, test_loader):\n",
    "    mdlx = mdlx.to(device)\n",
    "    \n",
    "    mdlx.eval() \n",
    "    correct = 0\n",
    "    total = 0\n",
    "    with torch.no_grad():  \n",
    "        for images, labels in test_loader:\n",
    "            images, labels = images.to(device), labels.to(device)\n",
    "            \n",
    "            images = images.unsqueeze(1)  \n",
    "            x1, x2, outputs = mdlx(images)\n",
    "            _, predicted = torch.max(outputs.data, 1)  \n",
    "            total += labels.size(0)\n",
    "            correct += (predicted == labels).sum().item()\n",
    "\n",
    "    accuracy = 100 * correct / total\n",
    "    print(f'Accuracy: {accuracy:.2f}%')\n",
    "\n",
    "\n",
    "test_model_x(mdlx, test_loader)"
   ]
  },
  {
   "cell_type": "code",
   "execution_count": null,
   "metadata": {},
   "outputs": [],
   "source": []
  },
  {
   "cell_type": "code",
   "execution_count": 16,
   "metadata": {},
   "outputs": [
    {
     "name": "stderr",
     "output_type": "stream",
     "text": [
      "C:\\Users\\denis\\AppData\\Local\\Temp\\ipykernel_6496\\691292828.py:23: DeprecationWarning: an integer is required (got type numpy.float64).  Implicit conversion to integers using __int__ is deprecated, and may be removed in a future version of Python.\n",
      "  label = torch.tensor(label, dtype=torch.long)\n"
     ]
    },
    {
     "name": "stdout",
     "output_type": "stream",
     "text": [
      "Epoch 1/25, Step 100/352, Loss: 0.28595\n",
      "Epoch 1/25, Step 200/352, Loss: 0.24470\n",
      "Epoch 1/25, Step 300/352, Loss: 0.60416\n",
      "Epoch 2/25, Step 100/352, Loss: 0.15631\n",
      "Epoch 2/25, Step 200/352, Loss: 0.27733\n",
      "Epoch 2/25, Step 300/352, Loss: 0.19851\n",
      "Epoch 3/25, Step 100/352, Loss: 0.20582\n",
      "Epoch 3/25, Step 200/352, Loss: 0.35576\n",
      "Epoch 3/25, Step 300/352, Loss: 0.03640\n",
      "Epoch 4/25, Step 100/352, Loss: 0.25989\n",
      "Epoch 4/25, Step 200/352, Loss: 0.22396\n",
      "Epoch 4/25, Step 300/352, Loss: 0.34295\n",
      "Epoch 5/25, Step 100/352, Loss: 0.15393\n",
      "Epoch 5/25, Step 200/352, Loss: 0.18203\n",
      "Epoch 5/25, Step 300/352, Loss: 0.04862\n",
      "Epoch 6/25, Step 100/352, Loss: 0.22270\n",
      "Epoch 6/25, Step 200/352, Loss: 0.06432\n",
      "Epoch 6/25, Step 300/352, Loss: 0.03033\n",
      "Epoch 7/25, Step 100/352, Loss: 0.00499\n",
      "Epoch 7/25, Step 200/352, Loss: 0.14644\n",
      "Epoch 7/25, Step 300/352, Loss: 0.08291\n",
      "Epoch 8/25, Step 100/352, Loss: 0.05532\n",
      "Epoch 8/25, Step 200/352, Loss: 0.09039\n",
      "Epoch 8/25, Step 300/352, Loss: 0.04781\n",
      "Epoch 9/25, Step 100/352, Loss: 0.01740\n",
      "Epoch 9/25, Step 200/352, Loss: 0.00280\n",
      "Epoch 9/25, Step 300/352, Loss: 0.01614\n",
      "Epoch 10/25, Step 100/352, Loss: 0.07182\n",
      "Epoch 10/25, Step 200/352, Loss: 0.00780\n",
      "Epoch 10/25, Step 300/352, Loss: 0.05282\n",
      "Epoch 11/25, Step 100/352, Loss: 0.00237\n",
      "Epoch 11/25, Step 200/352, Loss: 0.02258\n",
      "Epoch 11/25, Step 300/352, Loss: 0.02497\n",
      "Epoch 12/25, Step 100/352, Loss: 0.07803\n",
      "Epoch 12/25, Step 200/352, Loss: 0.03534\n",
      "Epoch 12/25, Step 300/352, Loss: 0.20724\n",
      "Epoch 13/25, Step 100/352, Loss: 0.00615\n",
      "Epoch 13/25, Step 200/352, Loss: 0.00190\n",
      "Epoch 13/25, Step 300/352, Loss: 0.00098\n",
      "Epoch 14/25, Step 100/352, Loss: 0.00126\n",
      "Epoch 14/25, Step 200/352, Loss: 0.01714\n",
      "Epoch 14/25, Step 300/352, Loss: 0.02663\n",
      "Epoch 15/25, Step 100/352, Loss: 0.02390\n",
      "Epoch 15/25, Step 200/352, Loss: 0.00053\n",
      "Epoch 15/25, Step 300/352, Loss: 0.01508\n",
      "Epoch 16/25, Step 100/352, Loss: 0.00415\n",
      "Epoch 16/25, Step 200/352, Loss: 0.00142\n",
      "Epoch 16/25, Step 300/352, Loss: 0.00122\n",
      "Epoch 17/25, Step 100/352, Loss: 0.00095\n",
      "Epoch 17/25, Step 200/352, Loss: 0.00577\n",
      "Epoch 17/25, Step 300/352, Loss: 0.00503\n",
      "Epoch 18/25, Step 100/352, Loss: 0.00110\n",
      "Epoch 18/25, Step 200/352, Loss: 0.00033\n",
      "Epoch 18/25, Step 300/352, Loss: 0.00051\n",
      "Epoch 19/25, Step 100/352, Loss: 0.00717\n",
      "Epoch 19/25, Step 200/352, Loss: 0.00159\n",
      "Epoch 19/25, Step 300/352, Loss: 0.00653\n",
      "Epoch 20/25, Step 100/352, Loss: 0.00403\n",
      "Epoch 20/25, Step 200/352, Loss: 0.00015\n",
      "Epoch 20/25, Step 300/352, Loss: 0.03154\n",
      "Epoch 21/25, Step 100/352, Loss: 0.00173\n",
      "Epoch 21/25, Step 200/352, Loss: 0.00069\n",
      "Epoch 21/25, Step 300/352, Loss: 0.01809\n",
      "Epoch 22/25, Step 100/352, Loss: 0.00115\n",
      "Epoch 22/25, Step 200/352, Loss: 0.00115\n",
      "Epoch 22/25, Step 300/352, Loss: 0.00036\n",
      "Epoch 23/25, Step 100/352, Loss: 0.00004\n",
      "Epoch 23/25, Step 200/352, Loss: 0.00123\n",
      "Epoch 23/25, Step 300/352, Loss: 0.00256\n",
      "Epoch 24/25, Step 100/352, Loss: 0.00032\n",
      "Epoch 24/25, Step 200/352, Loss: 0.00009\n",
      "Epoch 24/25, Step 300/352, Loss: 0.00019\n",
      "Epoch 25/25, Step 100/352, Loss: 0.00010\n",
      "Epoch 25/25, Step 200/352, Loss: 0.00032\n",
      "Epoch 25/25, Step 300/352, Loss: 0.00304\n"
     ]
    },
    {
     "data": {
      "image/png": "[encoded data removed]",
      "text/plain": [
       "<Figure size 640x480 with 1 Axes>"
      ]
     },
     "metadata": {},
     "output_type": "display_data"
    }
   ],
   "source": [
    "mdlx_2 = SimpleCNN_x(num_classes=10) \n",
    "criterion = nn.CrossEntropyLoss()  \n",
    "optimizer = torch.optim.SGD(mdlx_2.parameters(), lr=0.001, momentum=0.8)\n",
    "\n",
    "mdlx_2 = mdlx_2.to(device)\n",
    "\n",
    "num_epochs = 25  \n",
    "epoch_losses = []\n",
    "\n",
    "for epoch in range(num_epochs):\n",
    "    epoch_loss = 0\n",
    "    num_batches = 0\n",
    "\n",
    "    for i, (images, labels) in enumerate(data_loader):\n",
    "        images, labels = images.to(device), labels.to(device)\n",
    "        images = images.unsqueeze(1)\n",
    "        \n",
    "        x1, x2, outputs = mdlx_2(images)\n",
    "        loss = criterion(outputs, labels)\n",
    "\n",
    "        optimizer.zero_grad()\n",
    "        loss.backward()\n",
    "        optimizer.step()\n",
    "        epoch_loss += loss.item()\n",
    "        num_batches += 1\n",
    "\n",
    "        if (i+1) % 100 == 0:\n",
    "            print(f'Epoch {epoch+1}/{num_epochs}, Step {i+1}/{len(data_loader)}, Loss: {loss.item():.5f}')\n",
    "\n",
    "    epoch_loss /= num_batches\n",
    "    epoch_losses.append(epoch_loss)\n",
    "\n",
    "plt.plot(epoch_losses)\n",
    "plt.ylabel('Average Epoch Loss')\n",
    "plt.xlabel('Epoch')\n",
    "plt.title('Loss over Epochs')\n",
    "plt.show()\n"
   ]
  },
  {
   "cell_type": "code",
   "execution_count": 17,
   "metadata": {},
   "outputs": [
    {
     "name": "stderr",
     "output_type": "stream",
     "text": [
      "C:\\Users\\denis\\AppData\\Local\\Temp\\ipykernel_6496\\691292828.py:23: DeprecationWarning: an integer is required (got type numpy.float64).  Implicit conversion to integers using __int__ is deprecated, and may be removed in a future version of Python.\n",
      "  label = torch.tensor(label, dtype=torch.long)\n"
     ]
    },
    {
     "name": "stdout",
     "output_type": "stream",
     "text": [
      "Accuracy: 93.46%\n"
     ]
    }
   ],
   "source": [
    "def test_model_x(mdlx_2, test_loader):\n",
    "    mdlx_2 = mdlx_2.to(device)\n",
    "    \n",
    "    mdlx_2.eval() \n",
    "    correct = 0\n",
    "    total = 0\n",
    "    with torch.no_grad():  \n",
    "        for images, labels in test_loader:\n",
    "            images, labels = images.to(device), labels.to(device)\n",
    "            \n",
    "            images = images.unsqueeze(1)  \n",
    "            x1, x2, outputs = mdlx_2(images)\n",
    "            _, predicted = torch.max(outputs.data, 1)  \n",
    "            total += labels.size(0)\n",
    "            correct += (predicted == labels).sum().item()\n",
    "\n",
    "    accuracy = 100 * correct / total\n",
    "    print(f'Accuracy: {accuracy:.2f}%')\n",
    "\n",
    "\n",
    "test_model_x(mdlx_2, test_loader)"
   ]
  }
 ],
 "metadata": {
  "kernelspec": {
   "display_name": "base",
   "language": "python",
   "name": "python3"
  },
  "language_info": {
   "codemirror_mode": {
    "name": "ipython",
    "version": 3
   },
   "file_extension": ".py",
   "mimetype": "text/x-python",
   "name": "python",
   "nbconvert_exporter": "python",
   "pygments_lexer": "ipython3",
   "version": "3.9.13"
  },
  "orig_nbformat": 4
 },
 "nbformat": 4,
 "nbformat_minor": 2
}
