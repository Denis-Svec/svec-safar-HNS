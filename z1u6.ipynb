{
 "cells": [
  {
   "cell_type": "code",
   "execution_count": 84,
   "metadata": {},
   "outputs": [],
   "source": [
    "import torch\n",
    "from torch import nn\n",
    "from torch.utils.data import DataLoader\n",
    "from torchvision import datasets\n",
    "from torchvision.transforms import ToTensor\n",
    "import pandas as pd\n",
    "import numpy as np\n",
    "import matplotlib.pyplot as plt\n",
    "import scipy.io\n",
    "import torch.nn.functional as F"
   ]
  },
  {
   "cell_type": "code",
   "execution_count": 85,
   "metadata": {},
   "outputs": [
    {
     "name": "stdout",
     "output_type": "stream",
     "text": [
      "Using cuda device\n"
     ]
    }
   ],
   "source": [
    "device = (\n",
    "    \"cuda\"\n",
    "    if torch.cuda.is_available()\n",
    "    else \"mps\"\n",
    "    if torch.backends.mps.is_available()\n",
    "    else \"cpu\"\n",
    ")\n",
    "print(f\"Using {device} device\")\n",
    "torch.cuda.empty_cache()"
   ]
  },
  {
   "cell_type": "code",
   "execution_count": 86,
   "metadata": {},
   "outputs": [
    {
     "data": {
      "text/plain": [
       "4121"
      ]
     },
     "execution_count": 86,
     "metadata": {},
     "output_type": "execute_result"
    }
   ],
   "source": [
    "import gc\n",
    "gc.collect()"
   ]
  },
  {
   "cell_type": "code",
   "execution_count": 87,
   "metadata": {},
   "outputs": [
    {
     "name": "stdout",
     "output_type": "stream",
     "text": [
      "Total memory allocated: 0.100354048 GB\n",
      "Total memory cached   : 0.159383552 GB\n"
     ]
    }
   ],
   "source": [
    "print(\"Total memory allocated:\", torch.cuda.memory_allocated(device) / 1e9, \"GB\")\n",
    "print(\"Total memory cached   :\", torch.cuda.memory_cached(device) / 1e9, \"GB\")"
   ]
  },
  {
   "cell_type": "code",
   "execution_count": 88,
   "metadata": {},
   "outputs": [
    {
     "data": {
      "text/plain": [
       "dict_keys(['__header__', '__version__', '__globals__', 'images', 'labels'])"
      ]
     },
     "execution_count": 88,
     "metadata": {},
     "output_type": "execute_result"
    }
   ],
   "source": [
    "mat = scipy.io.loadmat('notMNIST_small.mat')\n",
    "mat.keys()\n"
   ]
  },
  {
   "cell_type": "code",
   "execution_count": 89,
   "metadata": {},
   "outputs": [
    {
     "data": {
      "image/png": "[encoded data removed]",
      "text/plain": [
       "<Figure size 640x480 with 1 Axes>"
      ]
     },
     "metadata": {},
     "output_type": "display_data"
    }
   ],
   "source": [
    "mat['images'].shape\n",
    "\n",
    "plt.imshow(mat['images'][:, :, 1], cmap='gray')\n",
    "plt.axis('off')\n",
    "plt.show()"
   ]
  },
  {
   "cell_type": "code",
   "execution_count": 90,
   "metadata": {},
   "outputs": [
    {
     "data": {
      "image/png": "[encoded data removed]",
      "text/plain": [
       "<Figure size 640x480 with 1 Axes>"
      ]
     },
     "metadata": {},
     "output_type": "display_data"
    },
    {
     "data": {
      "text/plain": [
       "(18724, 28, 28)"
      ]
     },
     "execution_count": 90,
     "metadata": {},
     "output_type": "execute_result"
    }
   ],
   "source": [
    "new_img = np.random.rand(18724, 28, 28)\n",
    "for index in range(mat['images'].shape[2]):\n",
    "    new_img[index] = mat['images'][:,:,index]\n",
    "\n",
    "plt.imshow(new_img[1, :, :], cmap='gray')\n",
    "plt.axis('off')\n",
    "plt.show()\n",
    "\n",
    "new_img.shape"
   ]
  },
  {
   "cell_type": "code",
   "execution_count": 91,
   "metadata": {},
   "outputs": [],
   "source": [
    "indices = np.arange(18724)\n",
    "np.random.shuffle(indices)\n",
    "labels = np.array(mat['labels'])\n",
    "\n",
    "\n",
    "shuffled_images = new_img[indices]\n",
    "shuffled_labels = labels[indices]"
   ]
  },
  {
   "cell_type": "code",
   "execution_count": 92,
   "metadata": {},
   "outputs": [
    {
     "data": {
      "text/plain": [
       "(11234, 28, 28)"
      ]
     },
     "execution_count": 92,
     "metadata": {},
     "output_type": "execute_result"
    }
   ],
   "source": [
    "x_train_img = np.array(shuffled_images[0:11234, :,:])\n",
    "x_test_img = np.array(shuffled_images[11235:18724, :,:])\n",
    "y_train_label = np.array(shuffled_labels[0:11234])\n",
    "y_test_label =np.array(shuffled_labels[11235:18724])\n",
    "\n",
    "x_train_img.shape"
   ]
  },
  {
   "cell_type": "code",
   "execution_count": null,
   "metadata": {},
   "outputs": [],
   "source": []
  },
  {
   "cell_type": "code",
   "execution_count": 93,
   "metadata": {},
   "outputs": [],
   "source": [
    "import torch\n",
    "from torch.utils.data import Dataset\n",
    "\n",
    "class CustomDataset(Dataset):\n",
    "    def __init__(self, images, labels, transform=None):\n",
    "\n",
    "        self.images = images\n",
    "        self.labels = labels\n",
    "        self.transform = transform\n",
    "\n",
    "    def __len__(self):\n",
    "        return len(self.labels)\n",
    "\n",
    "    def __getitem__(self, idx):\n",
    "        image = self.images[idx]\n",
    "        label = self.labels[idx]\n",
    "\n",
    "        if self.transform:\n",
    "            image = self.transform(image)\n",
    "\n",
    " \n",
    "        image = torch.tensor(image, dtype=torch.float32)\n",
    "        label = torch.tensor(label, dtype=torch.long)\n",
    "\n",
    "        return image, label"
   ]
  },
  {
   "cell_type": "code",
   "execution_count": 94,
   "metadata": {},
   "outputs": [],
   "source": [
    "test_images = x_test_img\n",
    "test_labels = y_test_label\n",
    "\n",
    "test_dataset = CustomDataset(test_images, test_labels)\n",
    "\n",
    "test_loader = DataLoader(dataset=test_dataset, shuffle=False)"
   ]
  },
  {
   "cell_type": "code",
   "execution_count": 95,
   "metadata": {},
   "outputs": [],
   "source": [
    "from torch.utils.data import DataLoader\n",
    "\n",
    "images = x_train_img\n",
    "labels = y_train_label\n",
    "\n",
    "custom_dataset = CustomDataset(images, labels)\n",
    "\n",
    "data_loader = DataLoader(dataset=custom_dataset, batch_size=32, shuffle=True)\n"
   ]
  },
  {
   "cell_type": "code",
   "execution_count": 96,
   "metadata": {},
   "outputs": [],
   "source": [
    "def normalized_tanh(x):\n",
    "    return (torch.tanh(x) + 1) / 2"
   ]
  },
  {
   "cell_type": "code",
   "execution_count": 97,
   "metadata": {},
   "outputs": [],
   "source": [
    "class SimpleCNN_x(nn.Module):\n",
    "    def __init__(self, num_classes=10):  \n",
    "        super(SimpleCNN_x, self).__init__()\n",
    "        self.conv1 = nn.Conv2d(in_channels=1, out_channels=32, kernel_size=3, stride=1, padding=1)\n",
    "        self.conv2 = nn.Conv2d(in_channels=32, out_channels=64, kernel_size=3, stride=1, padding=1)\n",
    "        self.conv3 = nn.Conv2d(in_channels=64, out_channels=128, kernel_size=3, stride=1, padding=1)\n",
    "        self.pool = nn.MaxPool2d(kernel_size=2, stride=2, padding=0)\n",
    "        self.dropout = nn.Dropout2d(p=0.2)\n",
    "        self.fc1 = nn.Linear(5760, 1024)\n",
    "        #self.fc3 = nn.Linear(1024*8, 1024)  # This might need adjustment\n",
    "        self.fc2 = nn.Linear(1024, num_classes)\n",
    "\n",
    "    def forward(self, x):\n",
    "\n",
    "        x1 = self.pool(F.leaky_relu(self.conv1(x)))\n",
    "        x2 = F.leaky_relu(self.conv2(x1))\n",
    "        x3 = self.pool(x2)\n",
    "        x4 = self.pool(F.leaky_relu(self.conv3(x3)))\n",
    "        x5 = x4.view(x4.size(0), -1)\n",
    "        xx = torch.cat([x5, torch.sin(x5)\n",
    "        , torch.cos(x5), torch.sin(2 * x5), torch.cos(2 * x5)], dim=1)\n",
    "\n",
    "        xx = self.dropout(xx)\n",
    "        x6 = F.leaky_relu(self.fc1(xx))\n",
    "        x6 = self.dropout(x6)\n",
    "        out = self.fc2(x6)\n",
    "        \n",
    "        return x1, x2, out"
   ]
  },
  {
   "cell_type": "code",
   "execution_count": 98,
   "metadata": {},
   "outputs": [],
   "source": [
    "# class SimpleCNN_x(nn.Module):\n",
    "#     def __init__(self, num_classes=10):  \n",
    "#         super(SimpleCNN_x, self).__init__()\n",
    "#         self.conv1 = nn.Conv2d(in_channels=1, out_channels=32, kernel_size=3, stride=1, padding=1)\n",
    "#         self.conv2 = nn.Conv2d(in_channels=32, out_channels=64, kernel_size=3, stride=1, padding=1)\n",
    "#         #self.conv3 = nn.Conv2d(in_channels=64, out_channels=128, kernel_size=3, stride=1, padding=1)\n",
    "#         self.pool = nn.MaxPool2d(kernel_size=2, stride=2, padding=0)\n",
    "#         self.dropout = nn.Dropout2d(p=0.2)\n",
    "#         self.fc1 = nn.Linear(15680, 1024)\n",
    "#         #self.fc3 = nn.Linear(1024*8, 1024)  # This might need adjustment\n",
    "#         self.fc2 = nn.Linear(1024, num_classes)\n",
    "\n",
    "#     def forward(self, x):\n",
    "\n",
    "#         x1 = self.pool(F.leaky_relu(self.conv1(x)))\n",
    "#         x2 = F.leaky_relu(self.conv2(x1))\n",
    "#         x3 = self.pool(x2)\n",
    "    \n",
    "#         #x4 = self.pool(F.leaky_relu(self.conv3(x3)))\n",
    "    \n",
    "#        #x4 = self.dropout(x4)\n",
    "               \n",
    "#         x5 = x3.view(x3.size(0), -1)\n",
    "#         xx = torch.cat([x5, torch.sin(x5)\n",
    "#         , torch.cos(x5), torch.sin(2 * x5), torch.cos(2 * x5)], dim=1)\n",
    "\n",
    "#         xx = self.dropout(xx)\n",
    "#         x6 = F.leaky_relu(self.fc1(xx))\n",
    "#         x6 = self.dropout(x6)\n",
    "#         out = self.fc2(x6)\n",
    "        \n",
    "#         return x1, x2, out"
   ]
  },
  {
   "cell_type": "code",
   "execution_count": 99,
   "metadata": {},
   "outputs": [],
   "source": [
    "# mdlx = SimpleCNN_x(num_classes=10) \n",
    "# criterion = nn.CrossEntropyLoss()  \n",
    "# optimizer = torch.optim.SGD(mdlx.parameters(), lr=0.001, momentum=0.8)\n",
    "\n",
    "# mdlx = mdlx.to(device)\n",
    "\n",
    "# num_epochs = 30  \n",
    "# epoch_losses = []\n",
    "\n",
    "# for epoch in range(num_epochs):\n",
    "#     epoch_loss = 0\n",
    "#     num_batches = 0\n",
    "\n",
    "#     for i, (images, labels) in enumerate(data_loader):\n",
    "#         images, labels = images.to(device), labels.to(device)\n",
    "#         images = images.unsqueeze(1)\n",
    "        \n",
    "#         x1, x2, outputs = mdlx(images)\n",
    "#         loss = criterion(outputs, labels)\n",
    "\n",
    "#         optimizer.zero_grad()\n",
    "#         loss.backward()\n",
    "#         optimizer.step()\n",
    "#         epoch_loss += loss.item()\n",
    "#         num_batches += 1\n",
    "\n",
    "#         if (i+1) % 100 == 0:\n",
    "#             print(f'Epoch {epoch+1}/{num_epochs}, Step {i+1}/{len(data_loader)}, Loss: {loss.item():.5f}')\n",
    "\n",
    "#     epoch_loss /= num_batches\n",
    "#     epoch_losses.append(epoch_loss)\n",
    "\n",
    "# plt.plot(epoch_losses)\n",
    "# plt.ylabel('Average Epoch Loss')\n",
    "# plt.xlabel('Epoch')\n",
    "# plt.title('Loss over Epochs')\n",
    "# plt.show()\n"
   ]
  },
  {
   "cell_type": "code",
   "execution_count": 100,
   "metadata": {},
   "outputs": [],
   "source": [
    "# def test_model_x(mdlx, test_loader):\n",
    "#     mdlx = mdlx.to(device)\n",
    "    \n",
    "#     mdlx.eval() \n",
    "#     correct = 0\n",
    "#     total = 0\n",
    "\n",
    "#     for images, labels in test_loader:\n",
    "#         images, labels = images.to(device), labels.to(device)\n",
    "        \n",
    "#         images = images.unsqueeze(1)  \n",
    "#         x1, x2, outputs = mdlx(images)\n",
    "#         _, predicted = torch.max(outputs.data, 1)  \n",
    "#         total += labels.size(0)\n",
    "#         correct += (predicted == labels).sum().item()\n",
    "\n",
    "#     accuracy = 100 * correct / total\n",
    "#     print(f'Accuracy: {accuracy:.2f}%')\n",
    "\n",
    "\n",
    "# test_model_x(mdlx, test_loader)"
   ]
  },
  {
   "cell_type": "code",
   "execution_count": 101,
   "metadata": {},
   "outputs": [
    {
     "data": {
      "text/plain": [
       "(14979, 28, 28)"
      ]
     },
     "execution_count": 101,
     "metadata": {},
     "output_type": "execute_result"
    }
   ],
   "source": [
    "x_train_img = np.array(shuffled_images[0:14979, :,:])\n",
    "x_test_img = np.array(shuffled_images[14980:18724, :,:])\n",
    "y_train_label = np.array(shuffled_labels[0:14979])\n",
    "y_test_label =np.array(shuffled_labels[14980:18724])\n",
    "\n",
    "x_train_img.shape"
   ]
  },
  {
   "cell_type": "code",
   "execution_count": 102,
   "metadata": {},
   "outputs": [],
   "source": [
    "test_images = x_test_img\n",
    "test_labels = y_test_label\n",
    "\n",
    "test_dataset = CustomDataset(test_images, test_labels)\n",
    "\n",
    "test_loader = DataLoader(dataset=test_dataset, batch_size=32, shuffle=False)\n",
    "\n",
    "images = x_train_img\n",
    "labels = y_train_label\n",
    "\n",
    "custom_dataset = CustomDataset(images, labels)\n",
    "\n",
    "data_loader = DataLoader(dataset=custom_dataset, batch_size=32, shuffle=True)"
   ]
  },
  {
   "cell_type": "code",
   "execution_count": 103,
   "metadata": {},
   "outputs": [
    {
     "name": "stderr",
     "output_type": "stream",
     "text": [
      "C:\\Users\\denis\\AppData\\Local\\Temp\\ipykernel_13244\\691292828.py:23: DeprecationWarning: an integer is required (got type numpy.float64).  Implicit conversion to integers using __int__ is deprecated, and may be removed in a future version of Python.\n",
      "  label = torch.tensor(label, dtype=torch.long)\n"
     ]
    },
    {
     "name": "stdout",
     "output_type": "stream",
     "text": [
      "Epoch 1/25, Step 100/469, Loss: 0.33178\n",
      "Epoch 1/25, Step 200/469, Loss: 0.41886\n",
      "Epoch 1/25, Step 300/469, Loss: 0.44033\n",
      "Epoch 1/25, Step 400/469, Loss: 0.40325\n",
      "Epoch 2/25, Step 100/469, Loss: 0.25936\n",
      "Epoch 2/25, Step 200/469, Loss: 0.44721\n",
      "Epoch 2/25, Step 300/469, Loss: 0.18592\n",
      "Epoch 2/25, Step 400/469, Loss: 0.54879\n",
      "Epoch 3/25, Step 100/469, Loss: 0.03421\n",
      "Epoch 3/25, Step 200/469, Loss: 0.16137\n",
      "Epoch 3/25, Step 300/469, Loss: 0.25601\n",
      "Epoch 3/25, Step 400/469, Loss: 0.13617\n",
      "Epoch 4/25, Step 100/469, Loss: 0.13744\n",
      "Epoch 4/25, Step 200/469, Loss: 0.19431\n",
      "Epoch 4/25, Step 300/469, Loss: 0.32775\n",
      "Epoch 4/25, Step 400/469, Loss: 0.14916\n",
      "Epoch 5/25, Step 100/469, Loss: 0.42216\n",
      "Epoch 5/25, Step 200/469, Loss: 0.15832\n",
      "Epoch 5/25, Step 300/469, Loss: 0.26041\n",
      "Epoch 5/25, Step 400/469, Loss: 0.15689\n",
      "Epoch 6/25, Step 100/469, Loss: 0.10496\n",
      "Epoch 6/25, Step 200/469, Loss: 0.03574\n",
      "Epoch 6/25, Step 300/469, Loss: 0.19574\n",
      "Epoch 6/25, Step 400/469, Loss: 0.06749\n",
      "Epoch 7/25, Step 100/469, Loss: 0.17391\n",
      "Epoch 7/25, Step 200/469, Loss: 0.03305\n",
      "Epoch 7/25, Step 300/469, Loss: 0.32768\n",
      "Epoch 7/25, Step 400/469, Loss: 0.04743\n",
      "Epoch 8/25, Step 100/469, Loss: 0.02480\n",
      "Epoch 8/25, Step 200/469, Loss: 0.06014\n",
      "Epoch 8/25, Step 300/469, Loss: 0.07155\n",
      "Epoch 8/25, Step 400/469, Loss: 0.05088\n",
      "Epoch 9/25, Step 100/469, Loss: 0.01129\n",
      "Epoch 9/25, Step 200/469, Loss: 0.04122\n",
      "Epoch 9/25, Step 300/469, Loss: 0.27612\n",
      "Epoch 9/25, Step 400/469, Loss: 0.08545\n",
      "Epoch 10/25, Step 100/469, Loss: 0.03726\n",
      "Epoch 10/25, Step 200/469, Loss: 0.26567\n",
      "Epoch 10/25, Step 300/469, Loss: 0.08164\n",
      "Epoch 10/25, Step 400/469, Loss: 0.05934\n",
      "Epoch 11/25, Step 100/469, Loss: 0.00837\n",
      "Epoch 11/25, Step 200/469, Loss: 0.07491\n",
      "Epoch 11/25, Step 300/469, Loss: 0.05082\n",
      "Epoch 11/25, Step 400/469, Loss: 0.04719\n",
      "Epoch 12/25, Step 100/469, Loss: 0.10221\n",
      "Epoch 12/25, Step 200/469, Loss: 0.00929\n",
      "Epoch 12/25, Step 300/469, Loss: 0.01700\n",
      "Epoch 12/25, Step 400/469, Loss: 0.13923\n",
      "Epoch 13/25, Step 100/469, Loss: 0.03029\n",
      "Epoch 13/25, Step 200/469, Loss: 0.05134\n",
      "Epoch 13/25, Step 300/469, Loss: 0.04625\n",
      "Epoch 13/25, Step 400/469, Loss: 0.00186\n",
      "Epoch 14/25, Step 100/469, Loss: 0.03996\n",
      "Epoch 14/25, Step 200/469, Loss: 0.00492\n",
      "Epoch 14/25, Step 300/469, Loss: 0.13588\n",
      "Epoch 14/25, Step 400/469, Loss: 0.00506\n",
      "Epoch 15/25, Step 100/469, Loss: 0.01324\n",
      "Epoch 15/25, Step 200/469, Loss: 0.00912\n",
      "Epoch 15/25, Step 300/469, Loss: 0.12016\n",
      "Epoch 15/25, Step 400/469, Loss: 0.12479\n",
      "Epoch 16/25, Step 100/469, Loss: 0.01797\n",
      "Epoch 16/25, Step 200/469, Loss: 0.00676\n",
      "Epoch 16/25, Step 300/469, Loss: 0.05389\n",
      "Epoch 16/25, Step 400/469, Loss: 0.09263\n",
      "Epoch 17/25, Step 100/469, Loss: 0.12049\n",
      "Epoch 17/25, Step 200/469, Loss: 0.00465\n",
      "Epoch 17/25, Step 300/469, Loss: 0.20582\n",
      "Epoch 17/25, Step 400/469, Loss: 0.01444\n",
      "Epoch 18/25, Step 100/469, Loss: 0.00344\n",
      "Epoch 18/25, Step 200/469, Loss: 0.15994\n",
      "Epoch 18/25, Step 300/469, Loss: 0.01012\n",
      "Epoch 18/25, Step 400/469, Loss: 0.03489\n",
      "Epoch 19/25, Step 100/469, Loss: 0.19845\n",
      "Epoch 19/25, Step 200/469, Loss: 0.04561\n",
      "Epoch 19/25, Step 300/469, Loss: 0.05614\n",
      "Epoch 19/25, Step 400/469, Loss: 0.12429\n",
      "Epoch 20/25, Step 100/469, Loss: 0.00262\n",
      "Epoch 20/25, Step 200/469, Loss: 0.02144\n",
      "Epoch 20/25, Step 300/469, Loss: 0.01016\n",
      "Epoch 20/25, Step 400/469, Loss: 0.04597\n",
      "Epoch 21/25, Step 100/469, Loss: 0.00044\n",
      "Epoch 21/25, Step 200/469, Loss: 0.02619\n",
      "Epoch 21/25, Step 300/469, Loss: 0.00206\n",
      "Epoch 21/25, Step 400/469, Loss: 0.01897\n",
      "Epoch 22/25, Step 100/469, Loss: 0.00090\n",
      "Epoch 22/25, Step 200/469, Loss: 0.01443\n",
      "Epoch 22/25, Step 300/469, Loss: 0.00055\n",
      "Epoch 22/25, Step 400/469, Loss: 0.00830\n",
      "Epoch 23/25, Step 100/469, Loss: 0.00691\n",
      "Epoch 23/25, Step 200/469, Loss: 0.00764\n",
      "Epoch 23/25, Step 300/469, Loss: 0.05728\n",
      "Epoch 23/25, Step 400/469, Loss: 0.00094\n",
      "Epoch 24/25, Step 100/469, Loss: 0.02987\n",
      "Epoch 24/25, Step 200/469, Loss: 0.04456\n",
      "Epoch 24/25, Step 300/469, Loss: 0.00265\n",
      "Epoch 24/25, Step 400/469, Loss: 0.01534\n",
      "Epoch 25/25, Step 100/469, Loss: 0.04084\n",
      "Epoch 25/25, Step 200/469, Loss: 0.12465\n",
      "Epoch 25/25, Step 300/469, Loss: 0.00140\n",
      "Epoch 25/25, Step 400/469, Loss: 0.00134\n"
     ]
    },
    {
     "data": {
      "image/png": "[encoded data removed]",
      "text/plain": [
       "<Figure size 640x480 with 1 Axes>"
      ]
     },
     "metadata": {},
     "output_type": "display_data"
    }
   ],
   "source": [
    "mdl2 = SimpleCNN_x(num_classes=10) \n",
    "criterion = nn.CrossEntropyLoss()  \n",
    "optimizer = torch.optim.SGD(mdl2.parameters(), lr=0.001, momentum=0.8)\n",
    "\n",
    "mdl2 = mdl2.to(device)\n",
    "\n",
    "num_epochs = 25  \n",
    "epoch_losses = []\n",
    "\n",
    "for epoch in range(num_epochs):\n",
    "    epoch_loss = 0\n",
    "    num_batches = 0\n",
    "\n",
    "    for i, (images, labels) in enumerate(data_loader):\n",
    "        # Move data to device\n",
    "        images = images.unsqueeze(1).to(device)\n",
    "        labels = labels.to(device)\n",
    "        \n",
    "        # Clear out previous gradients\n",
    "        optimizer.zero_grad()\n",
    "        \n",
    "        x1, x2, outputs = mdl2(images)\n",
    "        loss = criterion(outputs, labels)\n",
    "\n",
    "        # Backpropagation\n",
    "        loss.backward()\n",
    "        optimizer.step()\n",
    "        \n",
    "        # Update running epoch loss\n",
    "        epoch_loss += loss.item()\n",
    "        num_batches += 1\n",
    "\n",
    "        # Logging\n",
    "        if (i+1) % 100 == 0:\n",
    "            print(f'Epoch {epoch+1}/{num_epochs}, Step {i+1}/{len(data_loader)}, Loss: {loss.item():.5f}')\n",
    "\n",
    "        # Free up some memory after each iteration\n",
    "        del images, labels, outputs, x1, x2, loss\n",
    "        torch.cuda.empty_cache()\n",
    "\n",
    "    # Compute the average loss for this epoch\n",
    "    epoch_loss /= num_batches\n",
    "    epoch_losses.append(epoch_loss)\n",
    "\n",
    "# Plotting\n",
    "plt.plot(epoch_losses)\n",
    "plt.ylabel('Average Epoch Loss')\n",
    "plt.xlabel('Epoch')\n",
    "plt.title('Loss over Epochs')\n",
    "plt.show()\n",
    "\n"
   ]
  },
  {
   "cell_type": "code",
   "execution_count": 104,
   "metadata": {},
   "outputs": [
    {
     "name": "stderr",
     "output_type": "stream",
     "text": [
      "C:\\Users\\denis\\AppData\\Local\\Temp\\ipykernel_13244\\691292828.py:23: DeprecationWarning: an integer is required (got type numpy.float64).  Implicit conversion to integers using __int__ is deprecated, and may be removed in a future version of Python.\n",
      "  label = torch.tensor(label, dtype=torch.long)\n"
     ]
    },
    {
     "name": "stdout",
     "output_type": "stream",
     "text": [
      "Accuracy: 95.17%\n"
     ]
    }
   ],
   "source": [
    "def test_model_x(mdl2, test_loader):\n",
    "    mdl2 = mdl2.to(device)\n",
    "    \n",
    "    mdl2.eval() \n",
    "    correct = 0\n",
    "    total = 0\n",
    "   \n",
    "    for images, labels in test_loader:\n",
    "        images, labels = images.to(device), labels.to(device)\n",
    "        \n",
    "        images = images.unsqueeze(1)  \n",
    "        x1, x2, outputs = mdl2(images)\n",
    "        _, predicted = torch.max(outputs.data, 1)  \n",
    "        total += labels.size(0)\n",
    "        correct += (predicted == labels).sum().item()\n",
    "\n",
    "    accuracy = 100 * correct / total\n",
    "    print(f'Accuracy: {accuracy:.2f}%')\n",
    "\n",
    "\n",
    "test_model_x(mdl2, test_loader)"
   ]
  }
 ],
 "metadata": {
  "kernelspec": {
   "display_name": "base",
   "language": "python",
   "name": "python3"
  },
  "language_info": {
   "codemirror_mode": {
    "name": "ipython",
    "version": 3
   },
   "file_extension": ".py",
   "mimetype": "text/x-python",
   "name": "python",
   "nbconvert_exporter": "python",
   "pygments_lexer": "ipython3",
   "version": "3.9.13"
  },
  "orig_nbformat": 4
 },
 "nbformat": 4,
 "nbformat_minor": 2
}
