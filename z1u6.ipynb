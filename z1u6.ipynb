{
 "cells": [
  {
   "cell_type": "code",
   "execution_count": 1,
   "metadata": {},
   "outputs": [],
   "source": [
    "import torch\n",
    "from torch import nn\n",
    "from torch.utils.data import DataLoader\n",
    "from torchvision import datasets\n",
    "from torchvision.transforms import ToTensor\n",
    "import pandas as pd\n",
    "import numpy as np\n",
    "import matplotlib.pyplot as plt\n",
    "import scipy.io\n",
    "import torch.nn.functional as F"
   ]
  },
  {
   "cell_type": "code",
   "execution_count": 2,
   "metadata": {},
   "outputs": [
    {
     "name": "stdout",
     "output_type": "stream",
     "text": [
      "Using cuda device\n"
     ]
    }
   ],
   "source": [
    "device = (\n",
    "    \"cuda\"\n",
    "    if torch.cuda.is_available()\n",
    "    else \"mps\"\n",
    "    if torch.backends.mps.is_available()\n",
    "    else \"cpu\"\n",
    ")\n",
    "print(f\"Using {device} device\")\n"
   ]
  },
  {
   "cell_type": "code",
   "execution_count": null,
   "metadata": {},
   "outputs": [],
   "source": []
  },
  {
   "cell_type": "code",
   "execution_count": 3,
   "metadata": {},
   "outputs": [
    {
     "data": {
      "text/plain": [
       "dict_keys(['__header__', '__version__', '__globals__', 'images', 'labels'])"
      ]
     },
     "execution_count": 3,
     "metadata": {},
     "output_type": "execute_result"
    }
   ],
   "source": [
    "mat = scipy.io.loadmat('notMNIST_small.mat')\n",
    "mat.keys()\n"
   ]
  },
  {
   "cell_type": "code",
   "execution_count": 4,
   "metadata": {},
   "outputs": [
    {
     "data": {
      "image/png": "[encoded data removed]",
      "text/plain": [
       "<Figure size 640x480 with 1 Axes>"
      ]
     },
     "metadata": {},
     "output_type": "display_data"
    }
   ],
   "source": [
    "mat['images'].shape\n",
    "\n",
    "plt.imshow(mat['images'][:, :, 1], cmap='gray')\n",
    "plt.axis('off')\n",
    "plt.show()"
   ]
  },
  {
   "cell_type": "code",
   "execution_count": 5,
   "metadata": {},
   "outputs": [
    {
     "data": {
      "image/png": "[encoded data removed]",
      "text/plain": [
       "<Figure size 640x480 with 1 Axes>"
      ]
     },
     "metadata": {},
     "output_type": "display_data"
    },
    {
     "data": {
      "text/plain": [
       "(18724, 28, 28)"
      ]
     },
     "execution_count": 5,
     "metadata": {},
     "output_type": "execute_result"
    }
   ],
   "source": [
    "new_img = np.random.rand(18724, 28, 28)\n",
    "for index in range(mat['images'].shape[2]):\n",
    "    new_img[index] = mat['images'][:,:,index]\n",
    "\n",
    "plt.imshow(new_img[1, :, :], cmap='gray')\n",
    "plt.axis('off')\n",
    "plt.show()\n",
    "\n",
    "new_img.shape"
   ]
  },
  {
   "cell_type": "code",
   "execution_count": 6,
   "metadata": {},
   "outputs": [],
   "source": [
    "indices = np.arange(18724)\n",
    "np.random.shuffle(indices)\n",
    "labels = np.array(mat['labels'])\n",
    "\n",
    "\n",
    "shuffled_images = new_img[indices]\n",
    "shuffled_labels = labels[indices]"
   ]
  },
  {
   "cell_type": "code",
   "execution_count": 7,
   "metadata": {},
   "outputs": [
    {
     "data": {
      "text/plain": [
       "(11234, 28, 28)"
      ]
     },
     "execution_count": 7,
     "metadata": {},
     "output_type": "execute_result"
    }
   ],
   "source": [
    "x_train_img = np.array(shuffled_images[0:11234, :,:])\n",
    "x_test_img = np.array(shuffled_images[11235:18724, :,:])\n",
    "y_train_label = np.array(shuffled_labels[0:11234])\n",
    "y_test_label =np.array(shuffled_labels[11235:18724])\n",
    "\n",
    "x_train_img.shape"
   ]
  },
  {
   "cell_type": "code",
   "execution_count": null,
   "metadata": {},
   "outputs": [],
   "source": []
  },
  {
   "cell_type": "code",
   "execution_count": 8,
   "metadata": {},
   "outputs": [],
   "source": [
    "import torch\n",
    "from torch.utils.data import Dataset\n",
    "\n",
    "class CustomDataset(Dataset):\n",
    "    def __init__(self, images, labels, transform=None):\n",
    "\n",
    "        self.images = images\n",
    "        self.labels = labels\n",
    "        self.transform = transform\n",
    "\n",
    "    def __len__(self):\n",
    "        return len(self.labels)\n",
    "\n",
    "    def __getitem__(self, idx):\n",
    "        image = self.images[idx]\n",
    "        label = self.labels[idx]\n",
    "\n",
    "        if self.transform:\n",
    "            image = self.transform(image)\n",
    "\n",
    " \n",
    "        image = torch.tensor(image, dtype=torch.float32)\n",
    "        label = torch.tensor(label, dtype=torch.long)\n",
    "\n",
    "        return image, label"
   ]
  },
  {
   "cell_type": "code",
   "execution_count": 9,
   "metadata": {},
   "outputs": [],
   "source": [
    "test_images = x_test_img\n",
    "test_labels = y_test_label\n",
    "\n",
    "test_dataset = CustomDataset(test_images, test_labels)\n",
    "\n",
    "test_loader = DataLoader(dataset=test_dataset, batch_size=32, shuffle=False)"
   ]
  },
  {
   "cell_type": "code",
   "execution_count": 10,
   "metadata": {},
   "outputs": [],
   "source": [
    "from torch.utils.data import DataLoader\n",
    "\n",
    "images = x_train_img\n",
    "labels = y_train_label\n",
    "\n",
    "custom_dataset = CustomDataset(images, labels)\n",
    "\n",
    "data_loader = DataLoader(dataset=custom_dataset, batch_size=32, shuffle=True)\n"
   ]
  },
  {
   "cell_type": "code",
   "execution_count": 11,
   "metadata": {},
   "outputs": [],
   "source": [
    "class SimpleCNN_x(nn.Module):\n",
    "    def __init__(self, num_classes=10):  \n",
    "        super(SimpleCNN_x, self).__init__()\n",
    "        self.conv1 = nn.Conv2d(in_channels=1, out_channels=32, kernel_size=3, stride=1, padding=1)\n",
    "        self.conv2 = nn.Conv2d(in_channels=32, out_channels=64, kernel_size=3, stride=1, padding=1)\n",
    "        self.conv3 = nn.Conv2d(in_channels=64, out_channels=64, kernel_size=3, stride=1, padding=1)\n",
    "        self.pool = nn.MaxPool2d(kernel_size=2, stride=2, padding=0)\n",
    "        self.dropout = nn.Dropout2d(p=0.2)\n",
    "        self.fc1 = nn.Linear(3136, 128)  \n",
    "        self.fc2 = nn.Linear(128, num_classes)\n",
    "\n",
    "    def forward(self, x):\n",
    "        x1 = F.relu(self.conv1(x))\n",
    "        x2 = F.relu(self.conv2(x1))\n",
    "        x3 = self.pool(x2)\n",
    "        x3 = self.dropout(x3)\n",
    "        x4 = self.pool(F.relu(self.conv3(x3)))\n",
    "        x4 = self.dropout(x4)\n",
    "        x5 = x4.view(x4.size(0), -1)  \n",
    "        x6 = F.relu(self.fc1(x5))\n",
    "        x6 = self.dropout(x6)\n",
    "        out = self.fc2(x6)\n",
    "        return x1, x2, out\n"
   ]
  },
  {
   "cell_type": "code",
   "execution_count": 12,
   "metadata": {},
   "outputs": [
    {
     "name": "stderr",
     "output_type": "stream",
     "text": [
      "C:\\Users\\denis\\AppData\\Local\\Temp\\ipykernel_8840\\691292828.py:23: DeprecationWarning: an integer is required (got type numpy.float64).  Implicit conversion to integers using __int__ is deprecated, and may be removed in a future version of Python.\n",
      "  label = torch.tensor(label, dtype=torch.long)\n",
      "c:\\Users\\denis\\anaconda3\\lib\\site-packages\\torch\\nn\\functional.py:1331: UserWarning: dropout2d: Received a 2-D input to dropout2d, which is deprecated and will result in an error in a future release. To retain the behavior and silence this warning, please use dropout instead. Note that dropout2d exists to provide channel-wise dropout on inputs with 2 spatial dimensions, a channel dimension, and an optional batch dimension (i.e. 3D or 4D inputs).\n",
      "  warnings.warn(warn_msg)\n"
     ]
    },
    {
     "name": "stdout",
     "output_type": "stream",
     "text": [
      "Epoch 1/25, Step 100/352, Loss: 0.50817\n",
      "Epoch 1/25, Step 200/352, Loss: 0.60760\n",
      "Epoch 1/25, Step 300/352, Loss: 0.63607\n",
      "Epoch 2/25, Step 100/352, Loss: 0.50027\n",
      "Epoch 2/25, Step 200/352, Loss: 0.26116\n",
      "Epoch 2/25, Step 300/352, Loss: 0.24233\n",
      "Epoch 3/25, Step 100/352, Loss: 0.32646\n",
      "Epoch 3/25, Step 200/352, Loss: 0.24653\n",
      "Epoch 3/25, Step 300/352, Loss: 0.27317\n",
      "Epoch 4/25, Step 100/352, Loss: 0.15033\n",
      "Epoch 4/25, Step 200/352, Loss: 0.22124\n",
      "Epoch 4/25, Step 300/352, Loss: 0.14441\n",
      "Epoch 5/25, Step 100/352, Loss: 0.15840\n",
      "Epoch 5/25, Step 200/352, Loss: 0.37288\n",
      "Epoch 5/25, Step 300/352, Loss: 0.38071\n",
      "Epoch 6/25, Step 100/352, Loss: 0.23574\n",
      "Epoch 6/25, Step 200/352, Loss: 0.10343\n",
      "Epoch 6/25, Step 300/352, Loss: 0.15525\n",
      "Epoch 7/25, Step 100/352, Loss: 0.09971\n",
      "Epoch 7/25, Step 200/352, Loss: 0.06377\n",
      "Epoch 7/25, Step 300/352, Loss: 0.15475\n",
      "Epoch 8/25, Step 100/352, Loss: 0.08461\n",
      "Epoch 8/25, Step 200/352, Loss: 0.09638\n",
      "Epoch 8/25, Step 300/352, Loss: 0.03420\n",
      "Epoch 9/25, Step 100/352, Loss: 0.08390\n",
      "Epoch 9/25, Step 200/352, Loss: 0.29029\n",
      "Epoch 9/25, Step 300/352, Loss: 0.02549\n",
      "Epoch 10/25, Step 100/352, Loss: 0.01800\n",
      "Epoch 10/25, Step 200/352, Loss: 0.28352\n",
      "Epoch 10/25, Step 300/352, Loss: 0.12763\n",
      "Epoch 11/25, Step 100/352, Loss: 0.04653\n",
      "Epoch 11/25, Step 200/352, Loss: 0.31002\n",
      "Epoch 11/25, Step 300/352, Loss: 0.06967\n",
      "Epoch 12/25, Step 100/352, Loss: 0.07813\n",
      "Epoch 12/25, Step 200/352, Loss: 0.08373\n",
      "Epoch 12/25, Step 300/352, Loss: 0.40963\n",
      "Epoch 13/25, Step 100/352, Loss: 0.31037\n",
      "Epoch 13/25, Step 200/352, Loss: 0.04843\n",
      "Epoch 13/25, Step 300/352, Loss: 0.03692\n",
      "Epoch 14/25, Step 100/352, Loss: 0.07886\n",
      "Epoch 14/25, Step 200/352, Loss: 0.13216\n",
      "Epoch 14/25, Step 300/352, Loss: 0.02771\n",
      "Epoch 15/25, Step 100/352, Loss: 0.06537\n",
      "Epoch 15/25, Step 200/352, Loss: 0.05623\n",
      "Epoch 15/25, Step 300/352, Loss: 0.00593\n",
      "Epoch 16/25, Step 100/352, Loss: 0.05497\n",
      "Epoch 16/25, Step 200/352, Loss: 0.04788\n",
      "Epoch 16/25, Step 300/352, Loss: 0.02413\n",
      "Epoch 17/25, Step 100/352, Loss: 0.01329\n",
      "Epoch 17/25, Step 200/352, Loss: 0.07114\n",
      "Epoch 17/25, Step 300/352, Loss: 0.04490\n",
      "Epoch 18/25, Step 100/352, Loss: 0.00647\n",
      "Epoch 18/25, Step 200/352, Loss: 0.00517\n",
      "Epoch 18/25, Step 300/352, Loss: 0.16034\n",
      "Epoch 19/25, Step 100/352, Loss: 0.02519\n",
      "Epoch 19/25, Step 200/352, Loss: 0.02279\n",
      "Epoch 19/25, Step 300/352, Loss: 0.14602\n",
      "Epoch 20/25, Step 100/352, Loss: 0.07611\n",
      "Epoch 20/25, Step 200/352, Loss: 0.01366\n",
      "Epoch 20/25, Step 300/352, Loss: 0.29086\n",
      "Epoch 21/25, Step 100/352, Loss: 0.00382\n",
      "Epoch 21/25, Step 200/352, Loss: 0.08753\n",
      "Epoch 21/25, Step 300/352, Loss: 0.17032\n",
      "Epoch 22/25, Step 100/352, Loss: 0.05691\n",
      "Epoch 22/25, Step 200/352, Loss: 0.25832\n",
      "Epoch 22/25, Step 300/352, Loss: 0.00273\n",
      "Epoch 23/25, Step 100/352, Loss: 0.10748\n",
      "Epoch 23/25, Step 200/352, Loss: 0.16781\n",
      "Epoch 23/25, Step 300/352, Loss: 0.00242\n",
      "Epoch 24/25, Step 100/352, Loss: 0.07968\n",
      "Epoch 24/25, Step 200/352, Loss: 0.00636\n",
      "Epoch 24/25, Step 300/352, Loss: 0.03700\n",
      "Epoch 25/25, Step 100/352, Loss: 0.02475\n",
      "Epoch 25/25, Step 200/352, Loss: 0.06028\n",
      "Epoch 25/25, Step 300/352, Loss: 0.09430\n"
     ]
    },
    {
     "data": {
      "image/png": "[encoded data removed]",
      "text/plain": [
       "<Figure size 640x480 with 1 Axes>"
      ]
     },
     "metadata": {},
     "output_type": "display_data"
    }
   ],
   "source": [
    "mdlx = SimpleCNN_x(num_classes=10) \n",
    "criterion = nn.CrossEntropyLoss()  \n",
    "optimizer = torch.optim.SGD(mdlx.parameters(), lr=0.001, momentum=0.8)\n",
    "\n",
    "mdlx = mdlx.to(device)\n",
    "\n",
    "num_epochs = 25  \n",
    "epoch_losses = []\n",
    "\n",
    "for epoch in range(num_epochs):\n",
    "    epoch_loss = 0\n",
    "    num_batches = 0\n",
    "\n",
    "    for i, (images, labels) in enumerate(data_loader):\n",
    "        images, labels = images.to(device), labels.to(device)\n",
    "        images = images.unsqueeze(1)\n",
    "        \n",
    "        x1, x2, outputs = mdlx(images)\n",
    "        loss = criterion(outputs, labels)\n",
    "\n",
    "        optimizer.zero_grad()\n",
    "        loss.backward()\n",
    "        optimizer.step()\n",
    "        epoch_loss += loss.item()\n",
    "        num_batches += 1\n",
    "\n",
    "        if (i+1) % 100 == 0:\n",
    "            print(f'Epoch {epoch+1}/{num_epochs}, Step {i+1}/{len(data_loader)}, Loss: {loss.item():.5f}')\n",
    "\n",
    "    epoch_loss /= num_batches\n",
    "    epoch_losses.append(epoch_loss)\n",
    "\n",
    "plt.plot(epoch_losses)\n",
    "plt.ylabel('Average Epoch Loss')\n",
    "plt.xlabel('Epoch')\n",
    "plt.title('Loss over Epochs')\n",
    "plt.show()\n"
   ]
  },
  {
   "cell_type": "code",
   "execution_count": 13,
   "metadata": {},
   "outputs": [
    {
     "name": "stderr",
     "output_type": "stream",
     "text": [
      "C:\\Users\\denis\\AppData\\Local\\Temp\\ipykernel_8840\\691292828.py:23: DeprecationWarning: an integer is required (got type numpy.float64).  Implicit conversion to integers using __int__ is deprecated, and may be removed in a future version of Python.\n",
      "  label = torch.tensor(label, dtype=torch.long)\n"
     ]
    },
    {
     "name": "stdout",
     "output_type": "stream",
     "text": [
      "Accuracy: 94.41%\n"
     ]
    }
   ],
   "source": [
    "def test_model_x(mdlx, test_loader):\n",
    "    mdlx = mdlx.to(device)\n",
    "    \n",
    "    mdlx.eval() \n",
    "    correct = 0\n",
    "    total = 0\n",
    "    with torch.no_grad():  \n",
    "        for images, labels in test_loader:\n",
    "            images, labels = images.to(device), labels.to(device)\n",
    "            \n",
    "            images = images.unsqueeze(1)  \n",
    "            x1, x2, outputs = mdlx(images)\n",
    "            _, predicted = torch.max(outputs.data, 1)  \n",
    "            total += labels.size(0)\n",
    "            correct += (predicted == labels).sum().item()\n",
    "\n",
    "    accuracy = 100 * correct / total\n",
    "    print(f'Accuracy: {accuracy:.2f}%')\n",
    "\n",
    "\n",
    "test_model_x(mdlx, test_loader)"
   ]
  },
  {
   "cell_type": "code",
   "execution_count": 14,
   "metadata": {},
   "outputs": [
    {
     "data": {
      "text/plain": [
       "(14979, 28, 28)"
      ]
     },
     "execution_count": 14,
     "metadata": {},
     "output_type": "execute_result"
    }
   ],
   "source": [
    "x_train_img = np.array(shuffled_images[0:14979, :,:])\n",
    "x_test_img = np.array(shuffled_images[14980:18724, :,:])\n",
    "y_train_label = np.array(shuffled_labels[0:14979])\n",
    "y_test_label =np.array(shuffled_labels[14980:18724])\n",
    "\n",
    "x_train_img.shape"
   ]
  },
  {
   "cell_type": "code",
   "execution_count": 15,
   "metadata": {},
   "outputs": [],
   "source": [
    "test_images = x_test_img\n",
    "test_labels = y_test_label\n",
    "\n",
    "test_dataset = CustomDataset(test_images, test_labels)\n",
    "\n",
    "test_loader = DataLoader(dataset=test_dataset, batch_size=32, shuffle=False)\n",
    "\n",
    "images = x_train_img\n",
    "labels = y_train_label\n",
    "\n",
    "custom_dataset = CustomDataset(images, labels)\n",
    "\n",
    "data_loader = DataLoader(dataset=custom_dataset, batch_size=32, shuffle=True)"
   ]
  },
  {
   "cell_type": "code",
   "execution_count": 16,
   "metadata": {},
   "outputs": [
    {
     "name": "stderr",
     "output_type": "stream",
     "text": [
      "C:\\Users\\denis\\AppData\\Local\\Temp\\ipykernel_8840\\691292828.py:23: DeprecationWarning: an integer is required (got type numpy.float64).  Implicit conversion to integers using __int__ is deprecated, and may be removed in a future version of Python.\n",
      "  label = torch.tensor(label, dtype=torch.long)\n"
     ]
    },
    {
     "name": "stdout",
     "output_type": "stream",
     "text": [
      "Epoch 1/25, Step 100/469, Loss: 0.80429\n",
      "Epoch 1/25, Step 200/469, Loss: 0.33125\n",
      "Epoch 1/25, Step 300/469, Loss: 0.46321\n",
      "Epoch 1/25, Step 400/469, Loss: 0.76792\n",
      "Epoch 2/25, Step 100/469, Loss: 0.40499\n",
      "Epoch 2/25, Step 200/469, Loss: 0.39769\n",
      "Epoch 2/25, Step 300/469, Loss: 0.13421\n",
      "Epoch 2/25, Step 400/469, Loss: 0.41560\n",
      "Epoch 3/25, Step 100/469, Loss: 0.15427\n",
      "Epoch 3/25, Step 200/469, Loss: 0.34096\n",
      "Epoch 3/25, Step 300/469, Loss: 0.36905\n",
      "Epoch 3/25, Step 400/469, Loss: 0.38124\n",
      "Epoch 4/25, Step 100/469, Loss: 0.19499\n",
      "Epoch 4/25, Step 200/469, Loss: 0.39750\n",
      "Epoch 4/25, Step 300/469, Loss: 0.25795\n",
      "Epoch 4/25, Step 400/469, Loss: 0.21372\n",
      "Epoch 5/25, Step 100/469, Loss: 0.02043\n",
      "Epoch 5/25, Step 200/469, Loss: 0.39146\n",
      "Epoch 5/25, Step 300/469, Loss: 0.13696\n",
      "Epoch 5/25, Step 400/469, Loss: 0.14506\n",
      "Epoch 6/25, Step 100/469, Loss: 0.39210\n",
      "Epoch 6/25, Step 200/469, Loss: 0.02140\n",
      "Epoch 6/25, Step 300/469, Loss: 0.18281\n",
      "Epoch 6/25, Step 400/469, Loss: 0.08959\n",
      "Epoch 7/25, Step 100/469, Loss: 0.23509\n",
      "Epoch 7/25, Step 200/469, Loss: 0.06357\n",
      "Epoch 7/25, Step 300/469, Loss: 0.14668\n",
      "Epoch 7/25, Step 400/469, Loss: 0.22199\n",
      "Epoch 8/25, Step 100/469, Loss: 0.01573\n",
      "Epoch 8/25, Step 200/469, Loss: 0.23720\n",
      "Epoch 8/25, Step 300/469, Loss: 0.08168\n",
      "Epoch 8/25, Step 400/469, Loss: 0.23171\n",
      "Epoch 9/25, Step 100/469, Loss: 0.10783\n",
      "Epoch 9/25, Step 200/469, Loss: 0.19187\n",
      "Epoch 9/25, Step 300/469, Loss: 0.08746\n",
      "Epoch 9/25, Step 400/469, Loss: 0.04293\n",
      "Epoch 10/25, Step 100/469, Loss: 0.20764\n",
      "Epoch 10/25, Step 200/469, Loss: 0.13284\n",
      "Epoch 10/25, Step 300/469, Loss: 0.03093\n",
      "Epoch 10/25, Step 400/469, Loss: 0.23170\n",
      "Epoch 11/25, Step 100/469, Loss: 0.31873\n",
      "Epoch 11/25, Step 200/469, Loss: 0.21154\n",
      "Epoch 11/25, Step 300/469, Loss: 0.17420\n",
      "Epoch 11/25, Step 400/469, Loss: 0.07904\n",
      "Epoch 12/25, Step 100/469, Loss: 0.06582\n",
      "Epoch 12/25, Step 200/469, Loss: 0.04795\n",
      "Epoch 12/25, Step 300/469, Loss: 0.19003\n",
      "Epoch 12/25, Step 400/469, Loss: 0.05665\n",
      "Epoch 13/25, Step 100/469, Loss: 0.21585\n",
      "Epoch 13/25, Step 200/469, Loss: 0.02894\n",
      "Epoch 13/25, Step 300/469, Loss: 0.13861\n",
      "Epoch 13/25, Step 400/469, Loss: 0.00435\n",
      "Epoch 14/25, Step 100/469, Loss: 0.08915\n",
      "Epoch 14/25, Step 200/469, Loss: 0.02799\n",
      "Epoch 14/25, Step 300/469, Loss: 0.17025\n",
      "Epoch 14/25, Step 400/469, Loss: 0.10872\n",
      "Epoch 15/25, Step 100/469, Loss: 0.02312\n",
      "Epoch 15/25, Step 200/469, Loss: 0.30657\n",
      "Epoch 15/25, Step 300/469, Loss: 0.05314\n",
      "Epoch 15/25, Step 400/469, Loss: 0.03233\n",
      "Epoch 16/25, Step 100/469, Loss: 0.08424\n",
      "Epoch 16/25, Step 200/469, Loss: 0.13293\n",
      "Epoch 16/25, Step 300/469, Loss: 0.03109\n",
      "Epoch 16/25, Step 400/469, Loss: 0.01053\n",
      "Epoch 17/25, Step 100/469, Loss: 0.01922\n",
      "Epoch 17/25, Step 200/469, Loss: 0.15753\n",
      "Epoch 17/25, Step 300/469, Loss: 0.00957\n",
      "Epoch 17/25, Step 400/469, Loss: 0.04176\n",
      "Epoch 18/25, Step 100/469, Loss: 0.01672\n",
      "Epoch 18/25, Step 200/469, Loss: 0.02993\n",
      "Epoch 18/25, Step 300/469, Loss: 0.06904\n",
      "Epoch 18/25, Step 400/469, Loss: 0.04875\n",
      "Epoch 19/25, Step 100/469, Loss: 0.01152\n",
      "Epoch 19/25, Step 200/469, Loss: 0.04219\n",
      "Epoch 19/25, Step 300/469, Loss: 0.00134\n",
      "Epoch 19/25, Step 400/469, Loss: 0.03973\n",
      "Epoch 20/25, Step 100/469, Loss: 0.02669\n",
      "Epoch 20/25, Step 200/469, Loss: 0.10738\n",
      "Epoch 20/25, Step 300/469, Loss: 0.02741\n",
      "Epoch 20/25, Step 400/469, Loss: 0.03779\n",
      "Epoch 21/25, Step 100/469, Loss: 0.03723\n",
      "Epoch 21/25, Step 200/469, Loss: 0.07664\n",
      "Epoch 21/25, Step 300/469, Loss: 0.22776\n",
      "Epoch 21/25, Step 400/469, Loss: 0.25115\n",
      "Epoch 22/25, Step 100/469, Loss: 0.02740\n",
      "Epoch 22/25, Step 200/469, Loss: 0.17091\n",
      "Epoch 22/25, Step 300/469, Loss: 0.10758\n",
      "Epoch 22/25, Step 400/469, Loss: 0.01312\n",
      "Epoch 23/25, Step 100/469, Loss: 0.14321\n",
      "Epoch 23/25, Step 200/469, Loss: 0.02793\n",
      "Epoch 23/25, Step 300/469, Loss: 0.01365\n",
      "Epoch 23/25, Step 400/469, Loss: 0.06145\n",
      "Epoch 24/25, Step 100/469, Loss: 0.03074\n",
      "Epoch 24/25, Step 200/469, Loss: 0.00783\n",
      "Epoch 24/25, Step 300/469, Loss: 0.01384\n",
      "Epoch 24/25, Step 400/469, Loss: 0.03626\n",
      "Epoch 25/25, Step 100/469, Loss: 0.00280\n",
      "Epoch 25/25, Step 200/469, Loss: 0.01726\n",
      "Epoch 25/25, Step 300/469, Loss: 0.15591\n",
      "Epoch 25/25, Step 400/469, Loss: 0.03455\n"
     ]
    },
    {
     "data": {
      "image/png": "[encoded data removed]",
      "text/plain": [
       "<Figure size 640x480 with 1 Axes>"
      ]
     },
     "metadata": {},
     "output_type": "display_data"
    }
   ],
   "source": [
    "mdl2 = SimpleCNN_x(num_classes=10) \n",
    "criterion = nn.CrossEntropyLoss()  \n",
    "optimizer = torch.optim.SGD(mdl2.parameters(), lr=0.001, momentum=0.8)\n",
    "\n",
    "mdl2 = mdl2.to(device)\n",
    "\n",
    "num_epochs = 25  \n",
    "epoch_losses = []\n",
    "\n",
    "for epoch in range(num_epochs):\n",
    "    epoch_loss = 0\n",
    "    num_batches = 0\n",
    "\n",
    "    for i, (images, labels) in enumerate(data_loader):\n",
    "        images, labels = images.to(device), labels.to(device)\n",
    "        images = images.unsqueeze(1)\n",
    "        \n",
    "        x1, x2, outputs = mdl2(images)\n",
    "        loss = criterion(outputs, labels)\n",
    "\n",
    "        optimizer.zero_grad()\n",
    "        loss.backward()\n",
    "        optimizer.step()\n",
    "        epoch_loss += loss.item()\n",
    "        num_batches += 1\n",
    "\n",
    "        if (i+1) % 100 == 0:\n",
    "            print(f'Epoch {epoch+1}/{num_epochs}, Step {i+1}/{len(data_loader)}, Loss: {loss.item():.5f}')\n",
    "\n",
    "    epoch_loss /= num_batches\n",
    "    epoch_losses.append(epoch_loss)\n",
    "\n",
    "plt.plot(epoch_losses)\n",
    "plt.ylabel('Average Epoch Loss')\n",
    "plt.xlabel('Epoch')\n",
    "plt.title('Loss over Epochs')\n",
    "plt.show()\n"
   ]
  },
  {
   "cell_type": "code",
   "execution_count": 17,
   "metadata": {},
   "outputs": [
    {
     "name": "stderr",
     "output_type": "stream",
     "text": [
      "C:\\Users\\denis\\AppData\\Local\\Temp\\ipykernel_8840\\691292828.py:23: DeprecationWarning: an integer is required (got type numpy.float64).  Implicit conversion to integers using __int__ is deprecated, and may be removed in a future version of Python.\n",
      "  label = torch.tensor(label, dtype=torch.long)\n"
     ]
    },
    {
     "name": "stdout",
     "output_type": "stream",
     "text": [
      "Accuracy: 94.79%\n"
     ]
    }
   ],
   "source": [
    "def test_model_x(mdl2, test_loader):\n",
    "    mdl2 = mdl2.to(device)\n",
    "    \n",
    "    mdl2.eval() \n",
    "    correct = 0\n",
    "    total = 0\n",
    "    with torch.no_grad():  \n",
    "        for images, labels in test_loader:\n",
    "            images, labels = images.to(device), labels.to(device)\n",
    "            \n",
    "            images = images.unsqueeze(1)  \n",
    "            x1, x2, outputs = mdl2(images)\n",
    "            _, predicted = torch.max(outputs.data, 1)  \n",
    "            total += labels.size(0)\n",
    "            correct += (predicted == labels).sum().item()\n",
    "\n",
    "    accuracy = 100 * correct / total\n",
    "    print(f'Accuracy: {accuracy:.2f}%')\n",
    "\n",
    "\n",
    "test_model_x(mdl2, test_loader)"
   ]
  }
 ],
 "metadata": {
  "kernelspec": {
   "display_name": "base",
   "language": "python",
   "name": "python3"
  },
  "language_info": {
   "codemirror_mode": {
    "name": "ipython",
    "version": 3
   },
   "file_extension": ".py",
   "mimetype": "text/x-python",
   "name": "python",
   "nbconvert_exporter": "python",
   "pygments_lexer": "ipython3",
   "version": "3.9.13"
  },
  "orig_nbformat": 4
 },
 "nbformat": 4,
 "nbformat_minor": 2
}
