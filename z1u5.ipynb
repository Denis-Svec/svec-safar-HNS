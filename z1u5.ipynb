{
 "cells": [
  {
   "cell_type": "code",
   "execution_count": 1,
   "metadata": {},
   "outputs": [],
   "source": [
    "import torch\n",
    "from torch import nn\n",
    "from torch.utils.data import DataLoader\n",
    "from torchvision import datasets\n",
    "from torchvision.transforms import ToTensor\n",
    "import pandas as pd\n",
    "import numpy as np\n",
    "import matplotlib.pyplot as plt\n",
    "import scipy.io\n",
    "import torch.nn.functional as F"
   ]
  },
  {
   "cell_type": "code",
   "execution_count": 2,
   "metadata": {},
   "outputs": [
    {
     "name": "stdout",
     "output_type": "stream",
     "text": [
      "Using cuda device\n"
     ]
    }
   ],
   "source": [
    "device = (\n",
    "    \"cuda\"\n",
    "    if torch.cuda.is_available()\n",
    "    else \"mps\"\n",
    "    if torch.backends.mps.is_available()\n",
    "    else \"cpu\"\n",
    ")\n",
    "print(f\"Using {device} device\")\n"
   ]
  },
  {
   "cell_type": "code",
   "execution_count": null,
   "metadata": {},
   "outputs": [],
   "source": []
  },
  {
   "cell_type": "code",
   "execution_count": 3,
   "metadata": {},
   "outputs": [
    {
     "data": {
      "text/plain": [
       "dict_keys(['__header__', '__version__', '__globals__', 'images', 'labels'])"
      ]
     },
     "execution_count": 3,
     "metadata": {},
     "output_type": "execute_result"
    }
   ],
   "source": [
    "mat = scipy.io.loadmat('notMNIST_small.mat')\n",
    "mat.keys()\n"
   ]
  },
  {
   "cell_type": "code",
   "execution_count": 4,
   "metadata": {},
   "outputs": [
    {
     "data": {
      "image/png": "[encoded data removed]",
      "text/plain": [
       "<Figure size 640x480 with 1 Axes>"
      ]
     },
     "metadata": {},
     "output_type": "display_data"
    }
   ],
   "source": [
    "mat['images'].shape\n",
    "\n",
    "plt.imshow(mat['images'][:, :, 1], cmap='gray')\n",
    "plt.axis('off')\n",
    "plt.show()"
   ]
  },
  {
   "cell_type": "code",
   "execution_count": 5,
   "metadata": {},
   "outputs": [
    {
     "data": {
      "image/png": "[encoded data removed]",
      "text/plain": [
       "<Figure size 640x480 with 1 Axes>"
      ]
     },
     "metadata": {},
     "output_type": "display_data"
    },
    {
     "data": {
      "text/plain": [
       "(18724, 28, 28)"
      ]
     },
     "execution_count": 5,
     "metadata": {},
     "output_type": "execute_result"
    }
   ],
   "source": [
    "new_img = np.random.rand(18724, 28, 28)\n",
    "for index in range(mat['images'].shape[2]):\n",
    "    new_img[index] = mat['images'][:,:,index]\n",
    "\n",
    "plt.imshow(new_img[1, :, :], cmap='gray')\n",
    "plt.axis('off')\n",
    "plt.show()\n",
    "\n",
    "new_img.shape"
   ]
  },
  {
   "cell_type": "code",
   "execution_count": 6,
   "metadata": {},
   "outputs": [],
   "source": [
    "indices = np.arange(18724)\n",
    "np.random.shuffle(indices)\n",
    "labels = np.array(mat['labels'])\n",
    "\n",
    "\n",
    "shuffled_images = new_img[indices]\n",
    "shuffled_labels = labels[indices]"
   ]
  },
  {
   "cell_type": "code",
   "execution_count": 7,
   "metadata": {},
   "outputs": [
    {
     "data": {
      "text/plain": [
       "(11234, 28, 28)"
      ]
     },
     "execution_count": 7,
     "metadata": {},
     "output_type": "execute_result"
    }
   ],
   "source": [
    "x_train_img = np.array(shuffled_images[0:11234, :,:])\n",
    "x_test_img = np.array(shuffled_images[11235:18724, :,:])\n",
    "y_train_label = np.array(shuffled_labels[0:11234])\n",
    "y_test_label =np.array(shuffled_labels[11235:18724])\n",
    "\n",
    "x_train_img.shape"
   ]
  },
  {
   "cell_type": "code",
   "execution_count": null,
   "metadata": {},
   "outputs": [],
   "source": []
  },
  {
   "cell_type": "code",
   "execution_count": 8,
   "metadata": {},
   "outputs": [],
   "source": [
    "import torch\n",
    "from torch.utils.data import Dataset\n",
    "\n",
    "class CustomDataset(Dataset):\n",
    "    def __init__(self, images, labels, transform=None):\n",
    "\n",
    "        self.images = images\n",
    "        self.labels = labels\n",
    "        self.transform = transform\n",
    "\n",
    "    def __len__(self):\n",
    "        return len(self.labels)\n",
    "\n",
    "    def __getitem__(self, idx):\n",
    "        image = self.images[idx]\n",
    "        label = self.labels[idx]\n",
    "\n",
    "        if self.transform:\n",
    "            image = self.transform(image)\n",
    "\n",
    " \n",
    "        image = torch.tensor(image, dtype=torch.float32)\n",
    "        label = torch.tensor(label, dtype=torch.long)\n",
    "\n",
    "        return image, label"
   ]
  },
  {
   "cell_type": "code",
   "execution_count": 9,
   "metadata": {},
   "outputs": [],
   "source": [
    "test_images = x_test_img\n",
    "test_labels = y_test_label\n",
    "\n",
    "test_dataset = CustomDataset(test_images, test_labels)\n",
    "\n",
    "test_loader = DataLoader(dataset=test_dataset, batch_size=32, shuffle=False)"
   ]
  },
  {
   "cell_type": "code",
   "execution_count": 10,
   "metadata": {},
   "outputs": [],
   "source": [
    "from torch.utils.data import DataLoader\n",
    "\n",
    "images = x_train_img\n",
    "labels = y_train_label\n",
    "\n",
    "custom_dataset = CustomDataset(images, labels)\n",
    "\n",
    "data_loader = DataLoader(dataset=custom_dataset, batch_size=32, shuffle=True)\n"
   ]
  },
  {
   "cell_type": "code",
   "execution_count": 11,
   "metadata": {},
   "outputs": [],
   "source": [
    "class SimpleCNN_x(nn.Module):\n",
    "    def __init__(self, num_classes=10):  \n",
    "        super(SimpleCNN_x, self).__init__()\n",
    "        self.conv1 = nn.Conv2d(in_channels=1, out_channels=32, kernel_size=3, stride=1, padding=1)\n",
    "        self.conv2 = nn.Conv2d(in_channels=32, out_channels=64, kernel_size=3, stride=1, padding=1)\n",
    "        self.conv3 = nn.Conv2d(in_channels=64, out_channels=64, kernel_size=3, stride=1, padding=1)\n",
    "        self.pool = nn.MaxPool2d(kernel_size=2, stride=2, padding=0)\n",
    "        self.dropout = nn.Dropout2d(p=0.2)\n",
    "        self.fc1 = nn.Linear(3136, 128)  \n",
    "        self.fc2 = nn.Linear(128, num_classes)\n",
    "\n",
    "    def forward(self, x):\n",
    "        x1 = F.relu(self.conv1(x))\n",
    "        x2 = F.relu(self.conv2(x1))\n",
    "        x3 = self.pool(x2)\n",
    "        x3 = self.dropout(x3)\n",
    "        x4 = self.pool(F.relu(self.conv3(x3)))\n",
    "        x4 = self.dropout(x4)\n",
    "        x5 = x4.view(x4.size(0), -1)  \n",
    "        x6 = F.relu(self.fc1(x5))\n",
    "        x6 = self.dropout(x6)\n",
    "        out = self.fc2(x6)\n",
    "        return x1, x2, out\n"
   ]
  },
  {
   "cell_type": "code",
   "execution_count": 12,
   "metadata": {},
   "outputs": [
    {
     "name": "stderr",
     "output_type": "stream",
     "text": [
      "C:\\Users\\denis\\AppData\\Local\\Temp\\ipykernel_15604\\691292828.py:23: DeprecationWarning: an integer is required (got type numpy.float64).  Implicit conversion to integers using __int__ is deprecated, and may be removed in a future version of Python.\n",
      "  label = torch.tensor(label, dtype=torch.long)\n",
      "c:\\Users\\denis\\anaconda3\\lib\\site-packages\\torch\\nn\\functional.py:1331: UserWarning: dropout2d: Received a 2-D input to dropout2d, which is deprecated and will result in an error in a future release. To retain the behavior and silence this warning, please use dropout instead. Note that dropout2d exists to provide channel-wise dropout on inputs with 2 spatial dimensions, a channel dimension, and an optional batch dimension (i.e. 3D or 4D inputs).\n",
      "  warnings.warn(warn_msg)\n"
     ]
    },
    {
     "name": "stdout",
     "output_type": "stream",
     "text": [
      "Epoch 1/25, Step 100/352, Loss: 0.54400\n",
      "Epoch 1/25, Step 200/352, Loss: 0.34274\n",
      "Epoch 1/25, Step 300/352, Loss: 0.18955\n",
      "Epoch 2/25, Step 100/352, Loss: 0.34882\n",
      "Epoch 2/25, Step 200/352, Loss: 0.42302\n",
      "Epoch 2/25, Step 300/352, Loss: 0.51943\n",
      "Epoch 3/25, Step 100/352, Loss: 0.25009\n",
      "Epoch 3/25, Step 200/352, Loss: 0.38647\n",
      "Epoch 3/25, Step 300/352, Loss: 0.08243\n",
      "Epoch 4/25, Step 100/352, Loss: 0.44753\n",
      "Epoch 4/25, Step 200/352, Loss: 0.08448\n",
      "Epoch 4/25, Step 300/352, Loss: 0.35433\n",
      "Epoch 5/25, Step 100/352, Loss: 0.07144\n",
      "Epoch 5/25, Step 200/352, Loss: 0.36377\n",
      "Epoch 5/25, Step 300/352, Loss: 0.07289\n",
      "Epoch 6/25, Step 100/352, Loss: 0.35876\n",
      "Epoch 6/25, Step 200/352, Loss: 0.64567\n",
      "Epoch 6/25, Step 300/352, Loss: 0.35277\n",
      "Epoch 7/25, Step 100/352, Loss: 0.05303\n",
      "Epoch 7/25, Step 200/352, Loss: 0.09329\n",
      "Epoch 7/25, Step 300/352, Loss: 0.12286\n",
      "Epoch 8/25, Step 100/352, Loss: 0.23735\n",
      "Epoch 8/25, Step 200/352, Loss: 0.09011\n",
      "Epoch 8/25, Step 300/352, Loss: 0.17724\n",
      "Epoch 9/25, Step 100/352, Loss: 0.21676\n",
      "Epoch 9/25, Step 200/352, Loss: 0.01544\n",
      "Epoch 9/25, Step 300/352, Loss: 0.09656\n",
      "Epoch 10/25, Step 100/352, Loss: 0.04362\n",
      "Epoch 10/25, Step 200/352, Loss: 0.22437\n",
      "Epoch 10/25, Step 300/352, Loss: 0.13228\n",
      "Epoch 11/25, Step 100/352, Loss: 0.19884\n",
      "Epoch 11/25, Step 200/352, Loss: 0.04734\n",
      "Epoch 11/25, Step 300/352, Loss: 0.12328\n",
      "Epoch 12/25, Step 100/352, Loss: 0.02776\n",
      "Epoch 12/25, Step 200/352, Loss: 0.15323\n",
      "Epoch 12/25, Step 300/352, Loss: 0.11879\n",
      "Epoch 13/25, Step 100/352, Loss: 0.04285\n",
      "Epoch 13/25, Step 200/352, Loss: 0.13117\n",
      "Epoch 13/25, Step 300/352, Loss: 0.24486\n",
      "Epoch 14/25, Step 100/352, Loss: 0.04717\n",
      "Epoch 14/25, Step 200/352, Loss: 0.10484\n",
      "Epoch 14/25, Step 300/352, Loss: 0.16756\n",
      "Epoch 15/25, Step 100/352, Loss: 0.01577\n",
      "Epoch 15/25, Step 200/352, Loss: 0.05187\n",
      "Epoch 15/25, Step 300/352, Loss: 0.17665\n",
      "Epoch 16/25, Step 100/352, Loss: 0.00908\n",
      "Epoch 16/25, Step 200/352, Loss: 0.13511\n",
      "Epoch 16/25, Step 300/352, Loss: 0.12004\n",
      "Epoch 17/25, Step 100/352, Loss: 0.14568\n",
      "Epoch 17/25, Step 200/352, Loss: 0.08720\n",
      "Epoch 17/25, Step 300/352, Loss: 0.05145\n",
      "Epoch 18/25, Step 100/352, Loss: 0.15730\n",
      "Epoch 18/25, Step 200/352, Loss: 0.09811\n",
      "Epoch 18/25, Step 300/352, Loss: 0.11253\n",
      "Epoch 19/25, Step 100/352, Loss: 0.12566\n",
      "Epoch 19/25, Step 200/352, Loss: 0.11061\n",
      "Epoch 19/25, Step 300/352, Loss: 0.00814\n",
      "Epoch 20/25, Step 100/352, Loss: 0.05193\n",
      "Epoch 20/25, Step 200/352, Loss: 0.01864\n",
      "Epoch 20/25, Step 300/352, Loss: 0.08166\n",
      "Epoch 21/25, Step 100/352, Loss: 0.01826\n",
      "Epoch 21/25, Step 200/352, Loss: 0.01782\n",
      "Epoch 21/25, Step 300/352, Loss: 0.00768\n",
      "Epoch 22/25, Step 100/352, Loss: 0.00401\n",
      "Epoch 22/25, Step 200/352, Loss: 0.08740\n",
      "Epoch 22/25, Step 300/352, Loss: 0.02672\n",
      "Epoch 23/25, Step 100/352, Loss: 0.06485\n",
      "Epoch 23/25, Step 200/352, Loss: 0.06868\n",
      "Epoch 23/25, Step 300/352, Loss: 0.06886\n",
      "Epoch 24/25, Step 100/352, Loss: 0.00428\n",
      "Epoch 24/25, Step 200/352, Loss: 0.01361\n",
      "Epoch 24/25, Step 300/352, Loss: 0.13124\n",
      "Epoch 25/25, Step 100/352, Loss: 0.01604\n",
      "Epoch 25/25, Step 200/352, Loss: 0.11010\n",
      "Epoch 25/25, Step 300/352, Loss: 0.00547\n"
     ]
    },
    {
     "data": {
      "image/png": "[encoded data removed]",
      "text/plain": [
       "<Figure size 640x480 with 1 Axes>"
      ]
     },
     "metadata": {},
     "output_type": "display_data"
    }
   ],
   "source": [
    "mdlx = SimpleCNN_x(num_classes=10) \n",
    "criterion = nn.CrossEntropyLoss()  \n",
    "optimizer = torch.optim.SGD(mdlx.parameters(), lr=0.001, momentum=0.8)\n",
    "\n",
    "mdlx = mdlx.to(device)\n",
    "\n",
    "num_epochs = 25  \n",
    "epoch_losses = []\n",
    "\n",
    "for epoch in range(num_epochs):\n",
    "    epoch_loss = 0\n",
    "    num_batches = 0\n",
    "\n",
    "    for i, (images, labels) in enumerate(data_loader):\n",
    "        images, labels = images.to(device), labels.to(device)\n",
    "        images = images.unsqueeze(1)\n",
    "        \n",
    "        x1, x2, outputs = mdlx(images)\n",
    "        loss = criterion(outputs, labels)\n",
    "\n",
    "        optimizer.zero_grad()\n",
    "        loss.backward()\n",
    "        optimizer.step()\n",
    "        epoch_loss += loss.item()\n",
    "        num_batches += 1\n",
    "\n",
    "        if (i+1) % 100 == 0:\n",
    "            print(f'Epoch {epoch+1}/{num_epochs}, Step {i+1}/{len(data_loader)}, Loss: {loss.item():.5f}')\n",
    "\n",
    "    epoch_loss /= num_batches\n",
    "    epoch_losses.append(epoch_loss)\n",
    "\n",
    "plt.plot(epoch_losses)\n",
    "plt.ylabel('Average Epoch Loss')\n",
    "plt.xlabel('Epoch')\n",
    "plt.title('Loss over Epochs')\n",
    "plt.show()\n"
   ]
  },
  {
   "cell_type": "code",
   "execution_count": 13,
   "metadata": {},
   "outputs": [
    {
     "name": "stderr",
     "output_type": "stream",
     "text": [
      "C:\\Users\\denis\\AppData\\Local\\Temp\\ipykernel_15604\\691292828.py:23: DeprecationWarning: an integer is required (got type numpy.float64).  Implicit conversion to integers using __int__ is deprecated, and may be removed in a future version of Python.\n",
      "  label = torch.tensor(label, dtype=torch.long)\n"
     ]
    },
    {
     "name": "stdout",
     "output_type": "stream",
     "text": [
      "Accuracy: 94.41%\n"
     ]
    }
   ],
   "source": [
    "def test_model_x(mdlx, test_loader):\n",
    "    mdlx = mdlx.to(device)\n",
    "    \n",
    "    mdlx.eval() \n",
    "    correct = 0\n",
    "    total = 0\n",
    "    with torch.no_grad():  \n",
    "        for images, labels in test_loader:\n",
    "            images, labels = images.to(device), labels.to(device)\n",
    "            \n",
    "            images = images.unsqueeze(1)  \n",
    "            x1, x2, outputs = mdlx(images)\n",
    "            _, predicted = torch.max(outputs.data, 1)  \n",
    "            total += labels.size(0)\n",
    "            correct += (predicted == labels).sum().item()\n",
    "\n",
    "    accuracy = 100 * correct / total\n",
    "    print(f'Accuracy: {accuracy:.2f}%')\n",
    "\n",
    "\n",
    "test_model_x(mdlx, test_loader)"
   ]
  },
  {
   "cell_type": "code",
   "execution_count": null,
   "metadata": {},
   "outputs": [],
   "source": []
  }
 ],
 "metadata": {
  "kernelspec": {
   "display_name": "base",
   "language": "python",
   "name": "python3"
  },
  "language_info": {
   "codemirror_mode": {
    "name": "ipython",
    "version": 3
   },
   "file_extension": ".py",
   "mimetype": "text/x-python",
   "name": "python",
   "nbconvert_exporter": "python",
   "pygments_lexer": "ipython3",
   "version": "3.9.13"
  },
  "orig_nbformat": 4
 },
 "nbformat": 4,
 "nbformat_minor": 2
}
