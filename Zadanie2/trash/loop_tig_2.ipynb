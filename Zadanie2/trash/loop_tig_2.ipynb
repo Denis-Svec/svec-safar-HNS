{
 "cells": [
  {
   "cell_type": "code",
   "execution_count": 22,
   "metadata": {},
   "outputs": [],
   "source": [
    "import torch\n",
    "from torch import nn\n",
    "from torchvision import datasets\n",
    "from torchvision.transforms import ToTensor\n",
    "import pandas as pd\n",
    "import numpy as np\n",
    "import matplotlib.pyplot as plt\n",
    "import scipy.io\n",
    "from torch.utils.data import Dataset, DataLoader\n",
    "import torch.nn.functional as F"
   ]
  },
  {
   "cell_type": "code",
   "execution_count": 23,
   "metadata": {},
   "outputs": [
    {
     "name": "stdout",
     "output_type": "stream",
     "text": [
      "Using cuda device\n"
     ]
    }
   ],
   "source": [
    "device = (\n",
    "    \"cuda\"\n",
    "    if torch.cuda.is_available()\n",
    "    else \"mps\"\n",
    "    if torch.backends.mps.is_available()\n",
    "    else \"cpu\"\n",
    ")\n",
    "print(f\"Using {device} device\")\n",
    "torch.cuda.empty_cache()"
   ]
  },
  {
   "cell_type": "code",
   "execution_count": 24,
   "metadata": {},
   "outputs": [
    {
     "data": {
      "text/plain": [
       "dict_keys(['__header__', '__version__', '__globals__', 'XTest', 'XTrain', 'YTest', 'YTrain'])"
      ]
     },
     "execution_count": 24,
     "metadata": {},
     "output_type": "execute_result"
    }
   ],
   "source": [
    "mat = scipy.io.loadmat('DynCislaData_Python.mat')\n",
    "mat.keys()\n"
   ]
  },
  {
   "cell_type": "code",
   "execution_count": 25,
   "metadata": {},
   "outputs": [
    {
     "name": "stdout",
     "output_type": "stream",
     "text": [
      "<class 'numpy.ndarray'>\n",
      "200\n",
      "<class 'numpy.ndarray'>\n",
      "98\n"
     ]
    }
   ],
   "source": [
    "xtrain = mat['XTrain']\n",
    "ytrain = mat['YTrain']\n",
    "XTest = mat['XTest']\n",
    "YTest = mat['YTest']\n",
    "print(type(xtrain))\n",
    "print(len(xtrain))\n",
    "print(type(XTest))\n",
    "print(len(XTest))\n"
   ]
  },
  {
   "cell_type": "code",
   "execution_count": 26,
   "metadata": {},
   "outputs": [
    {
     "name": "stdout",
     "output_type": "stream",
     "text": [
      "<class 'numpy.ndarray'>\n",
      "200\n"
     ]
    },
    {
     "data": {
      "text/plain": [
       "(200, 1)"
      ]
     },
     "execution_count": 26,
     "metadata": {},
     "output_type": "execute_result"
    }
   ],
   "source": [
    "print(type(ytrain))\n",
    "print(len(ytrain))\n",
    "ytrain.shape"
   ]
  },
  {
   "cell_type": "code",
   "execution_count": 27,
   "metadata": {},
   "outputs": [
    {
     "data": {
      "text/plain": [
       "array([[ 2],\n",
       "       [ 2],\n",
       "       [ 2],\n",
       "       [ 2],\n",
       "       [ 2],\n",
       "       [ 2],\n",
       "       [ 2],\n",
       "       [ 8],\n",
       "       [ 2],\n",
       "       [ 4],\n",
       "       [ 5],\n",
       "       [ 1],\n",
       "       [ 2],\n",
       "       [ 7],\n",
       "       [ 7],\n",
       "       [ 1],\n",
       "       [ 8],\n",
       "       [ 5],\n",
       "       [ 5],\n",
       "       [ 3],\n",
       "       [ 5],\n",
       "       [ 7],\n",
       "       [ 7],\n",
       "       [ 1],\n",
       "       [ 1],\n",
       "       [ 8],\n",
       "       [ 7],\n",
       "       [ 7],\n",
       "       [ 7],\n",
       "       [ 8],\n",
       "       [ 1],\n",
       "       [ 2],\n",
       "       [ 3],\n",
       "       [ 5],\n",
       "       [ 7],\n",
       "       [ 1],\n",
       "       [ 2],\n",
       "       [ 2],\n",
       "       [ 3],\n",
       "       [ 3],\n",
       "       [ 4],\n",
       "       [ 7],\n",
       "       [ 7],\n",
       "       [ 8],\n",
       "       [ 5],\n",
       "       [ 8],\n",
       "       [ 8],\n",
       "       [ 1],\n",
       "       [ 2],\n",
       "       [ 4],\n",
       "       [ 4],\n",
       "       [ 7],\n",
       "       [ 1],\n",
       "       [ 1],\n",
       "       [ 3],\n",
       "       [ 3],\n",
       "       [ 4],\n",
       "       [ 4],\n",
       "       [ 5],\n",
       "       [ 7],\n",
       "       [10],\n",
       "       [ 1],\n",
       "       [ 2],\n",
       "       [ 8],\n",
       "       [ 8],\n",
       "       [ 3],\n",
       "       [ 8],\n",
       "       [ 8],\n",
       "       [ 2],\n",
       "       [ 3],\n",
       "       [ 3],\n",
       "       [ 4],\n",
       "       [ 4],\n",
       "       [ 4],\n",
       "       [ 5],\n",
       "       [ 8],\n",
       "       [ 5],\n",
       "       [ 5],\n",
       "       [ 7],\n",
       "       [ 7],\n",
       "       [ 2],\n",
       "       [ 3],\n",
       "       [ 7],\n",
       "       [ 8],\n",
       "       [ 1],\n",
       "       [ 1],\n",
       "       [ 2],\n",
       "       [ 3],\n",
       "       [ 4],\n",
       "       [ 5],\n",
       "       [ 4],\n",
       "       [ 7],\n",
       "       [ 8],\n",
       "       [ 1],\n",
       "       [ 1],\n",
       "       [ 5],\n",
       "       [ 3],\n",
       "       [ 3],\n",
       "       [ 6],\n",
       "       [ 9],\n",
       "       [10],\n",
       "       [ 1],\n",
       "       [ 5],\n",
       "       [ 2],\n",
       "       [ 4],\n",
       "       [ 5],\n",
       "       [ 8],\n",
       "       [ 9],\n",
       "       [10],\n",
       "       [ 1],\n",
       "       [ 3],\n",
       "       [ 7],\n",
       "       [ 8],\n",
       "       [ 3],\n",
       "       [ 4],\n",
       "       [ 8],\n",
       "       [ 1],\n",
       "       [ 3],\n",
       "       [ 7],\n",
       "       [10],\n",
       "       [ 6],\n",
       "       [ 6],\n",
       "       [ 6],\n",
       "       [ 7],\n",
       "       [ 5],\n",
       "       [ 8],\n",
       "       [ 9],\n",
       "       [ 9],\n",
       "       [ 3],\n",
       "       [ 6],\n",
       "       [ 9],\n",
       "       [10],\n",
       "       [ 5],\n",
       "       [ 9],\n",
       "       [ 9],\n",
       "       [10],\n",
       "       [ 1],\n",
       "       [ 3],\n",
       "       [ 5],\n",
       "       [ 6],\n",
       "       [ 1],\n",
       "       [ 4],\n",
       "       [ 4],\n",
       "       [ 5],\n",
       "       [ 5],\n",
       "       [ 9],\n",
       "       [10],\n",
       "       [ 3],\n",
       "       [10],\n",
       "       [ 6],\n",
       "       [ 9],\n",
       "       [10],\n",
       "       [10],\n",
       "       [ 9],\n",
       "       [10],\n",
       "       [10],\n",
       "       [10],\n",
       "       [ 4],\n",
       "       [ 1],\n",
       "       [ 6],\n",
       "       [10],\n",
       "       [ 4],\n",
       "       [ 4],\n",
       "       [ 6],\n",
       "       [10],\n",
       "       [ 9],\n",
       "       [10],\n",
       "       [ 6],\n",
       "       [ 6],\n",
       "       [ 4],\n",
       "       [ 9],\n",
       "       [ 6],\n",
       "       [10],\n",
       "       [ 2],\n",
       "       [ 6],\n",
       "       [10],\n",
       "       [ 8],\n",
       "       [10],\n",
       "       [ 9],\n",
       "       [ 9],\n",
       "       [ 6],\n",
       "       [ 9],\n",
       "       [ 6],\n",
       "       [ 9],\n",
       "       [ 9],\n",
       "       [ 6],\n",
       "       [ 9],\n",
       "       [ 9],\n",
       "       [ 6],\n",
       "       [ 8],\n",
       "       [ 6],\n",
       "       [ 6],\n",
       "       [ 4],\n",
       "       [ 2],\n",
       "       [ 3],\n",
       "       [ 7],\n",
       "       [ 6],\n",
       "       [ 9],\n",
       "       [10],\n",
       "       [ 5]], dtype=uint8)"
      ]
     },
     "execution_count": 27,
     "metadata": {},
     "output_type": "execute_result"
    }
   ],
   "source": [
    "ytrain"
   ]
  },
  {
   "cell_type": "code",
   "execution_count": 28,
   "metadata": {},
   "outputs": [
    {
     "data": {
      "text/plain": [
       "(200, 1)"
      ]
     },
     "execution_count": 28,
     "metadata": {},
     "output_type": "execute_result"
    }
   ],
   "source": [
    "xtrain.shape\n"
   ]
  },
  {
   "cell_type": "code",
   "execution_count": 29,
   "metadata": {},
   "outputs": [
    {
     "data": {
      "text/plain": [
       "array([[103, 104, 106, 101,  96,  88,  76,  62,  47,  36,  23,  13,   5,\n",
       "          1,   0,   1,   5,  12,  26,  42,  63,  84, 103, 119, 131, 142,\n",
       "        147, 150, 154, 153, 149, 140, 131, 115, 109, 110, 110],\n",
       "       [371, 371, 371, 368, 362, 352, 338, 322, 300, 289, 269, 254, 242,\n",
       "        230, 221, 213, 204, 198, 193, 189, 193, 193, 194, 194, 195, 196,\n",
       "        193, 190, 184, 172, 153, 130, 103,  70,  38,  15,   0]],\n",
       "      dtype=uint16)"
      ]
     },
     "execution_count": 29,
     "metadata": {},
     "output_type": "execute_result"
    }
   ],
   "source": [
    "xtrain[20][0][:][:]"
   ]
  },
  {
   "cell_type": "code",
   "execution_count": 30,
   "metadata": {},
   "outputs": [
    {
     "data": {
      "text/plain": [
       "array([[ 66,  66,  66,  67,  66,  67,  66,  66,  66,  65,  66,  64,  65,\n",
       "         65,  66,  66,  68,  68,  68,  70,  71,  72,  73,  74,  79,  80,\n",
       "         81,  82,  82,  81,  79,  76,  72,  67,  61,  55,  47,  40,  31,\n",
       "         24,  17,  12,   7,   3,   1,   0],\n",
       "       [  0,   1,   2,   3,   3,   3,   3,   5,   7,  11,  17,  25,  38,\n",
       "         54,  70,  88, 109, 135, 152, 170, 187, 201, 213, 224, 248, 252,\n",
       "        256, 259, 260, 260, 258, 254, 248, 242, 233, 223, 212, 200, 181,\n",
       "        169, 159, 153, 148, 143, 136, 134]], dtype=uint16)"
      ]
     },
     "execution_count": 30,
     "metadata": {},
     "output_type": "execute_result"
    }
   ],
   "source": [
    "xtrain[80][0][:][:]"
   ]
  },
  {
   "cell_type": "code",
   "execution_count": 31,
   "metadata": {},
   "outputs": [
    {
     "data": {
      "image/png": "[encoded data removed]",
      "text/plain": [
       "<Figure size 640x480 with 1 Axes>"
      ]
     },
     "metadata": {},
     "output_type": "display_data"
    }
   ],
   "source": [
    "plt.plot(xtrain[100][0][0][:], xtrain[100][0][1][:])\n",
    "plt.axis('on')\n",
    "plt.show()"
   ]
  },
  {
   "cell_type": "code",
   "execution_count": 32,
   "metadata": {},
   "outputs": [
    {
     "data": {
      "image/png": "[encoded data removed]",
      "text/plain": [
       "<Figure size 640x480 with 2 Axes>"
      ]
     },
     "metadata": {},
     "output_type": "display_data"
    }
   ],
   "source": [
    "fig, axs = plt.subplots(2)\n",
    "axs[0].plot(xtrain[100][0][0][:],)\n",
    "axs[0].set_title('Y')\n",
    "axs[1].plot(xtrain[100][0][1][:], 'tab:red')\n",
    "axs[1].set_title('X')\n",
    "\n",
    "plt.axis('on')\n",
    "plt.show()"
   ]
  },
  {
   "cell_type": "code",
   "execution_count": 33,
   "metadata": {},
   "outputs": [],
   "source": [
    "# x = []\n",
    "# y = []\n",
    "\n",
    "# for num in range(200):\n",
    "#     x.append(xtrain[num][0][1][:].astype(int))\n",
    "#     y.append(xtrain[num][0][0][:].astype(int))\n",
    "\n",
    "\n",
    "# x_test = []\n",
    "# y_test = []\n",
    "# for num in range(98):\n",
    "#     x_test.append(XTest[num][0][1][:].astype(int))\n",
    "#     x_test.append(XTest[num][0][0][:].astype(int))\n",
    "\n"
   ]
  },
  {
   "cell_type": "code",
   "execution_count": 34,
   "metadata": {},
   "outputs": [],
   "source": [
    "# x = []\n",
    "# y = []\n",
    "# max_length = 0  # Variable to keep track of the longest sequence\n",
    "\n",
    "# for num in range(200):\n",
    "#     x_sequence = xtrain[num][0][1][:].astype(int)\n",
    "#     y_sequence = xtrain[num][0][0][:].astype(int)\n",
    "    \n",
    "#     # Append the sequences to the lists\n",
    "#     x.append(x_sequence)\n",
    "#     y.append(y_sequence)\n",
    "\n",
    "#     # Update max_length if a longer sequence is found\n",
    "#     max_length = max(max_length, len(x_sequence), len(y_sequence))\n",
    "\n",
    "# x_test = []\n",
    "# y_test = []\n",
    "\n",
    "# for num in range(98):\n",
    "#     x_test_sequence = XTest[num][0][1][:].astype(int)\n",
    "#     y_test_sequence = XTest[num][0][0][:].astype(int)\n",
    "    \n",
    "#     # Append the sequences to the test lists\n",
    "#     x_test.append(x_test_sequence)\n",
    "#     y_test.append(y_test_sequence)\n",
    "\n",
    "#     # Update max_length for test data as well\n",
    "#     max_length = max(max_length, len(x_test_sequence), len(y_test_sequence))\n",
    "\n",
    "# # Now max_length holds the length of the longest sequence\n",
    "# print(\"Longest sequence length:\", max_length)"
   ]
  },
  {
   "cell_type": "code",
   "execution_count": 35,
   "metadata": {},
   "outputs": [],
   "source": [
    "\n",
    "train_label = []\n",
    "test_label = []\n",
    "\n",
    "for num in range(200):\n",
    "    train_label.append((ytrain[num][0].astype(int)) - 1)\n",
    "\n",
    "\n",
    "for num in range(98):\n",
    "    test_label.append((YTest[num][0].astype(int)) - 1)\n",
    "\n"
   ]
  },
  {
   "cell_type": "code",
   "execution_count": 36,
   "metadata": {},
   "outputs": [
    {
     "name": "stdout",
     "output_type": "stream",
     "text": [
      "shortest sequence length: 163\n"
     ]
    }
   ],
   "source": [
    "import numpy as np\n",
    "\n",
    "# Assuming xtrain and XTest are your training and testing datasets\n",
    "x = []\n",
    "y = []\n",
    "x_sin_all = []\n",
    "y_sin_all =[]\n",
    "minn = 1\n",
    "max_length = 163  # The longest sequence length determined earlier\n",
    "\n",
    "\n",
    "def pad_sequence(seq, max_len):\n",
    "    \"\"\" Pads the sequence to the max_len with zeros. \"\"\"\n",
    "   \n",
    "    padding_length = max_len - len(seq)\n",
    "    return np.pad(seq, (0, padding_length), mode='constant')\n",
    "\n",
    "for num in range(200):\n",
    "    x_sequence = xtrain[num][0][1][:].astype(int)\n",
    "    y_sequence = xtrain[num][0][0][:].astype(int)\n",
    "\n",
    "    \n",
    "    x_sequence_padded = pad_sequence(x_sequence, max_length)\n",
    "    y_sequence_padded = pad_sequence(y_sequence, max_length)\n",
    "    minn = max(max_length, len(y_sequence_padded), len(x_sequence_padded))\n",
    "    # Append the padded sequences to the lists\n",
    "    x_sin = np.sin(x_sequence_padded)\n",
    "    y_sin = np.sin(y_sequence_padded)\n",
    "\n",
    "    x_sin_all.append(x_sin)\n",
    "    y_sin_all.append(y_sin)\n",
    "    x.append(x_sequence_padded)\n",
    "    y.append(y_sequence_padded)\n",
    "\n",
    "x_test = []\n",
    "y_test = []\n",
    "x_test_sin_all = []\n",
    "y_test_sin_all = []\n",
    "\n",
    "for num in range(98):\n",
    "    \n",
    "    x_test_sequence = XTest[num][0][1][:].astype(int)\n",
    "    y_test_sequence = XTest[num][0][0][:].astype(int)\n",
    "    \n",
    " \n",
    "    # Pad the sequences\n",
    "    x_test_sequence_padded = pad_sequence(x_test_sequence, max_length)\n",
    "    y_test_sequence_padded = pad_sequence(y_test_sequence, max_length)\n",
    "    minn = max(max_length, len(x_test_sequence_padded), len(y_test_sequence_padded))\n",
    "    x_test_sin = np.sin(x_test_sequence_padded)\n",
    "    y_test_sin = np.sin(y_test_sequence_padded)\n",
    "    # Append the padded sequences to the test lists\n",
    "\n",
    "    x_test_sin_all.append(x_test_sin)\n",
    "    y_test_sin_all.append(y_test_sin)\n",
    "    x_test.append(x_test_sequence_padded)\n",
    "    y_test.append(y_test_sequence_padded)\n",
    "\n",
    "paired_train_data = list(zip(x, y, x_sin_all, y_sin_all))\n",
    "paired_test_data = list(zip(x_test, y_test, x_test_sin_all, y_test_sin_all))\n",
    "print(\"shortest sequence length:\", minn)\n"
   ]
  },
  {
   "cell_type": "code",
   "execution_count": 37,
   "metadata": {},
   "outputs": [
    {
     "name": "stdout",
     "output_type": "stream",
     "text": [
      "200\n",
      "<class 'numpy.ndarray'>\n",
      "<class 'numpy.int32'>\n"
     ]
    }
   ],
   "source": [
    "print(len(paired_train_data))\n",
    "print(type(y[1]))\n",
    "print(type(train_label[1]))"
   ]
  },
  {
   "cell_type": "code",
   "execution_count": 38,
   "metadata": {},
   "outputs": [],
   "source": [
    "\n",
    "\n",
    "class CustomDataset(Dataset):\n",
    "    def __init__(self, x, y, x_sin_all, y_sin_all, labels):\n",
    "        self.x = x\n",
    "        self.y = y\n",
    "        self.x_sin_all = x_sin_all\n",
    "        self.y_sin_all = y_sin_all\n",
    "        self.labels = labels\n",
    "        \n",
    "    def __len__(self):\n",
    "        return len(self.labels)\n",
    "    \n",
    "    def __getitem__(self, idx):\n",
    "        # Assuming each sequence is a 1D array and needs to be reshaped\n",
    "        x = torch.tensor(self.x[idx], dtype=torch.float32).view(-1, 1)\n",
    "        y = torch.tensor(self.y[idx], dtype=torch.float32).view(-1, 1)\n",
    "        x_sin_all = torch.tensor(self.x_sin_all[idx], dtype=torch.float32).view(-1, 1)\n",
    "        y_sin_all = torch.tensor(self.y_sin_all[idx], dtype=torch.float32).view(-1, 1)\n",
    "        label = torch.tensor(self.labels[idx], dtype=torch.long)  # Assuming labels are integers\n",
    "        \n",
    "        return x, y, x_sin_all, y_sin_all, label\n"
   ]
  },
  {
   "cell_type": "code",
   "execution_count": 39,
   "metadata": {},
   "outputs": [],
   "source": [
    "dataset = CustomDataset(x, y, x_sin_all, y_sin_all, train_label)\n",
    "dataset_test = CustomDataset(x_test, y_test, x_test_sin_all, y_test_sin_all, test_label)"
   ]
  },
  {
   "cell_type": "code",
   "execution_count": 40,
   "metadata": {},
   "outputs": [],
   "source": [
    "train_loader = DataLoader(dataset, batch_size=8, shuffle=True)\n",
    "test_loader = DataLoader(dataset_test, batch_size=8, shuffle=False)\n"
   ]
  },
  {
   "cell_type": "code",
   "execution_count": 41,
   "metadata": {},
   "outputs": [],
   "source": [
    "\n",
    "device = torch.device(\"cuda\" if torch.cuda.is_available() else \"cpu\")\n",
    "\n",
    "class DualInputLSTM(nn.Module):\n",
    "    def __init__(self, input_size, hidden_size, num_layers, num_classes=10):\n",
    "        super(DualInputLSTM, self).__init__()\n",
    "        \n",
    "        self.num_layers = num_layers\n",
    "        self.hidden_size = hidden_size\n",
    "        self.lstm1 = nn.LSTM(input_size, hidden_size, num_layers, dropout=0.2, batch_first=True)\n",
    "        self.lstm2 = nn.LSTM(input_size, hidden_size, num_layers, dropout=0.2, batch_first=True)\n",
    "        self.lstm3 = nn.LSTM(input_size, hidden_size, num_layers, dropout=0.2, batch_first=True)\n",
    "        self.lstm4 = nn.LSTM(input_size, hidden_size, num_layers, dropout=0.2, batch_first=True)\n",
    "        self.fc2 = nn.Linear(hidden_size * 4, num_classes)\n",
    "\n",
    "    def forward(self, x1, x2, x3, x4):\n",
    "\n",
    "        h0 = torch.zeros(self.num_layers, x1.size(0), self.hidden_size)\n",
    "        c0 = torch.zeros(self.num_layers, x1.size(0), self.hidden_size)\n",
    "        h1 = torch.zeros(self.num_layers, x2.size(0), self.hidden_size)\n",
    "        c1 = torch.zeros(self.num_layers, x2.size(0), self.hidden_size)\n",
    "        h2 = torch.zeros(self.num_layers, x3.size(0), self.hidden_size)\n",
    "        c2 = torch.zeros(self.num_layers, x3.size(0), self.hidden_size)\n",
    "        h3 = torch.zeros(self.num_layers, x4.size(0), self.hidden_size)\n",
    "        c3 = torch.zeros(self.num_layers, x4.size(0), self.hidden_size)\n",
    "\n",
    "        lstm_one, _ = self.lstm1(x1, (h0, c0))\n",
    "        lstm_one = lstm_one[:, -1, :] \n",
    "\n",
    "        lstm_two, _ = self.lstm2(x2, (h1, c1))\n",
    "        lstm_two = lstm_two[:, -1, :]  \n",
    "\n",
    "        lstm_three, _ = self.lstm3(x3, (h2, c2))\n",
    "        lstm_three = lstm_three[:, -1, :]  \n",
    "\n",
    "        lstm_four, _ = self.lstm4(x4, (h3, c3))\n",
    "        lstm_four = lstm_four[:, -1, :]  \n",
    "\n",
    "        xx = torch.cat([lstm_one, lstm_two, lstm_three, lstm_four], dim=1)\n",
    "        \n",
    "        out = self.fc2(xx)\n",
    "        return out\n",
    "\n",
    "# Creating the model instance\n",
    "\n"
   ]
  },
  {
   "cell_type": "code",
   "execution_count": 42,
   "metadata": {},
   "outputs": [
    {
     "name": "stdout",
     "output_type": "stream",
     "text": [
      "Starting Run 1\n"
     ]
    },
    {
     "name": "stdout",
     "output_type": "stream",
     "text": [
      "Epoch [1/150], Training Loss: 2.3284, Validation Loss: 2.3040, Accuracy: 10.20%\n",
      "Epoch [2/150], Training Loss: 2.3060, Validation Loss: 2.3059, Accuracy: 11.22%\n",
      "Epoch [3/150], Training Loss: 2.3057, Validation Loss: 2.3706, Accuracy: 7.14%\n",
      "Epoch [4/150], Training Loss: 2.3014, Validation Loss: 2.3167, Accuracy: 12.24%\n",
      "Epoch [5/150], Training Loss: 2.2966, Validation Loss: 2.4038, Accuracy: 7.14%\n",
      "Epoch [6/150], Training Loss: 2.2914, Validation Loss: 2.4283, Accuracy: 7.14%\n",
      "Epoch [7/150], Training Loss: 2.2930, Validation Loss: 2.4447, Accuracy: 9.18%\n",
      "Epoch [8/150], Training Loss: 2.2911, Validation Loss: 2.4092, Accuracy: 9.18%\n",
      "Epoch [9/150], Training Loss: 2.2865, Validation Loss: 2.4365, Accuracy: 14.29%\n",
      "Epoch [10/150], Training Loss: 2.2833, Validation Loss: 2.4400, Accuracy: 12.24%\n",
      "Epoch [11/150], Training Loss: 2.2838, Validation Loss: 2.4702, Accuracy: 9.18%\n",
      "Epoch [12/150], Training Loss: 2.2842, Validation Loss: 2.4372, Accuracy: 12.24%\n",
      "Epoch [13/150], Training Loss: 2.2822, Validation Loss: 2.4257, Accuracy: 9.18%\n",
      "Epoch [14/150], Training Loss: 2.2852, Validation Loss: 2.4739, Accuracy: 7.14%\n",
      "Epoch [15/150], Training Loss: 2.2842, Validation Loss: 2.4222, Accuracy: 12.24%\n",
      "Epoch [16/150], Training Loss: 2.2839, Validation Loss: 2.3758, Accuracy: 11.22%\n",
      "Epoch [17/150], Training Loss: 2.2996, Validation Loss: 2.4490, Accuracy: 7.14%\n",
      "Epoch [18/150], Training Loss: 2.2957, Validation Loss: 2.3396, Accuracy: 14.29%\n",
      "Epoch [19/150], Training Loss: 2.2880, Validation Loss: 2.3580, Accuracy: 14.29%\n",
      "Epoch [20/150], Training Loss: 2.2897, Validation Loss: 2.3700, Accuracy: 12.24%\n",
      "Epoch [21/150], Training Loss: 2.2848, Validation Loss: 2.3744, Accuracy: 9.18%\n",
      "Epoch [22/150], Training Loss: 2.2819, Validation Loss: 2.3740, Accuracy: 11.22%\n",
      "Epoch [23/150], Training Loss: 2.2834, Validation Loss: 2.3793, Accuracy: 11.22%\n",
      "Epoch [24/150], Training Loss: 2.2805, Validation Loss: 2.3805, Accuracy: 14.29%\n",
      "Epoch [25/150], Training Loss: 2.2804, Validation Loss: 2.3829, Accuracy: 14.29%\n",
      "Epoch [26/150], Training Loss: 2.2784, Validation Loss: 2.3963, Accuracy: 7.14%\n",
      "Epoch [27/150], Training Loss: 2.2788, Validation Loss: 2.3970, Accuracy: 14.29%\n",
      "Epoch [28/150], Training Loss: 2.2785, Validation Loss: 2.4013, Accuracy: 11.22%\n",
      "Epoch [29/150], Training Loss: 2.2790, Validation Loss: 2.4013, Accuracy: 11.22%\n",
      "Epoch [30/150], Training Loss: 2.2704, Validation Loss: 2.4252, Accuracy: 14.29%\n",
      "Epoch [31/150], Training Loss: 2.2699, Validation Loss: 2.4312, Accuracy: 14.29%\n",
      "Epoch [32/150], Training Loss: 2.2669, Validation Loss: 2.4517, Accuracy: 7.14%\n",
      "Epoch [33/150], Training Loss: 2.2680, Validation Loss: 2.4459, Accuracy: 7.14%\n"
     ]
    },
    {
     "ename": "KeyboardInterrupt",
     "evalue": "",
     "output_type": "error",
     "traceback": [
      "\u001b[1;31m---------------------------------------------------------------------------\u001b[0m",
      "\u001b[1;31mKeyboardInterrupt\u001b[0m                         Traceback (most recent call last)",
      "\u001b[1;32m~\\AppData\\Local\\Temp\\ipykernel_5012\\3454420943.py\u001b[0m in \u001b[0;36m<module>\u001b[1;34m\u001b[0m\n\u001b[0;32m     29\u001b[0m             \u001b[0moutputs\u001b[0m \u001b[1;33m=\u001b[0m \u001b[0mmodel\u001b[0m\u001b[1;33m(\u001b[0m\u001b[0mx1\u001b[0m\u001b[1;33m,\u001b[0m \u001b[0mx2\u001b[0m\u001b[1;33m,\u001b[0m \u001b[0mx3\u001b[0m\u001b[1;33m,\u001b[0m \u001b[0mx4\u001b[0m\u001b[1;33m)\u001b[0m\u001b[1;33m\u001b[0m\u001b[1;33m\u001b[0m\u001b[0m\n\u001b[0;32m     30\u001b[0m             \u001b[0mloss\u001b[0m \u001b[1;33m=\u001b[0m \u001b[0mcriterion\u001b[0m\u001b[1;33m(\u001b[0m\u001b[0moutputs\u001b[0m\u001b[1;33m,\u001b[0m \u001b[0mlabels\u001b[0m\u001b[1;33m.\u001b[0m\u001b[0mlong\u001b[0m\u001b[1;33m(\u001b[0m\u001b[1;33m)\u001b[0m\u001b[1;33m)\u001b[0m\u001b[1;33m\u001b[0m\u001b[1;33m\u001b[0m\u001b[0m\n\u001b[1;32m---> 31\u001b[1;33m             \u001b[0mloss\u001b[0m\u001b[1;33m.\u001b[0m\u001b[0mbackward\u001b[0m\u001b[1;33m(\u001b[0m\u001b[1;33m)\u001b[0m\u001b[1;33m\u001b[0m\u001b[1;33m\u001b[0m\u001b[0m\n\u001b[0m\u001b[0;32m     32\u001b[0m             \u001b[0moptimizer\u001b[0m\u001b[1;33m.\u001b[0m\u001b[0mstep\u001b[0m\u001b[1;33m(\u001b[0m\u001b[1;33m)\u001b[0m\u001b[1;33m\u001b[0m\u001b[1;33m\u001b[0m\u001b[0m\n\u001b[0;32m     33\u001b[0m             \u001b[0mtotal_train_loss\u001b[0m \u001b[1;33m+=\u001b[0m \u001b[0mloss\u001b[0m\u001b[1;33m.\u001b[0m\u001b[0mitem\u001b[0m\u001b[1;33m(\u001b[0m\u001b[1;33m)\u001b[0m\u001b[1;33m\u001b[0m\u001b[1;33m\u001b[0m\u001b[0m\n",
      "\u001b[1;32mc:\\Users\\denis\\anaconda3\\lib\\site-packages\\torch\\_tensor.py\u001b[0m in \u001b[0;36mbackward\u001b[1;34m(self, gradient, retain_graph, create_graph, inputs)\u001b[0m\n\u001b[0;32m    485\u001b[0m                 \u001b[0minputs\u001b[0m\u001b[1;33m=\u001b[0m\u001b[0minputs\u001b[0m\u001b[1;33m,\u001b[0m\u001b[1;33m\u001b[0m\u001b[1;33m\u001b[0m\u001b[0m\n\u001b[0;32m    486\u001b[0m             )\n\u001b[1;32m--> 487\u001b[1;33m         torch.autograd.backward(\n\u001b[0m\u001b[0;32m    488\u001b[0m             \u001b[0mself\u001b[0m\u001b[1;33m,\u001b[0m \u001b[0mgradient\u001b[0m\u001b[1;33m,\u001b[0m \u001b[0mretain_graph\u001b[0m\u001b[1;33m,\u001b[0m \u001b[0mcreate_graph\u001b[0m\u001b[1;33m,\u001b[0m \u001b[0minputs\u001b[0m\u001b[1;33m=\u001b[0m\u001b[0minputs\u001b[0m\u001b[1;33m\u001b[0m\u001b[1;33m\u001b[0m\u001b[0m\n\u001b[0;32m    489\u001b[0m         )\n",
      "\u001b[1;32mc:\\Users\\denis\\anaconda3\\lib\\site-packages\\torch\\autograd\\__init__.py\u001b[0m in \u001b[0;36mbackward\u001b[1;34m(tensors, grad_tensors, retain_graph, create_graph, grad_variables, inputs)\u001b[0m\n\u001b[0;32m    198\u001b[0m     \u001b[1;31m# some Python versions print out the first line of a multi-line function\u001b[0m\u001b[1;33m\u001b[0m\u001b[1;33m\u001b[0m\u001b[0m\n\u001b[0;32m    199\u001b[0m     \u001b[1;31m# calls in the traceback and some print out the last line\u001b[0m\u001b[1;33m\u001b[0m\u001b[1;33m\u001b[0m\u001b[0m\n\u001b[1;32m--> 200\u001b[1;33m     Variable._execution_engine.run_backward(  # Calls into the C++ engine to run the backward pass\n\u001b[0m\u001b[0;32m    201\u001b[0m         \u001b[0mtensors\u001b[0m\u001b[1;33m,\u001b[0m \u001b[0mgrad_tensors_\u001b[0m\u001b[1;33m,\u001b[0m \u001b[0mretain_graph\u001b[0m\u001b[1;33m,\u001b[0m \u001b[0mcreate_graph\u001b[0m\u001b[1;33m,\u001b[0m \u001b[0minputs\u001b[0m\u001b[1;33m,\u001b[0m\u001b[1;33m\u001b[0m\u001b[1;33m\u001b[0m\u001b[0m\n\u001b[0;32m    202\u001b[0m         allow_unreachable=True, accumulate_grad=True)  # Calls into the C++ engine to run the backward pass\n",
      "\u001b[1;31mKeyboardInterrupt\u001b[0m: "
     ]
    }
   ],
   "source": [
    "import torch\n",
    "import matplotlib.pyplot as plt\n",
    "from torch.utils.data import DataLoader\n",
    "from torch.nn import CrossEntropyLoss\n",
    "from torch.optim import Adam\n",
    "\n",
    "# Assuming DualInputLSTM and your datasets are correctly defined\n",
    "\n",
    "best_accuracy = 0.0\n",
    "\n",
    "# Training and Validation loop\n",
    "num_epochs = 150\n",
    "for run in range(4):\n",
    "\n",
    "    print(f\"Starting Run {run+1}\")\n",
    "    model = DualInputLSTM(1, 128, 3)\n",
    "    criterion = CrossEntropyLoss()\n",
    "    optimizer = Adam(model.parameters(), lr=0.001)\n",
    "\n",
    "    train_loss_values = []\n",
    "    val_loss_values = []\n",
    "\n",
    "    for epoch in range(num_epochs):\n",
    "        model.train()\n",
    "        total_train_loss = 0.0\n",
    "\n",
    "        for x1, x2, x3, x4, labels in train_loader:\n",
    "            optimizer.zero_grad()\n",
    "            outputs = model(x1, x2, x3, x4)\n",
    "            loss = criterion(outputs, labels.long())\n",
    "            loss.backward()\n",
    "            optimizer.step()\n",
    "            total_train_loss += loss.item()\n",
    "        \n",
    "        avg_train_loss = total_train_loss / len(train_loader)\n",
    "        train_loss_values.append(avg_train_loss)\n",
    "\n",
    "        # Validation phase\n",
    "        model.eval()\n",
    "        total_val_loss = 0.0\n",
    "        correct = 0\n",
    "        total = 0\n",
    "        with torch.no_grad():\n",
    "            for x1, x2, x3, x4, labels in test_loader:\n",
    "                outputs = model(x1, x2, x3, x4)\n",
    "                loss = criterion(outputs, labels.long())\n",
    "                total_val_loss += loss.item()\n",
    "\n",
    "                _, predicted = torch.max(outputs.data, 1)\n",
    "                total += labels.size(0)\n",
    "                correct += (predicted == labels).sum().item()\n",
    "        \n",
    "        avg_val_loss = total_val_loss / len(test_loader)\n",
    "        val_loss_values.append(avg_val_loss)\n",
    "        accuracy = 100 * correct / total\n",
    "\n",
    "        print(f\"Epoch [{epoch+1}/{num_epochs}], Training Loss: {avg_train_loss:.4f}, Validation Loss: {avg_val_loss:.4f}, Accuracy: {accuracy:.2f}%\")\n",
    "\n",
    "        # Save the model with the highest accuracy after 30 epochs\n",
    "        if epoch >= 40 and accuracy > best_accuracy:\n",
    "            best_accuracy = accuracy\n",
    " \n",
    "            torch.save(model.state_dict(), 'best_model.pth')\n",
    "            \n",
    "\n",
    "# Plotting the training and validation loss\n",
    "    plt.figure(figsize=(10, 5))\n",
    "    plt.plot(train_loss_values, label='Training Loss')\n",
    "    plt.plot(val_loss_values, label='Validation Loss')\n",
    "    plt.title(\"Training and Validation Loss Per Epoch\")\n",
    "    plt.xlabel(\"Epochs\")\n",
    "    plt.ylabel(\"Loss\")\n",
    "    plt.legend()\n",
    "    plt.show()\n",
    "\n",
    "    print(f\"Best Test acc: {best_accuracy}\")"
   ]
  },
  {
   "cell_type": "code",
   "execution_count": null,
   "metadata": {},
   "outputs": [
    {
     "name": "stdout",
     "output_type": "stream",
     "text": [
      "Test Accuracy: 90.82%\n"
     ]
    }
   ],
   "source": [
    "model = DualInputLSTM(2, 128, 3)\n",
    "\n",
    "# Load the saved model weights\n",
    "model.load_state_dict(torch.load('best_model-90acc.pth'))\n",
    "\n",
    "model.eval()\n",
    "correct = 0\n",
    "total = 0\n",
    "index = 0\n",
    "with torch.no_grad():\n",
    "\n",
    "    for x1, labels in test_loader:\n",
    "        # if index == 2:\n",
    "        #     print(x1)\n",
    "        outputs = model(x1)\n",
    "        _, predicted = torch.max(outputs.data, 1)\n",
    "        total += labels.size(0)\n",
    "        correct += (predicted == labels).sum().item()\n",
    "        index = index + 1\n",
    "\n",
    "print(f\"Test Accuracy: {100 * correct / total:.2f}%\")\n"
   ]
  },
  {
   "cell_type": "markdown",
   "metadata": {},
   "source": []
  }
 ],
 "metadata": {
  "kernelspec": {
   "display_name": "base",
   "language": "python",
   "name": "python3"
  },
  "language_info": {
   "codemirror_mode": {
    "name": "ipython",
    "version": 3
   },
   "file_extension": ".py",
   "mimetype": "text/x-python",
   "name": "python",
   "nbconvert_exporter": "python",
   "pygments_lexer": "ipython3",
   "version": "3.9.13"
  },
  "orig_nbformat": 4
 },
 "nbformat": 4,
 "nbformat_minor": 2
}
